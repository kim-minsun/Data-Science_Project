{
  "nbformat": 4,
  "nbformat_minor": 0,
  "metadata": {
    "colab": {
      "name": "Data-Science-Project.ipynb",
      "provenance": [],
      "include_colab_link": true
    },
    "kernelspec": {
      "name": "python3",
      "display_name": "Python 3"
    },
    "language_info": {
      "name": "python"
    }
  },
  "cells": [
    {
      "cell_type": "markdown",
      "metadata": {
        "id": "view-in-github",
        "colab_type": "text"
      },
      "source": [
        "<a href=\"https://colab.research.google.com/github/kim-minsun/Data-Science_Project/blob/Zac/Data_Science_Project.ipynb\" target=\"_parent\"><img src=\"https://colab.research.google.com/assets/colab-badge.svg\" alt=\"Open In Colab\"/></a>"
      ]
    },
    {
      "cell_type": "code",
      "metadata": {
        "id": "HfkAT0BV8ngy"
      },
      "source": [
        "import numpy as np\n",
        "import matplotlib.pyplot as plt\n",
        "import pandas as pd\n",
        "import pandas_datareader as web\n",
        "import datetime as dt"
      ],
      "execution_count": 2,
      "outputs": []
    },
    {
      "cell_type": "code",
      "metadata": {
        "id": "q2wejlLd9DeC"
      },
      "source": [
        "from sklearn.preprocessing import MinMaxScaler\n",
        "from tensorflow.keras.layers import Dense, Dropout, LSTM\n",
        "from tensorflow.keras.models import Sequential"
      ],
      "execution_count": 3,
      "outputs": []
    },
    {
      "cell_type": "code",
      "metadata": {
        "id": "27g_VsDI9G5Z"
      },
      "source": [
        "crypto = 'ETH'\n",
        "currency = 'USD'\n",
        "\n",
        "start = dt.datetime(2016,1,1)\n",
        "end = dt.datetime.now()\n",
        "\n",
        "data = web.DataReader(f\"{crypto}-{currency}\", \"yahoo\", start, end)"
      ],
      "execution_count": 4,
      "outputs": []
    },
    {
      "cell_type": "code",
      "metadata": {
        "id": "JNrcBwvT9OoX"
      },
      "source": [
        "data.index = pd.to_datetime(data.index)"
      ],
      "execution_count": 5,
      "outputs": []
    },
    {
      "cell_type": "code",
      "metadata": {
        "id": "UTKaLESl9QRQ",
        "colab": {
          "base_uri": "https://localhost:8080/",
          "height": 455
        },
        "outputId": "3959a04e-d594-473a-c5ef-d46c8434c612"
      },
      "source": [
        "data"
      ],
      "execution_count": 6,
      "outputs": [
        {
          "output_type": "execute_result",
          "data": {
            "text/html": [
              "<div>\n",
              "<style scoped>\n",
              "    .dataframe tbody tr th:only-of-type {\n",
              "        vertical-align: middle;\n",
              "    }\n",
              "\n",
              "    .dataframe tbody tr th {\n",
              "        vertical-align: top;\n",
              "    }\n",
              "\n",
              "    .dataframe thead th {\n",
              "        text-align: right;\n",
              "    }\n",
              "</style>\n",
              "<table border=\"1\" class=\"dataframe\">\n",
              "  <thead>\n",
              "    <tr style=\"text-align: right;\">\n",
              "      <th></th>\n",
              "      <th>High</th>\n",
              "      <th>Low</th>\n",
              "      <th>Open</th>\n",
              "      <th>Close</th>\n",
              "      <th>Volume</th>\n",
              "      <th>Adj Close</th>\n",
              "    </tr>\n",
              "    <tr>\n",
              "      <th>Date</th>\n",
              "      <th></th>\n",
              "      <th></th>\n",
              "      <th></th>\n",
              "      <th></th>\n",
              "      <th></th>\n",
              "      <th></th>\n",
              "    </tr>\n",
              "  </thead>\n",
              "  <tbody>\n",
              "    <tr>\n",
              "      <th>2016-01-01</th>\n",
              "      <td>0.954822</td>\n",
              "      <td>0.931442</td>\n",
              "      <td>0.933712</td>\n",
              "      <td>0.948024</td>\n",
              "      <td>2.060620e+05</td>\n",
              "      <td>0.948024</td>\n",
              "    </tr>\n",
              "    <tr>\n",
              "      <th>2016-01-02</th>\n",
              "      <td>0.969637</td>\n",
              "      <td>0.936560</td>\n",
              "      <td>0.947401</td>\n",
              "      <td>0.937124</td>\n",
              "      <td>2.555040e+05</td>\n",
              "      <td>0.937124</td>\n",
              "    </tr>\n",
              "    <tr>\n",
              "      <th>2016-01-03</th>\n",
              "      <td>0.991362</td>\n",
              "      <td>0.934313</td>\n",
              "      <td>0.938430</td>\n",
              "      <td>0.971905</td>\n",
              "      <td>4.076320e+05</td>\n",
              "      <td>0.971905</td>\n",
              "    </tr>\n",
              "    <tr>\n",
              "      <th>2016-01-04</th>\n",
              "      <td>0.976438</td>\n",
              "      <td>0.929835</td>\n",
              "      <td>0.972045</td>\n",
              "      <td>0.954480</td>\n",
              "      <td>3.462450e+05</td>\n",
              "      <td>0.954480</td>\n",
              "    </tr>\n",
              "    <tr>\n",
              "      <th>2016-01-05</th>\n",
              "      <td>0.970597</td>\n",
              "      <td>0.946543</td>\n",
              "      <td>0.953147</td>\n",
              "      <td>0.950176</td>\n",
              "      <td>2.198330e+05</td>\n",
              "      <td>0.950176</td>\n",
              "    </tr>\n",
              "    <tr>\n",
              "      <th>...</th>\n",
              "      <td>...</td>\n",
              "      <td>...</td>\n",
              "      <td>...</td>\n",
              "      <td>...</td>\n",
              "      <td>...</td>\n",
              "      <td>...</td>\n",
              "    </tr>\n",
              "    <tr>\n",
              "      <th>2021-06-25</th>\n",
              "      <td>1850.179810</td>\n",
              "      <td>1719.559448</td>\n",
              "      <td>1810.884277</td>\n",
              "      <td>1829.239258</td>\n",
              "      <td>2.063754e+10</td>\n",
              "      <td>1829.239258</td>\n",
              "    </tr>\n",
              "    <tr>\n",
              "      <th>2021-06-26</th>\n",
              "      <td>1979.958130</td>\n",
              "      <td>1811.245850</td>\n",
              "      <td>1830.996948</td>\n",
              "      <td>1978.894653</td>\n",
              "      <td>1.988547e+10</td>\n",
              "      <td>1978.894653</td>\n",
              "    </tr>\n",
              "    <tr>\n",
              "      <th>2021-06-27</th>\n",
              "      <td>2139.805420</td>\n",
              "      <td>1963.615479</td>\n",
              "      <td>1981.386475</td>\n",
              "      <td>2079.657471</td>\n",
              "      <td>2.551460e+10</td>\n",
              "      <td>2079.657471</td>\n",
              "    </tr>\n",
              "    <tr>\n",
              "      <th>2021-06-28</th>\n",
              "      <td>2242.238770</td>\n",
              "      <td>2076.240234</td>\n",
              "      <td>2083.448730</td>\n",
              "      <td>2160.768311</td>\n",
              "      <td>2.481512e+10</td>\n",
              "      <td>2160.768311</td>\n",
              "    </tr>\n",
              "    <tr>\n",
              "      <th>2021-06-30</th>\n",
              "      <td>2278.164307</td>\n",
              "      <td>2096.053223</td>\n",
              "      <td>2160.036621</td>\n",
              "      <td>2266.849121</td>\n",
              "      <td>2.526527e+10</td>\n",
              "      <td>2266.849121</td>\n",
              "    </tr>\n",
              "  </tbody>\n",
              "</table>\n",
              "<p>2004 rows × 6 columns</p>\n",
              "</div>"
            ],
            "text/plain": [
              "                   High          Low  ...        Volume    Adj Close\n",
              "Date                                  ...                           \n",
              "2016-01-01     0.954822     0.931442  ...  2.060620e+05     0.948024\n",
              "2016-01-02     0.969637     0.936560  ...  2.555040e+05     0.937124\n",
              "2016-01-03     0.991362     0.934313  ...  4.076320e+05     0.971905\n",
              "2016-01-04     0.976438     0.929835  ...  3.462450e+05     0.954480\n",
              "2016-01-05     0.970597     0.946543  ...  2.198330e+05     0.950176\n",
              "...                 ...          ...  ...           ...          ...\n",
              "2021-06-25  1850.179810  1719.559448  ...  2.063754e+10  1829.239258\n",
              "2021-06-26  1979.958130  1811.245850  ...  1.988547e+10  1978.894653\n",
              "2021-06-27  2139.805420  1963.615479  ...  2.551460e+10  2079.657471\n",
              "2021-06-28  2242.238770  2076.240234  ...  2.481512e+10  2160.768311\n",
              "2021-06-30  2278.164307  2096.053223  ...  2.526527e+10  2266.849121\n",
              "\n",
              "[2004 rows x 6 columns]"
            ]
          },
          "metadata": {
            "tags": []
          },
          "execution_count": 6
        }
      ]
    },
    {
      "cell_type": "code",
      "metadata": {
        "id": "Fuma5z0E9R3n"
      },
      "source": [
        "#Prepare Data\n",
        "scaler = MinMaxScaler(feature_range=(0,1))\n",
        "scaled_data = scaler.fit_transform(data['Close'].values.reshape(-1,1))"
      ],
      "execution_count": 7,
      "outputs": []
    },
    {
      "cell_type": "code",
      "metadata": {
        "id": "9Mqbo1rt9Uon"
      },
      "source": [
        "pred_days = 30 # no. of days you're considering for the prediction"
      ],
      "execution_count": 8,
      "outputs": []
    },
    {
      "cell_type": "code",
      "metadata": {
        "id": "qQ_H-iCP9WuE"
      },
      "source": [
        "x_train, y_train = [], []\n",
        "\n",
        "for x in range(pred_days, len(scaled_data)):\n",
        "  x_train.append(scaled_data[x-pred_days:x, 0])\n",
        "  y_train.append(scaled_data[x, 0])"
      ],
      "execution_count": 9,
      "outputs": []
    },
    {
      "cell_type": "code",
      "metadata": {
        "id": "COCjg0p79ZJr"
      },
      "source": [
        "x_train, y_train = np.array(x_train), np.array(y_train)\n",
        "x_train = np.reshape(x_train, (x_train.shape[0], x_train.shape[1], 1))"
      ],
      "execution_count": 10,
      "outputs": []
    },
    {
      "cell_type": "code",
      "metadata": {
        "id": "DRKMQE2V9a_A",
        "colab": {
          "base_uri": "https://localhost:8080/"
        },
        "outputId": "a416ddbe-0b7a-449b-c259-63ceb223fd1b"
      },
      "source": [
        "model = Sequential()\n",
        "\n",
        "model.add(LSTM(units=50, return_sequences=True, input_shape=(x_train.shape[1], 1)))\n",
        "model.add(Dropout(0.2))\n",
        "model.add(LSTM(units=50, return_sequences=True))\n",
        "model.add(Dropout(0.2))\n",
        "model.add(LSTM(units=50))\n",
        "model.add(Dropout(0.2))\n",
        "model.add(Dense(1))\n",
        "\n",
        "model.compile(optimizer='adam', loss='mean_squared_error')\n",
        "model.fit(x_train, y_train, epochs=30, batch_size=32)"
      ],
      "execution_count": 11,
      "outputs": [
        {
          "output_type": "stream",
          "text": [
            "Epoch 1/30\n",
            "62/62 [==============================] - 8s 47ms/step - loss: 0.0039\n",
            "Epoch 2/30\n",
            "62/62 [==============================] - 3s 47ms/step - loss: 0.0017\n",
            "Epoch 3/30\n",
            "62/62 [==============================] - 3s 46ms/step - loss: 0.0013\n",
            "Epoch 4/30\n",
            "62/62 [==============================] - 3s 45ms/step - loss: 0.0014\n",
            "Epoch 5/30\n",
            "62/62 [==============================] - 3s 47ms/step - loss: 0.0014\n",
            "Epoch 6/30\n",
            "62/62 [==============================] - 3s 45ms/step - loss: 0.0010\n",
            "Epoch 7/30\n",
            "62/62 [==============================] - 3s 46ms/step - loss: 0.0012\n",
            "Epoch 8/30\n",
            "62/62 [==============================] - 3s 46ms/step - loss: 0.0011\n",
            "Epoch 9/30\n",
            "62/62 [==============================] - 3s 45ms/step - loss: 8.7549e-04\n",
            "Epoch 10/30\n",
            "62/62 [==============================] - 3s 47ms/step - loss: 8.1420e-04\n",
            "Epoch 11/30\n",
            "62/62 [==============================] - 3s 46ms/step - loss: 8.0168e-04\n",
            "Epoch 12/30\n",
            "62/62 [==============================] - 3s 45ms/step - loss: 7.6112e-04\n",
            "Epoch 13/30\n",
            "62/62 [==============================] - 3s 45ms/step - loss: 7.2347e-04\n",
            "Epoch 14/30\n",
            "62/62 [==============================] - 3s 45ms/step - loss: 0.0011\n",
            "Epoch 15/30\n",
            "62/62 [==============================] - 3s 46ms/step - loss: 7.6204e-04\n",
            "Epoch 16/30\n",
            "62/62 [==============================] - 3s 46ms/step - loss: 7.6001e-04\n",
            "Epoch 17/30\n",
            "62/62 [==============================] - 3s 45ms/step - loss: 6.1258e-04\n",
            "Epoch 18/30\n",
            "62/62 [==============================] - 3s 46ms/step - loss: 7.3569e-04\n",
            "Epoch 19/30\n",
            "62/62 [==============================] - 3s 45ms/step - loss: 6.5263e-04\n",
            "Epoch 20/30\n",
            "62/62 [==============================] - 3s 46ms/step - loss: 6.0160e-04\n",
            "Epoch 21/30\n",
            "62/62 [==============================] - 3s 46ms/step - loss: 7.5295e-04\n",
            "Epoch 22/30\n",
            "62/62 [==============================] - 3s 46ms/step - loss: 5.3843e-04\n",
            "Epoch 23/30\n",
            "62/62 [==============================] - 3s 46ms/step - loss: 6.5867e-04\n",
            "Epoch 24/30\n",
            "62/62 [==============================] - 3s 45ms/step - loss: 7.3239e-04\n",
            "Epoch 25/30\n",
            "62/62 [==============================] - 3s 45ms/step - loss: 6.2396e-04\n",
            "Epoch 26/30\n",
            "62/62 [==============================] - 3s 45ms/step - loss: 6.5031e-04\n",
            "Epoch 27/30\n",
            "62/62 [==============================] - 3s 46ms/step - loss: 6.7127e-04\n",
            "Epoch 28/30\n",
            "62/62 [==============================] - 3s 45ms/step - loss: 5.0277e-04\n",
            "Epoch 29/30\n",
            "62/62 [==============================] - 3s 47ms/step - loss: 5.6210e-04\n",
            "Epoch 30/30\n",
            "62/62 [==============================] - 3s 46ms/step - loss: 5.5020e-04\n"
          ],
          "name": "stdout"
        },
        {
          "output_type": "execute_result",
          "data": {
            "text/plain": [
              "<tensorflow.python.keras.callbacks.History at 0x7fbcc9eb6450>"
            ]
          },
          "metadata": {
            "tags": []
          },
          "execution_count": 11
        }
      ]
    },
    {
      "cell_type": "code",
      "metadata": {
        "id": "GwOA7dDV9kEx"
      },
      "source": [
        "test_start = dt.datetime(2021,1,1)\n",
        "test_end = dt.datetime.now()\n",
        "\n",
        "test_data = web.DataReader(f\"{crypto}-{currency}\", \"yahoo\", test_start, test_end)"
      ],
      "execution_count": 12,
      "outputs": []
    },
    {
      "cell_type": "code",
      "metadata": {
        "id": "lNhvGyw-9mOA"
      },
      "source": [
        "test_data.index = pd.to_datetime(test_data.index)"
      ],
      "execution_count": 13,
      "outputs": []
    },
    {
      "cell_type": "code",
      "metadata": {
        "id": "ZWuoJ15r9roH",
        "colab": {
          "base_uri": "https://localhost:8080/",
          "height": 455
        },
        "outputId": "0075d771-fa6e-4d8f-d20d-d084c4b2312c"
      },
      "source": [
        "test_data"
      ],
      "execution_count": 14,
      "outputs": [
        {
          "output_type": "execute_result",
          "data": {
            "text/html": [
              "<div>\n",
              "<style scoped>\n",
              "    .dataframe tbody tr th:only-of-type {\n",
              "        vertical-align: middle;\n",
              "    }\n",
              "\n",
              "    .dataframe tbody tr th {\n",
              "        vertical-align: top;\n",
              "    }\n",
              "\n",
              "    .dataframe thead th {\n",
              "        text-align: right;\n",
              "    }\n",
              "</style>\n",
              "<table border=\"1\" class=\"dataframe\">\n",
              "  <thead>\n",
              "    <tr style=\"text-align: right;\">\n",
              "      <th></th>\n",
              "      <th>High</th>\n",
              "      <th>Low</th>\n",
              "      <th>Open</th>\n",
              "      <th>Close</th>\n",
              "      <th>Volume</th>\n",
              "      <th>Adj Close</th>\n",
              "    </tr>\n",
              "    <tr>\n",
              "      <th>Date</th>\n",
              "      <th></th>\n",
              "      <th></th>\n",
              "      <th></th>\n",
              "      <th></th>\n",
              "      <th></th>\n",
              "      <th></th>\n",
              "    </tr>\n",
              "  </thead>\n",
              "  <tbody>\n",
              "    <tr>\n",
              "      <th>2021-01-01</th>\n",
              "      <td>749.201843</td>\n",
              "      <td>719.792236</td>\n",
              "      <td>737.708374</td>\n",
              "      <td>730.367554</td>\n",
              "      <td>1.365200e+10</td>\n",
              "      <td>730.367554</td>\n",
              "    </tr>\n",
              "    <tr>\n",
              "      <th>2021-01-02</th>\n",
              "      <td>786.798462</td>\n",
              "      <td>718.109497</td>\n",
              "      <td>730.402649</td>\n",
              "      <td>774.534973</td>\n",
              "      <td>1.974077e+10</td>\n",
              "      <td>774.534973</td>\n",
              "    </tr>\n",
              "    <tr>\n",
              "      <th>2021-01-03</th>\n",
              "      <td>1006.565002</td>\n",
              "      <td>771.561646</td>\n",
              "      <td>774.511841</td>\n",
              "      <td>975.507690</td>\n",
              "      <td>4.520046e+10</td>\n",
              "      <td>975.507690</td>\n",
              "    </tr>\n",
              "    <tr>\n",
              "      <th>2021-01-04</th>\n",
              "      <td>1153.189209</td>\n",
              "      <td>912.305359</td>\n",
              "      <td>977.058838</td>\n",
              "      <td>1040.233032</td>\n",
              "      <td>5.694599e+10</td>\n",
              "      <td>1040.233032</td>\n",
              "    </tr>\n",
              "    <tr>\n",
              "      <th>2021-01-05</th>\n",
              "      <td>1129.371460</td>\n",
              "      <td>986.811279</td>\n",
              "      <td>1041.498779</td>\n",
              "      <td>1100.006104</td>\n",
              "      <td>4.153593e+10</td>\n",
              "      <td>1100.006104</td>\n",
              "    </tr>\n",
              "    <tr>\n",
              "      <th>...</th>\n",
              "      <td>...</td>\n",
              "      <td>...</td>\n",
              "      <td>...</td>\n",
              "      <td>...</td>\n",
              "      <td>...</td>\n",
              "      <td>...</td>\n",
              "    </tr>\n",
              "    <tr>\n",
              "      <th>2021-06-25</th>\n",
              "      <td>1850.179810</td>\n",
              "      <td>1719.559448</td>\n",
              "      <td>1810.884277</td>\n",
              "      <td>1829.239258</td>\n",
              "      <td>2.063754e+10</td>\n",
              "      <td>1829.239258</td>\n",
              "    </tr>\n",
              "    <tr>\n",
              "      <th>2021-06-26</th>\n",
              "      <td>1979.958130</td>\n",
              "      <td>1811.245850</td>\n",
              "      <td>1830.996948</td>\n",
              "      <td>1978.894653</td>\n",
              "      <td>1.988547e+10</td>\n",
              "      <td>1978.894653</td>\n",
              "    </tr>\n",
              "    <tr>\n",
              "      <th>2021-06-27</th>\n",
              "      <td>2139.805420</td>\n",
              "      <td>1963.615479</td>\n",
              "      <td>1981.386475</td>\n",
              "      <td>2079.657471</td>\n",
              "      <td>2.551460e+10</td>\n",
              "      <td>2079.657471</td>\n",
              "    </tr>\n",
              "    <tr>\n",
              "      <th>2021-06-28</th>\n",
              "      <td>2242.238770</td>\n",
              "      <td>2076.240234</td>\n",
              "      <td>2083.448730</td>\n",
              "      <td>2160.768311</td>\n",
              "      <td>2.481512e+10</td>\n",
              "      <td>2160.768311</td>\n",
              "    </tr>\n",
              "    <tr>\n",
              "      <th>2021-06-30</th>\n",
              "      <td>2278.164307</td>\n",
              "      <td>2096.053223</td>\n",
              "      <td>2160.036621</td>\n",
              "      <td>2270.757080</td>\n",
              "      <td>2.541070e+10</td>\n",
              "      <td>2270.757080</td>\n",
              "    </tr>\n",
              "  </tbody>\n",
              "</table>\n",
              "<p>181 rows × 6 columns</p>\n",
              "</div>"
            ],
            "text/plain": [
              "                   High          Low  ...        Volume    Adj Close\n",
              "Date                                  ...                           \n",
              "2021-01-01   749.201843   719.792236  ...  1.365200e+10   730.367554\n",
              "2021-01-02   786.798462   718.109497  ...  1.974077e+10   774.534973\n",
              "2021-01-03  1006.565002   771.561646  ...  4.520046e+10   975.507690\n",
              "2021-01-04  1153.189209   912.305359  ...  5.694599e+10  1040.233032\n",
              "2021-01-05  1129.371460   986.811279  ...  4.153593e+10  1100.006104\n",
              "...                 ...          ...  ...           ...          ...\n",
              "2021-06-25  1850.179810  1719.559448  ...  2.063754e+10  1829.239258\n",
              "2021-06-26  1979.958130  1811.245850  ...  1.988547e+10  1978.894653\n",
              "2021-06-27  2139.805420  1963.615479  ...  2.551460e+10  2079.657471\n",
              "2021-06-28  2242.238770  2076.240234  ...  2.481512e+10  2160.768311\n",
              "2021-06-30  2278.164307  2096.053223  ...  2.541070e+10  2270.757080\n",
              "\n",
              "[181 rows x 6 columns]"
            ]
          },
          "metadata": {
            "tags": []
          },
          "execution_count": 14
        }
      ]
    },
    {
      "cell_type": "code",
      "metadata": {
        "id": "rI2eNuCi9wNv"
      },
      "source": [
        "actual_prices = test_data['Close']"
      ],
      "execution_count": 15,
      "outputs": []
    },
    {
      "cell_type": "code",
      "metadata": {
        "id": "Z81G_e5_-kdT",
        "colab": {
          "base_uri": "https://localhost:8080/"
        },
        "outputId": "bd5719dc-ff59-48aa-ddb0-74596a77172b"
      },
      "source": [
        "actual_prices = np.array(actual_prices)\n",
        "actual_prices"
      ],
      "execution_count": 16,
      "outputs": [
        {
          "output_type": "execute_result",
          "data": {
            "text/plain": [
              "array([ 730.36755371,  774.53497314,  975.50769043, 1040.23303223,\n",
              "       1100.00610352, 1207.11218262, 1225.67810059, 1224.19714355,\n",
              "       1281.07727051, 1262.2467041 , 1090.14538574, 1043.43457031,\n",
              "       1130.73937988, 1218.45300293, 1171.83459473, 1233.53759766,\n",
              "       1230.17224121, 1257.27954102, 1377.29589844, 1382.27404785,\n",
              "       1121.57092285, 1236.51220703, 1230.99060059, 1391.609375  ,\n",
              "       1324.41479492, 1357.05810547, 1253.18713379, 1298.10180664,\n",
              "       1382.52282715, 1376.11547852, 1314.98620605, 1369.04052734,\n",
              "       1515.19372559, 1660.9095459 , 1594.76269531, 1718.65087891,\n",
              "       1677.84680176, 1614.2277832 , 1746.61682129, 1768.03503418,\n",
              "       1744.2434082 , 1783.79797363, 1843.53259277, 1814.10986328,\n",
              "       1805.08410645, 1779.79101562, 1781.06750488, 1848.45825195,\n",
              "       1937.44921875, 1960.16479492, 1919.53405762, 1935.60107422,\n",
              "       1781.99291992, 1570.20397949, 1626.57568359, 1475.70373535,\n",
              "       1446.03369141, 1459.97314453, 1416.0489502 , 1564.7076416 ,\n",
              "       1492.60876465, 1575.85314941, 1541.91430664, 1533.27502441,\n",
              "       1654.74157715, 1723.15380859, 1834.72790527, 1868.04882812,\n",
              "       1799.16625977, 1826.19494629, 1772.10241699, 1924.6854248 ,\n",
              "       1854.56433105, 1791.70227051, 1806.97180176, 1823.44934082,\n",
              "       1782.85510254, 1817.62414551, 1812.63464355, 1788.21704102,\n",
              "       1691.33398438, 1678.65014648, 1593.41345215, 1595.35925293,\n",
              "       1702.84204102, 1716.49462891, 1691.35595703, 1819.68493652,\n",
              "       1846.03369141, 1918.36206055, 1977.27685547, 2143.22558594,\n",
              "       2028.42248535, 2093.12280273, 2107.88720703, 2118.37890625,\n",
              "       1971.07727051, 2088.57373047, 2072.10888672, 2135.94213867,\n",
              "       2157.65698242, 2139.35327148, 2299.18774414, 2435.10498047,\n",
              "       2519.11621094, 2431.9465332 , 2344.89501953, 2237.13696289,\n",
              "       2166.1887207 , 2330.2109375 , 2364.75170898, 2403.53515625,\n",
              "       2363.58618164, 2211.62573242, 2316.05957031, 2534.48168945,\n",
              "       2662.86523438, 2746.38012695, 2756.87695312, 2773.20703125,\n",
              "       2945.89282227, 2952.05615234, 3431.08618164, 3253.62939453,\n",
              "       3522.78320312, 3490.88037109, 3484.72900391, 3902.64770508,\n",
              "       3928.84472656, 3952.29394531, 4168.70117188, 3785.84863281,\n",
              "       3715.1484375 , 4079.05737305, 3638.12207031, 3587.50610352,\n",
              "       3282.39770508, 3380.07006836, 2460.67919922, 2784.29418945,\n",
              "       2430.62133789, 2295.70556641, 2109.57983398, 2643.59106445,\n",
              "       2706.62890625, 2888.69873047, 2736.48852539, 2419.90625   ,\n",
              "       2279.51416016, 2390.30541992, 2714.9453125 , 2633.51831055,\n",
              "       2706.125     , 2855.12646484, 2688.19506836, 2630.5769043 ,\n",
              "       2715.09277344, 2590.26318359, 2517.4387207 , 2608.26708984,\n",
              "       2471.51855469, 2353.76879883, 2372.484375  , 2508.39160156,\n",
              "       2537.89111328, 2610.93676758, 2367.66357422, 2372.00195312,\n",
              "       2231.7331543 , 2178.49902344, 2246.36450195, 1888.44750977,\n",
              "       1874.95007324, 1989.73632812, 1988.45629883, 1813.21728516,\n",
              "       1829.23925781, 1978.89465332, 2079.6574707 , 2160.76831055,\n",
              "       2270.75708008])"
            ]
          },
          "metadata": {
            "tags": []
          },
          "execution_count": 16
        }
      ]
    },
    {
      "cell_type": "code",
      "metadata": {
        "id": "Gg3FByGu-sw6"
      },
      "source": [
        "total_dataset = pd.concat((data['Close'], test_data['Close']), axis=0)"
      ],
      "execution_count": 17,
      "outputs": []
    },
    {
      "cell_type": "code",
      "metadata": {
        "id": "kZfHWWrI-vze"
      },
      "source": [
        "total_dataset.index = pd.to_datetime(total_dataset.index)"
      ],
      "execution_count": 18,
      "outputs": []
    },
    {
      "cell_type": "code",
      "metadata": {
        "id": "F5t82amL-yzB"
      },
      "source": [
        "model_inputs = total_dataset[len(total_dataset)-len(test_data)-pred_days:].values\n",
        "model_inputs = model_inputs.reshape(-1, 1)\n",
        "model_inputs = scaler.fit_transform(model_inputs)"
      ],
      "execution_count": 19,
      "outputs": []
    },
    {
      "cell_type": "code",
      "metadata": {
        "id": "js9ELsx7-0LZ"
      },
      "source": [
        "x_test = []\n",
        "\n",
        "for x in range(pred_days, len(model_inputs)):\n",
        "  x_test.append(model_inputs[x-pred_days:x, 0])\n",
        "\n",
        "x_test = np.array(x_test)\n",
        "x_test = np.reshape(x_test, (x_test.shape[0], x_test.shape[1], 1))"
      ],
      "execution_count": 20,
      "outputs": []
    },
    {
      "cell_type": "code",
      "metadata": {
        "id": "y38Zsjci-14U"
      },
      "source": [
        "prediction_prices = model.predict(x_test)\n",
        "prediction_prices = scaler.inverse_transform(prediction_prices)"
      ],
      "execution_count": 21,
      "outputs": []
    },
    {
      "cell_type": "code",
      "metadata": {
        "id": "t0ab0Hdy-40d",
        "colab": {
          "base_uri": "https://localhost:8080/",
          "height": 295
        },
        "outputId": "ee0d09c1-40c0-46f2-df45-268911fa8400"
      },
      "source": [
        "plt.plot(actual_prices, color='purple', label='Actual Prices')\n",
        "plt.plot(prediction_prices, color='green', label='Prediction Prices')\n",
        "plt.title(f\"{crypto}-{currency} Price Predictor\")\n",
        "plt.xlabel(\"Time\")\n",
        "plt.ylabel(\"Price\")\n",
        "plt.legend(loc=\"upper left\")\n",
        "plt.show()"
      ],
      "execution_count": 25,
      "outputs": [
        {
          "output_type": "display_data",
          "data": {
            "image/png": "[encoded data removed]",
            "text/plain": [
              "<Figure size 432x288 with 1 Axes>"
            ]
          },
          "metadata": {
            "tags": [],
            "needs_background": "light"
          }
        }
      ]
    }
  ]
}