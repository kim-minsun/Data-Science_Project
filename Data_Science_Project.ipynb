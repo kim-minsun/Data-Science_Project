{
  "nbformat": 4,
  "nbformat_minor": 0,
  "metadata": {
    "colab": {
      "name": "Data-Science-Project.ipynb",
      "provenance": [],
      "include_colab_link": true
    },
    "kernelspec": {
      "name": "python3",
      "display_name": "Python 3"
    },
    "language_info": {
      "name": "python"
    }
  },
  "cells": [
    {
      "cell_type": "markdown",
      "metadata": {
        "id": "view-in-github",
        "colab_type": "text"
      },
      "source": [
        "<a href=\"https://colab.research.google.com/github/kim-minsun/Data-Science_Project/blob/Zac/Data_Science_Project.ipynb\" target=\"_parent\"><img src=\"https://colab.research.google.com/assets/colab-badge.svg\" alt=\"Open In Colab\"/></a>"
      ]
    },
    {
      "cell_type": "code",
      "metadata": {
        "id": "HfkAT0BV8ngy"
      },
      "source": [
        "import numpy as np\n",
        "import matplotlib.pyplot as plt\n",
        "import pandas as pd\n",
        "import pandas_datareader as web\n",
        "import datetime as dt"
      ],
      "execution_count": 1,
      "outputs": []
    },
    {
      "cell_type": "code",
      "metadata": {
        "id": "q2wejlLd9DeC"
      },
      "source": [
        "from sklearn.preprocessing import MinMaxScaler\n",
        "from tensorflow.keras.layers import Dense, Dropout, LSTM\n",
        "from tensorflow.keras.models import Sequential"
      ],
      "execution_count": 2,
      "outputs": []
    },
    {
      "cell_type": "code",
      "metadata": {
        "id": "27g_VsDI9G5Z"
      },
      "source": [
        "crypto = 'BTC'\n",
        "currency = 'INR'\n",
        "\n",
        "start = dt.datetime(2016,1,1)\n",
        "end = dt.datetime.now()\n",
        "\n",
        "data = web.DataReader(f\"{crypto}-{currency}\", \"yahoo\", start, end)"
      ],
      "execution_count": 3,
      "outputs": []
    },
    {
      "cell_type": "code",
      "metadata": {
        "id": "JNrcBwvT9OoX"
      },
      "source": [
        "data.index = pd.to_datetime(data.index)"
      ],
      "execution_count": 4,
      "outputs": []
    },
    {
      "cell_type": "code",
      "metadata": {
        "id": "UTKaLESl9QRQ",
        "outputId": "b0190833-635f-4360-9e11-c2efae258905",
        "colab": {
          "base_uri": "https://localhost:8080/",
          "height": 455
        }
      },
      "source": [
        "data"
      ],
      "execution_count": 5,
      "outputs": [
        {
          "output_type": "execute_result",
          "data": {
            "text/html": [
              "<div>\n",
              "<style scoped>\n",
              "    .dataframe tbody tr th:only-of-type {\n",
              "        vertical-align: middle;\n",
              "    }\n",
              "\n",
              "    .dataframe tbody tr th {\n",
              "        vertical-align: top;\n",
              "    }\n",
              "\n",
              "    .dataframe thead th {\n",
              "        text-align: right;\n",
              "    }\n",
              "</style>\n",
              "<table border=\"1\" class=\"dataframe\">\n",
              "  <thead>\n",
              "    <tr style=\"text-align: right;\">\n",
              "      <th></th>\n",
              "      <th>High</th>\n",
              "      <th>Low</th>\n",
              "      <th>Open</th>\n",
              "      <th>Close</th>\n",
              "      <th>Volume</th>\n",
              "      <th>Adj Close</th>\n",
              "    </tr>\n",
              "    <tr>\n",
              "      <th>Date</th>\n",
              "      <th></th>\n",
              "      <th></th>\n",
              "      <th></th>\n",
              "      <th></th>\n",
              "      <th></th>\n",
              "      <th></th>\n",
              "    </tr>\n",
              "  </thead>\n",
              "  <tbody>\n",
              "    <tr>\n",
              "      <th>2019-09-18</th>\n",
              "      <td>7.314907e+05</td>\n",
              "      <td>7.254785e+05</td>\n",
              "      <td>7.349759e+05</td>\n",
              "      <td>7.259610e+05</td>\n",
              "      <td>1.151007e+12</td>\n",
              "      <td>7.259610e+05</td>\n",
              "    </tr>\n",
              "    <tr>\n",
              "      <th>2019-09-19</th>\n",
              "      <td>7.350398e+05</td>\n",
              "      <td>7.033428e+05</td>\n",
              "      <td>7.261210e+05</td>\n",
              "      <td>7.329512e+05</td>\n",
              "      <td>1.423414e+12</td>\n",
              "      <td>7.329512e+05</td>\n",
              "    </tr>\n",
              "    <tr>\n",
              "      <th>2019-09-20</th>\n",
              "      <td>7.324158e+05</td>\n",
              "      <td>7.214724e+05</td>\n",
              "      <td>7.329443e+05</td>\n",
              "      <td>7.249939e+05</td>\n",
              "      <td>1.049163e+12</td>\n",
              "      <td>7.249939e+05</td>\n",
              "    </tr>\n",
              "    <tr>\n",
              "      <th>2019-09-21</th>\n",
              "      <td>7.254537e+05</td>\n",
              "      <td>7.121104e+05</td>\n",
              "      <td>7.251369e+05</td>\n",
              "      <td>7.134639e+05</td>\n",
              "      <td>9.559595e+11</td>\n",
              "      <td>7.134639e+05</td>\n",
              "    </tr>\n",
              "    <tr>\n",
              "      <th>2019-09-22</th>\n",
              "      <td>7.173071e+05</td>\n",
              "      <td>7.064909e+05</td>\n",
              "      <td>7.137771e+05</td>\n",
              "      <td>7.170186e+05</td>\n",
              "      <td>9.398239e+11</td>\n",
              "      <td>7.170186e+05</td>\n",
              "    </tr>\n",
              "    <tr>\n",
              "      <th>...</th>\n",
              "      <td>...</td>\n",
              "      <td>...</td>\n",
              "      <td>...</td>\n",
              "      <td>...</td>\n",
              "      <td>...</td>\n",
              "      <td>...</td>\n",
              "    </tr>\n",
              "    <tr>\n",
              "      <th>2021-06-25</th>\n",
              "      <td>2.631060e+06</td>\n",
              "      <td>2.325729e+06</td>\n",
              "      <td>2.571378e+06</td>\n",
              "      <td>2.347012e+06</td>\n",
              "      <td>2.984483e+12</td>\n",
              "      <td>2.347012e+06</td>\n",
              "    </tr>\n",
              "    <tr>\n",
              "      <th>2021-06-26</th>\n",
              "      <td>2.421182e+06</td>\n",
              "      <td>2.239202e+06</td>\n",
              "      <td>2.343814e+06</td>\n",
              "      <td>2.387702e+06</td>\n",
              "      <td>2.862412e+12</td>\n",
              "      <td>2.387702e+06</td>\n",
              "    </tr>\n",
              "    <tr>\n",
              "      <th>2021-06-27</th>\n",
              "      <td>2.572195e+06</td>\n",
              "      <td>2.379206e+06</td>\n",
              "      <td>2.395213e+06</td>\n",
              "      <td>2.571714e+06</td>\n",
              "      <td>2.635691e+12</td>\n",
              "      <td>2.571714e+06</td>\n",
              "    </tr>\n",
              "    <tr>\n",
              "      <th>2021-06-28</th>\n",
              "      <td>2.613853e+06</td>\n",
              "      <td>2.519085e+06</td>\n",
              "      <td>2.573901e+06</td>\n",
              "      <td>2.557977e+06</td>\n",
              "      <td>2.517728e+12</td>\n",
              "      <td>2.557977e+06</td>\n",
              "    </tr>\n",
              "    <tr>\n",
              "      <th>2021-06-29</th>\n",
              "      <td>2.694980e+06</td>\n",
              "      <td>2.543441e+06</td>\n",
              "      <td>2.559074e+06</td>\n",
              "      <td>2.694980e+06</td>\n",
              "      <td>2.728935e+12</td>\n",
              "      <td>2.694980e+06</td>\n",
              "    </tr>\n",
              "  </tbody>\n",
              "</table>\n",
              "<p>647 rows × 6 columns</p>\n",
              "</div>"
            ],
            "text/plain": [
              "                    High           Low  ...        Volume     Adj Close\n",
              "Date                                    ...                            \n",
              "2019-09-18  7.314907e+05  7.254785e+05  ...  1.151007e+12  7.259610e+05\n",
              "2019-09-19  7.350398e+05  7.033428e+05  ...  1.423414e+12  7.329512e+05\n",
              "2019-09-20  7.324158e+05  7.214724e+05  ...  1.049163e+12  7.249939e+05\n",
              "2019-09-21  7.254537e+05  7.121104e+05  ...  9.559595e+11  7.134639e+05\n",
              "2019-09-22  7.173071e+05  7.064909e+05  ...  9.398239e+11  7.170186e+05\n",
              "...                  ...           ...  ...           ...           ...\n",
              "2021-06-25  2.631060e+06  2.325729e+06  ...  2.984483e+12  2.347012e+06\n",
              "2021-06-26  2.421182e+06  2.239202e+06  ...  2.862412e+12  2.387702e+06\n",
              "2021-06-27  2.572195e+06  2.379206e+06  ...  2.635691e+12  2.571714e+06\n",
              "2021-06-28  2.613853e+06  2.519085e+06  ...  2.517728e+12  2.557977e+06\n",
              "2021-06-29  2.694980e+06  2.543441e+06  ...  2.728935e+12  2.694980e+06\n",
              "\n",
              "[647 rows x 6 columns]"
            ]
          },
          "metadata": {
            "tags": []
          },
          "execution_count": 5
        }
      ]
    },
    {
      "cell_type": "code",
      "metadata": {
        "id": "Fuma5z0E9R3n"
      },
      "source": [
        "#Prepare Data\n",
        "scaler = MinMaxScaler(feature_range=(0,1))\n",
        "scaled_data = scaler.fit_transform(data['Close'].values.reshape(-1,1))"
      ],
      "execution_count": 6,
      "outputs": []
    },
    {
      "cell_type": "code",
      "metadata": {
        "id": "9Mqbo1rt9Uon"
      },
      "source": [
        "pred_days = 30 # no. of days you're considering for the prediction"
      ],
      "execution_count": 7,
      "outputs": []
    },
    {
      "cell_type": "code",
      "metadata": {
        "id": "qQ_H-iCP9WuE"
      },
      "source": [
        "x_train, y_train = [], []\n",
        "\n",
        "for x in range(pred_days, len(scaled_data)):\n",
        "  x_train.append(scaled_data[x-pred_days:x, 0])\n",
        "  y_train.append(scaled_data[x, 0])"
      ],
      "execution_count": 8,
      "outputs": []
    },
    {
      "cell_type": "code",
      "metadata": {
        "id": "COCjg0p79ZJr"
      },
      "source": [
        "x_train, y_train = np.array(x_train), np.array(y_train)\n",
        "x_train = np.reshape(x_train, (x_train.shape[0], x_train.shape[1], 1))"
      ],
      "execution_count": 10,
      "outputs": []
    },
    {
      "cell_type": "code",
      "metadata": {
        "id": "DRKMQE2V9a_A",
        "outputId": "5b467bd7-7ab4-4201-fe1c-b11635fda2b8",
        "colab": {
          "base_uri": "https://localhost:8080/",
          "height": 839
        }
      },
      "source": [
        "model = Sequential()\n",
        "\n",
        "model.add(LSTM(units=50, return_sequences=True, input_shape=(x_train.shape[1], 1)))\n",
        "model.add(Dropout(0.2))\n",
        "model.add(LSTM(units=50, return_sequences=True))\n",
        "model.add(Dropout(0.2))\n",
        "model.add(LSTM(units=50))\n",
        "model.add(Dropout(0.2))\n",
        "model.add(Dense(1))\n",
        "\n",
        "model.compile(optimizer='adam', loss='mean_squared_error')\n",
        "model.fit(x_train, y_train, epochs=30, batch_size=32)"
      ],
      "execution_count": 11,
      "outputs": [
        {
          "output_type": "stream",
          "text": [
            "Epoch 1/30\n",
            "20/20 [==============================] - 6s 45ms/step - loss: 0.0288\n",
            "Epoch 2/30\n",
            "20/20 [==============================] - 1s 45ms/step - loss: 0.0061\n",
            "Epoch 3/30\n",
            "20/20 [==============================] - 1s 46ms/step - loss: 0.0068\n",
            "Epoch 4/30\n",
            "20/20 [==============================] - 1s 45ms/step - loss: 0.0044\n",
            "Epoch 5/30\n",
            "20/20 [==============================] - 1s 45ms/step - loss: 0.0042\n",
            "Epoch 6/30\n",
            "20/20 [==============================] - 1s 45ms/step - loss: 0.0040\n",
            "Epoch 7/30\n",
            "20/20 [==============================] - 1s 45ms/step - loss: 0.0045\n",
            "Epoch 8/30\n",
            "20/20 [==============================] - 1s 44ms/step - loss: 0.0043\n",
            "Epoch 9/30\n",
            "20/20 [==============================] - 1s 46ms/step - loss: 0.0041\n",
            "Epoch 10/30\n",
            "20/20 [==============================] - 1s 44ms/step - loss: 0.0038\n",
            "Epoch 11/30\n",
            "20/20 [==============================] - 1s 45ms/step - loss: 0.0031\n",
            "Epoch 12/30\n",
            "20/20 [==============================] - 1s 45ms/step - loss: 0.0039\n",
            "Epoch 13/30\n",
            " 1/20 [>.............................] - ETA: 1s - loss: 0.0043"
          ],
          "name": "stdout"
        },
        {
          "output_type": "error",
          "ename": "KeyboardInterrupt",
          "evalue": "ignored",
          "traceback": [
            "\u001b[0;31m---------------------------------------------------------------------------\u001b[0m",
            "\u001b[0;31mKeyboardInterrupt\u001b[0m                         Traceback (most recent call last)",
            "\u001b[0;32m<ipython-input-11-df431bbb919a>\u001b[0m in \u001b[0;36m<module>\u001b[0;34m()\u001b[0m\n\u001b[1;32m     10\u001b[0m \u001b[0;34m\u001b[0m\u001b[0m\n\u001b[1;32m     11\u001b[0m \u001b[0mmodel\u001b[0m\u001b[0;34m.\u001b[0m\u001b[0mcompile\u001b[0m\u001b[0;34m(\u001b[0m\u001b[0moptimizer\u001b[0m\u001b[0;34m=\u001b[0m\u001b[0;34m'adam'\u001b[0m\u001b[0;34m,\u001b[0m \u001b[0mloss\u001b[0m\u001b[0;34m=\u001b[0m\u001b[0;34m'mean_squared_error'\u001b[0m\u001b[0;34m)\u001b[0m\u001b[0;34m\u001b[0m\u001b[0;34m\u001b[0m\u001b[0m\n\u001b[0;32m---> 12\u001b[0;31m \u001b[0mmodel\u001b[0m\u001b[0;34m.\u001b[0m\u001b[0mfit\u001b[0m\u001b[0;34m(\u001b[0m\u001b[0mx_train\u001b[0m\u001b[0;34m,\u001b[0m \u001b[0my_train\u001b[0m\u001b[0;34m,\u001b[0m \u001b[0mepochs\u001b[0m\u001b[0;34m=\u001b[0m\u001b[0;36m30\u001b[0m\u001b[0;34m,\u001b[0m \u001b[0mbatch_size\u001b[0m\u001b[0;34m=\u001b[0m\u001b[0;36m32\u001b[0m\u001b[0;34m)\u001b[0m\u001b[0;34m\u001b[0m\u001b[0;34m\u001b[0m\u001b[0m\n\u001b[0m",
            "\u001b[0;32m/usr/local/lib/python3.7/dist-packages/tensorflow/python/keras/engine/training.py\u001b[0m in \u001b[0;36mfit\u001b[0;34m(self, x, y, batch_size, epochs, verbose, callbacks, validation_split, validation_data, shuffle, class_weight, sample_weight, initial_epoch, steps_per_epoch, validation_steps, validation_batch_size, validation_freq, max_queue_size, workers, use_multiprocessing)\u001b[0m\n\u001b[1;32m   1181\u001b[0m                 _r=1):\n\u001b[1;32m   1182\u001b[0m               \u001b[0mcallbacks\u001b[0m\u001b[0;34m.\u001b[0m\u001b[0mon_train_batch_begin\u001b[0m\u001b[0;34m(\u001b[0m\u001b[0mstep\u001b[0m\u001b[0;34m)\u001b[0m\u001b[0;34m\u001b[0m\u001b[0;34m\u001b[0m\u001b[0m\n\u001b[0;32m-> 1183\u001b[0;31m               \u001b[0mtmp_logs\u001b[0m \u001b[0;34m=\u001b[0m \u001b[0mself\u001b[0m\u001b[0;34m.\u001b[0m\u001b[0mtrain_function\u001b[0m\u001b[0;34m(\u001b[0m\u001b[0miterator\u001b[0m\u001b[0;34m)\u001b[0m\u001b[0;34m\u001b[0m\u001b[0;34m\u001b[0m\u001b[0m\n\u001b[0m\u001b[1;32m   1184\u001b[0m               \u001b[0;32mif\u001b[0m \u001b[0mdata_handler\u001b[0m\u001b[0;34m.\u001b[0m\u001b[0mshould_sync\u001b[0m\u001b[0;34m:\u001b[0m\u001b[0;34m\u001b[0m\u001b[0;34m\u001b[0m\u001b[0m\n\u001b[1;32m   1185\u001b[0m                 \u001b[0mcontext\u001b[0m\u001b[0;34m.\u001b[0m\u001b[0masync_wait\u001b[0m\u001b[0;34m(\u001b[0m\u001b[0;34m)\u001b[0m\u001b[0;34m\u001b[0m\u001b[0;34m\u001b[0m\u001b[0m\n",
            "\u001b[0;32m/usr/local/lib/python3.7/dist-packages/tensorflow/python/eager/def_function.py\u001b[0m in \u001b[0;36m__call__\u001b[0;34m(self, *args, **kwds)\u001b[0m\n\u001b[1;32m    887\u001b[0m \u001b[0;34m\u001b[0m\u001b[0m\n\u001b[1;32m    888\u001b[0m       \u001b[0;32mwith\u001b[0m \u001b[0mOptionalXlaContext\u001b[0m\u001b[0;34m(\u001b[0m\u001b[0mself\u001b[0m\u001b[0;34m.\u001b[0m\u001b[0m_jit_compile\u001b[0m\u001b[0;34m)\u001b[0m\u001b[0;34m:\u001b[0m\u001b[0;34m\u001b[0m\u001b[0;34m\u001b[0m\u001b[0m\n\u001b[0;32m--> 889\u001b[0;31m         \u001b[0mresult\u001b[0m \u001b[0;34m=\u001b[0m \u001b[0mself\u001b[0m\u001b[0;34m.\u001b[0m\u001b[0m_call\u001b[0m\u001b[0;34m(\u001b[0m\u001b[0;34m*\u001b[0m\u001b[0margs\u001b[0m\u001b[0;34m,\u001b[0m \u001b[0;34m**\u001b[0m\u001b[0mkwds\u001b[0m\u001b[0;34m)\u001b[0m\u001b[0;34m\u001b[0m\u001b[0;34m\u001b[0m\u001b[0m\n\u001b[0m\u001b[1;32m    890\u001b[0m \u001b[0;34m\u001b[0m\u001b[0m\n\u001b[1;32m    891\u001b[0m       \u001b[0mnew_tracing_count\u001b[0m \u001b[0;34m=\u001b[0m \u001b[0mself\u001b[0m\u001b[0;34m.\u001b[0m\u001b[0mexperimental_get_tracing_count\u001b[0m\u001b[0;34m(\u001b[0m\u001b[0;34m)\u001b[0m\u001b[0;34m\u001b[0m\u001b[0;34m\u001b[0m\u001b[0m\n",
            "\u001b[0;32m/usr/local/lib/python3.7/dist-packages/tensorflow/python/eager/def_function.py\u001b[0m in \u001b[0;36m_call\u001b[0;34m(self, *args, **kwds)\u001b[0m\n\u001b[1;32m    915\u001b[0m       \u001b[0;31m# In this case we have created variables on the first call, so we run the\u001b[0m\u001b[0;34m\u001b[0m\u001b[0;34m\u001b[0m\u001b[0;34m\u001b[0m\u001b[0m\n\u001b[1;32m    916\u001b[0m       \u001b[0;31m# defunned version which is guaranteed to never create variables.\u001b[0m\u001b[0;34m\u001b[0m\u001b[0;34m\u001b[0m\u001b[0;34m\u001b[0m\u001b[0m\n\u001b[0;32m--> 917\u001b[0;31m       \u001b[0;32mreturn\u001b[0m \u001b[0mself\u001b[0m\u001b[0;34m.\u001b[0m\u001b[0m_stateless_fn\u001b[0m\u001b[0;34m(\u001b[0m\u001b[0;34m*\u001b[0m\u001b[0margs\u001b[0m\u001b[0;34m,\u001b[0m \u001b[0;34m**\u001b[0m\u001b[0mkwds\u001b[0m\u001b[0;34m)\u001b[0m  \u001b[0;31m# pylint: disable=not-callable\u001b[0m\u001b[0;34m\u001b[0m\u001b[0;34m\u001b[0m\u001b[0m\n\u001b[0m\u001b[1;32m    918\u001b[0m     \u001b[0;32melif\u001b[0m \u001b[0mself\u001b[0m\u001b[0;34m.\u001b[0m\u001b[0m_stateful_fn\u001b[0m \u001b[0;32mis\u001b[0m \u001b[0;32mnot\u001b[0m \u001b[0;32mNone\u001b[0m\u001b[0;34m:\u001b[0m\u001b[0;34m\u001b[0m\u001b[0;34m\u001b[0m\u001b[0m\n\u001b[1;32m    919\u001b[0m       \u001b[0;31m# Release the lock early so that multiple threads can perform the call\u001b[0m\u001b[0;34m\u001b[0m\u001b[0;34m\u001b[0m\u001b[0;34m\u001b[0m\u001b[0m\n",
            "\u001b[0;32m/usr/local/lib/python3.7/dist-packages/tensorflow/python/eager/function.py\u001b[0m in \u001b[0;36m__call__\u001b[0;34m(self, *args, **kwargs)\u001b[0m\n\u001b[1;32m   3022\u001b[0m        filtered_flat_args) = self._maybe_define_function(args, kwargs)\n\u001b[1;32m   3023\u001b[0m     return graph_function._call_flat(\n\u001b[0;32m-> 3024\u001b[0;31m         filtered_flat_args, captured_inputs=graph_function.captured_inputs)  # pylint: disable=protected-access\n\u001b[0m\u001b[1;32m   3025\u001b[0m \u001b[0;34m\u001b[0m\u001b[0m\n\u001b[1;32m   3026\u001b[0m   \u001b[0;34m@\u001b[0m\u001b[0mproperty\u001b[0m\u001b[0;34m\u001b[0m\u001b[0;34m\u001b[0m\u001b[0m\n",
            "\u001b[0;32m/usr/local/lib/python3.7/dist-packages/tensorflow/python/eager/function.py\u001b[0m in \u001b[0;36m_call_flat\u001b[0;34m(self, args, captured_inputs, cancellation_manager)\u001b[0m\n\u001b[1;32m   1959\u001b[0m       \u001b[0;31m# No tape is watching; skip to running the function.\u001b[0m\u001b[0;34m\u001b[0m\u001b[0;34m\u001b[0m\u001b[0;34m\u001b[0m\u001b[0m\n\u001b[1;32m   1960\u001b[0m       return self._build_call_outputs(self._inference_function.call(\n\u001b[0;32m-> 1961\u001b[0;31m           ctx, args, cancellation_manager=cancellation_manager))\n\u001b[0m\u001b[1;32m   1962\u001b[0m     forward_backward = self._select_forward_and_backward_functions(\n\u001b[1;32m   1963\u001b[0m         \u001b[0margs\u001b[0m\u001b[0;34m,\u001b[0m\u001b[0;34m\u001b[0m\u001b[0;34m\u001b[0m\u001b[0m\n",
            "\u001b[0;32m/usr/local/lib/python3.7/dist-packages/tensorflow/python/eager/function.py\u001b[0m in \u001b[0;36mcall\u001b[0;34m(self, ctx, args, cancellation_manager)\u001b[0m\n\u001b[1;32m    594\u001b[0m               \u001b[0minputs\u001b[0m\u001b[0;34m=\u001b[0m\u001b[0margs\u001b[0m\u001b[0;34m,\u001b[0m\u001b[0;34m\u001b[0m\u001b[0;34m\u001b[0m\u001b[0m\n\u001b[1;32m    595\u001b[0m               \u001b[0mattrs\u001b[0m\u001b[0;34m=\u001b[0m\u001b[0mattrs\u001b[0m\u001b[0;34m,\u001b[0m\u001b[0;34m\u001b[0m\u001b[0;34m\u001b[0m\u001b[0m\n\u001b[0;32m--> 596\u001b[0;31m               ctx=ctx)\n\u001b[0m\u001b[1;32m    597\u001b[0m         \u001b[0;32melse\u001b[0m\u001b[0;34m:\u001b[0m\u001b[0;34m\u001b[0m\u001b[0;34m\u001b[0m\u001b[0m\n\u001b[1;32m    598\u001b[0m           outputs = execute.execute_with_cancellation(\n",
            "\u001b[0;32m/usr/local/lib/python3.7/dist-packages/tensorflow/python/eager/execute.py\u001b[0m in \u001b[0;36mquick_execute\u001b[0;34m(op_name, num_outputs, inputs, attrs, ctx, name)\u001b[0m\n\u001b[1;32m     58\u001b[0m     \u001b[0mctx\u001b[0m\u001b[0;34m.\u001b[0m\u001b[0mensure_initialized\u001b[0m\u001b[0;34m(\u001b[0m\u001b[0;34m)\u001b[0m\u001b[0;34m\u001b[0m\u001b[0;34m\u001b[0m\u001b[0m\n\u001b[1;32m     59\u001b[0m     tensors = pywrap_tfe.TFE_Py_Execute(ctx._handle, device_name, op_name,\n\u001b[0;32m---> 60\u001b[0;31m                                         inputs, attrs, num_outputs)\n\u001b[0m\u001b[1;32m     61\u001b[0m   \u001b[0;32mexcept\u001b[0m \u001b[0mcore\u001b[0m\u001b[0;34m.\u001b[0m\u001b[0m_NotOkStatusException\u001b[0m \u001b[0;32mas\u001b[0m \u001b[0me\u001b[0m\u001b[0;34m:\u001b[0m\u001b[0;34m\u001b[0m\u001b[0;34m\u001b[0m\u001b[0m\n\u001b[1;32m     62\u001b[0m     \u001b[0;32mif\u001b[0m \u001b[0mname\u001b[0m \u001b[0;32mis\u001b[0m \u001b[0;32mnot\u001b[0m \u001b[0;32mNone\u001b[0m\u001b[0;34m:\u001b[0m\u001b[0;34m\u001b[0m\u001b[0;34m\u001b[0m\u001b[0m\n",
            "\u001b[0;31mKeyboardInterrupt\u001b[0m: "
          ]
        }
      ]
    },
    {
      "cell_type": "code",
      "metadata": {
        "id": "GwOA7dDV9kEx"
      },
      "source": [
        "test_start = dt.datetime(2021,1,1)\n",
        "test_end = dt.datetime.now()\n",
        "\n",
        "test_data = web.DataReader(f\"{crypto}-{currency}\", \"yahoo\", test_start, test_end)"
      ],
      "execution_count": 19,
      "outputs": []
    },
    {
      "cell_type": "code",
      "metadata": {
        "id": "lNhvGyw-9mOA"
      },
      "source": [
        "test_data.index = pd.to_datetime(test_data.index)"
      ],
      "execution_count": 20,
      "outputs": []
    },
    {
      "cell_type": "code",
      "metadata": {
        "id": "ZWuoJ15r9roH",
        "outputId": "5a704a19-b2fc-4cd2-dacf-c3f5555335bc",
        "colab": {
          "base_uri": "https://localhost:8080/",
          "height": 455
        }
      },
      "source": [
        "test_data"
      ],
      "execution_count": 22,
      "outputs": [
        {
          "output_type": "execute_result",
          "data": {
            "text/html": [
              "<div>\n",
              "<style scoped>\n",
              "    .dataframe tbody tr th:only-of-type {\n",
              "        vertical-align: middle;\n",
              "    }\n",
              "\n",
              "    .dataframe tbody tr th {\n",
              "        vertical-align: top;\n",
              "    }\n",
              "\n",
              "    .dataframe thead th {\n",
              "        text-align: right;\n",
              "    }\n",
              "</style>\n",
              "<table border=\"1\" class=\"dataframe\">\n",
              "  <thead>\n",
              "    <tr style=\"text-align: right;\">\n",
              "      <th></th>\n",
              "      <th>High</th>\n",
              "      <th>Low</th>\n",
              "      <th>Open</th>\n",
              "      <th>Close</th>\n",
              "      <th>Volume</th>\n",
              "      <th>Adj Close</th>\n",
              "    </tr>\n",
              "    <tr>\n",
              "      <th>Date</th>\n",
              "      <th></th>\n",
              "      <th></th>\n",
              "      <th></th>\n",
              "      <th></th>\n",
              "      <th></th>\n",
              "      <th></th>\n",
              "    </tr>\n",
              "  </thead>\n",
              "  <tbody>\n",
              "    <tr>\n",
              "      <th>2021-01-01</th>\n",
              "      <td>2163227.25</td>\n",
              "      <td>2104315.00</td>\n",
              "      <td>2118227.00</td>\n",
              "      <td>2147022.75</td>\n",
              "      <td>2977069369481</td>\n",
              "      <td>2147022.75</td>\n",
              "    </tr>\n",
              "    <tr>\n",
              "      <th>2021-01-02</th>\n",
              "      <td>2423382.25</td>\n",
              "      <td>2126340.00</td>\n",
              "      <td>2147191.25</td>\n",
              "      <td>2348254.25</td>\n",
              "      <td>4960436300944</td>\n",
              "      <td>2348254.25</td>\n",
              "    </tr>\n",
              "    <tr>\n",
              "      <th>2021-01-03</th>\n",
              "      <td>2529617.25</td>\n",
              "      <td>2342776.00</td>\n",
              "      <td>2348410.75</td>\n",
              "      <td>2395940.25</td>\n",
              "      <td>5749407146511</td>\n",
              "      <td>2395940.25</td>\n",
              "    </tr>\n",
              "    <tr>\n",
              "      <th>2021-01-04</th>\n",
              "      <td>2437574.75</td>\n",
              "      <td>2097177.50</td>\n",
              "      <td>2398054.25</td>\n",
              "      <td>2336819.00</td>\n",
              "      <td>5932217878548</td>\n",
              "      <td>2336819.00</td>\n",
              "    </tr>\n",
              "    <tr>\n",
              "      <th>2021-01-05</th>\n",
              "      <td>2518591.25</td>\n",
              "      <td>2209558.75</td>\n",
              "      <td>2337193.75</td>\n",
              "      <td>2487166.50</td>\n",
              "      <td>4942319614003</td>\n",
              "      <td>2487166.50</td>\n",
              "    </tr>\n",
              "    <tr>\n",
              "      <th>...</th>\n",
              "      <td>...</td>\n",
              "      <td>...</td>\n",
              "      <td>...</td>\n",
              "      <td>...</td>\n",
              "      <td>...</td>\n",
              "      <td>...</td>\n",
              "    </tr>\n",
              "    <tr>\n",
              "      <th>2021-06-25</th>\n",
              "      <td>2631060.00</td>\n",
              "      <td>2325729.25</td>\n",
              "      <td>2571378.00</td>\n",
              "      <td>2347012.25</td>\n",
              "      <td>2984483364466</td>\n",
              "      <td>2347012.25</td>\n",
              "    </tr>\n",
              "    <tr>\n",
              "      <th>2021-06-26</th>\n",
              "      <td>2421181.75</td>\n",
              "      <td>2239202.50</td>\n",
              "      <td>2343813.75</td>\n",
              "      <td>2387702.00</td>\n",
              "      <td>2862412451710</td>\n",
              "      <td>2387702.00</td>\n",
              "    </tr>\n",
              "    <tr>\n",
              "      <th>2021-06-27</th>\n",
              "      <td>2572194.75</td>\n",
              "      <td>2379206.50</td>\n",
              "      <td>2395212.75</td>\n",
              "      <td>2571713.50</td>\n",
              "      <td>2635691316830</td>\n",
              "      <td>2571713.50</td>\n",
              "    </tr>\n",
              "    <tr>\n",
              "      <th>2021-06-28</th>\n",
              "      <td>2613853.00</td>\n",
              "      <td>2519085.25</td>\n",
              "      <td>2573901.25</td>\n",
              "      <td>2557977.00</td>\n",
              "      <td>2517728157059</td>\n",
              "      <td>2557977.00</td>\n",
              "    </tr>\n",
              "    <tr>\n",
              "      <th>2021-06-29</th>\n",
              "      <td>2694958.75</td>\n",
              "      <td>2543440.75</td>\n",
              "      <td>2559074.00</td>\n",
              "      <td>2694461.75</td>\n",
              "      <td>2746102054912</td>\n",
              "      <td>2694461.75</td>\n",
              "    </tr>\n",
              "  </tbody>\n",
              "</table>\n",
              "<p>180 rows × 6 columns</p>\n",
              "</div>"
            ],
            "text/plain": [
              "                  High         Low  ...         Volume   Adj Close\n",
              "Date                                ...                           \n",
              "2021-01-01  2163227.25  2104315.00  ...  2977069369481  2147022.75\n",
              "2021-01-02  2423382.25  2126340.00  ...  4960436300944  2348254.25\n",
              "2021-01-03  2529617.25  2342776.00  ...  5749407146511  2395940.25\n",
              "2021-01-04  2437574.75  2097177.50  ...  5932217878548  2336819.00\n",
              "2021-01-05  2518591.25  2209558.75  ...  4942319614003  2487166.50\n",
              "...                ...         ...  ...            ...         ...\n",
              "2021-06-25  2631060.00  2325729.25  ...  2984483364466  2347012.25\n",
              "2021-06-26  2421181.75  2239202.50  ...  2862412451710  2387702.00\n",
              "2021-06-27  2572194.75  2379206.50  ...  2635691316830  2571713.50\n",
              "2021-06-28  2613853.00  2519085.25  ...  2517728157059  2557977.00\n",
              "2021-06-29  2694958.75  2543440.75  ...  2746102054912  2694461.75\n",
              "\n",
              "[180 rows x 6 columns]"
            ]
          },
          "metadata": {
            "tags": []
          },
          "execution_count": 22
        }
      ]
    },
    {
      "cell_type": "code",
      "metadata": {
        "id": "rI2eNuCi9wNv"
      },
      "source": [
        "actual_prices = test_data['Close']"
      ],
      "execution_count": 23,
      "outputs": []
    },
    {
      "cell_type": "code",
      "metadata": {
        "id": "Z81G_e5_-kdT",
        "outputId": "4455b406-18cf-492b-8ae4-9e522fdc7e5a",
        "colab": {
          "base_uri": "https://localhost:8080/"
        }
      },
      "source": [
        "actual_prices = np.array(actual_prices)\n",
        "actual_prices"
      ],
      "execution_count": 24,
      "outputs": [
        {
          "output_type": "execute_result",
          "data": {
            "text/plain": [
              "array([2147022.75, 2348254.25, 2395940.25, 2336819.  , 2487166.5 ,\n",
              "       2693424.25, 2891625.75, 2993704.25, 2953814.25, 2813688.5 ,\n",
              "       2614815.75, 2481337.5 , 2730439.75, 2864221.75, 2694199.  ,\n",
              "       2645725.5 , 2617995.75, 2680935.25, 2640030.25, 2591756.25,\n",
              "       2248893.5 , 2409401.  , 2340918.75, 2356991.  , 2361793.5 ,\n",
              "       2374998.5 , 2222773.5 , 2308492.25, 2501913.5 , 2498482.75,\n",
              "       2414384.5 , 2452240.  , 2589344.75, 2730151.  , 2695098.25,\n",
              "       2776459.25, 2858106.25, 2831977.75, 3369115.  , 3386420.25,\n",
              "       3270382.75, 3483475.5 , 3448422.25, 3419439.  , 3536634.  ,\n",
              "       3482678.5 , 3588405.  , 3796127.  , 3752245.  , 4054759.5 ,\n",
              "       4071170.25, 4175234.25, 3927762.  , 3534027.  , 3598459.75,\n",
              "       3444981.25, 3410439.5 , 3399303.75, 3326373.5 , 3638530.75,\n",
              "       3545103.5 , 3689294.5 , 3551448.  , 3580544.25, 3579452.  ,\n",
              "       3747472.  , 3831271.25, 3989882.75, 4072166.  , 4198921.  ,\n",
              "       4167426.5 , 4451714.  , 4310706.5 , 4054141.25, 4119249.75,\n",
              "       4272263.5 , 4204622.  , 4226751.  , 4224360.  , 4165414.75,\n",
              "       3946860.5 , 3974729.  , 3833831.5 , 3754396.75, 3994554.75,\n",
              "       4055135.  , 4053488.75, 4200873.5 , 4327242.  , 4313079.  ,\n",
              "       4330986.5 , 4357392.5 , 4226751.5 , 4311483.  , 4327746.5 ,\n",
              "       4276035.5 , 4170133.5 , 4347744.  , 4352631.5 , 4468330.5 ,\n",
              "       4499101.5 , 4491485.5 , 4774301.  , 4734890.5 , 4731307.5 ,\n",
              "       4591076.5 , 4524215.5 , 4191673.  , 4172547.  , 4260859.5 ,\n",
              "       4066144.75, 3886924.75, 3825294.75, 3747273.5 , 3668868.  ,\n",
              "       4041646.  , 4104108.5 , 4074136.75, 3968757.5 , 4279028.5 ,\n",
              "       4284798.5 , 4196083.  , 4223535.  , 3934903.  , 4237814.  ,\n",
              "       4151654.75, 4203679.5 , 4310081.5 , 4267878.5 , 4105709.25,\n",
              "       4160718.  , 3621502.  , 3651423.  , 3655200.5 , 3426544.5 ,\n",
              "       3404260.75, 3189991.25, 3137897.75, 2709442.75, 2978043.25,\n",
              "       2720086.5 , 2736998.5 , 2535125.  , 2819221.5 , 2795880.  ,\n",
              "       2855617.5 , 2793746.75, 2584281.75, 2505985.25, 2582873.75,\n",
              "       2706163.5 , 2672689.5 , 2741540.  , 2863975.  , 2689965.5 ,\n",
              "       2592088.  , 2614724.  , 2443543.25, 2442683.75, 2725654.  ,\n",
              "       2679750.5 , 2734065.25, 2603574.75, 2863208.75, 2943230.5 ,\n",
              "       2963664.75, 2830947.25, 2825630.25, 2653413.  , 2640706.5 ,\n",
              "       2646819.5 , 2348365.75, 2416225.25, 2503838.25, 2571625.25,\n",
              "       2347012.25, 2387702.  , 2571713.5 , 2557977.  , 2694461.75])"
            ]
          },
          "metadata": {
            "tags": []
          },
          "execution_count": 24
        }
      ]
    },
    {
      "cell_type": "code",
      "metadata": {
        "id": "Gg3FByGu-sw6"
      },
      "source": [
        "total_dataset = pd.concat((data['Close'], test_data['Close']), axis=0)"
      ],
      "execution_count": 25,
      "outputs": []
    },
    {
      "cell_type": "code",
      "metadata": {
        "id": "kZfHWWrI-vze"
      },
      "source": [
        "total_dataset.index = pd.to_datetime(total_dataset.index)"
      ],
      "execution_count": 26,
      "outputs": []
    },
    {
      "cell_type": "code",
      "metadata": {
        "id": "F5t82amL-yzB"
      },
      "source": [
        "model_inputs = total_dataset[len(total_dataset)-len(test_data)-pred_days:].values\n",
        "model_inputs = model_inputs.reshape(-1, 1)\n",
        "model_inputs = scaler.fit_transform(model_inputs)"
      ],
      "execution_count": 27,
      "outputs": []
    },
    {
      "cell_type": "code",
      "metadata": {
        "id": "js9ELsx7-0LZ"
      },
      "source": [
        "x_test = []\n",
        "\n",
        "for x in range(pred_days, len(model_inputs)):\n",
        "  x_test.append(model_inputs[x-pred_days:x, 0])\n",
        "\n",
        "x_test = np.array(x_test)\n",
        "x_test = np.reshape(x_test, (x_test.shape[0], x_test.shape[1], 1))"
      ],
      "execution_count": 28,
      "outputs": []
    },
    {
      "cell_type": "code",
      "metadata": {
        "id": "y38Zsjci-14U"
      },
      "source": [
        "prediction_prices = model.predict(x_test)\n",
        "prediction_prices = scaler.inverse_transform(prediction_prices)"
      ],
      "execution_count": 29,
      "outputs": []
    },
    {
      "cell_type": "code",
      "metadata": {
        "id": "t0ab0Hdy-40d",
        "outputId": "a57a7e90-4cf8-451c-dd1c-06c0399c6379",
        "colab": {
          "base_uri": "https://localhost:8080/",
          "height": 295
        }
      },
      "source": [
        "plt.plot(actual_prices, color='red', label='Actual Prices')\n",
        "plt.plot(prediction_prices, color='green', label='Prediction Prices')\n",
        "plt.title(f\"{crypto}-{currency} Price Predictor\")\n",
        "plt.xlabel(\"Time\")\n",
        "plt.ylabel(\"Price\")\n",
        "plt.legend(loc=\"upper left\")\n",
        "plt.show()"
      ],
      "execution_count": 30,
      "outputs": [
        {
          "output_type": "display_data",
          "data": {
            "image/png": "[encoded data removed]",
            "text/plain": [
              "<Figure size 432x288 with 1 Axes>"
            ]
          },
          "metadata": {
            "tags": [],
            "needs_background": "light"
          }
        }
      ]
    }
  ]
}