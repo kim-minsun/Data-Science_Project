{
  "nbformat": 4,
  "nbformat_minor": 0,
  "metadata": {
    "colab": {
      "name": "Data-Science-Project.ipynb",
      "provenance": [],
      "include_colab_link": true
    },
    "kernelspec": {
      "name": "python3",
      "display_name": "Python 3"
    },
    "language_info": {
      "name": "python"
    }
  },
  "cells": [
    {
      "cell_type": "markdown",
      "metadata": {
        "id": "view-in-github",
        "colab_type": "text"
      },
      "source": [
        "<a href=\"https://colab.research.google.com/github/kim-minsun/Data-Science_Project/blob/Anjesh/Data_Science_Project.ipynb\" target=\"_parent\"><img src=\"https://colab.research.google.com/assets/colab-badge.svg\" alt=\"Open In Colab\"/></a>"
      ]
    },
    {
      "cell_type": "code",
      "metadata": {
        "id": "vf-x-pA5a5gs"
      },
      "source": [
        "import numpy as np\n",
        "import matplotlib.pyplot as plt\n",
        "import pandas as pd\n",
        "import pandas_datareader as web\n",
        "import datetime as dt"
      ],
      "execution_count": 12,
      "outputs": []
    },
    {
      "cell_type": "code",
      "metadata": {
        "id": "hxPy20uNixJw"
      },
      "source": [
        "from sklearn.preprocessing import MinMaxScaler\n",
        "from tensorflow.keras.layers import Dense, Dropout, LSTM\n",
        "from tensorflow.keras.models import Sequential"
      ],
      "execution_count": 13,
      "outputs": []
    },
    {
      "cell_type": "code",
      "metadata": {
        "id": "juq7un76i0IR"
      },
      "source": [
        "crypto = 'ADA'\n",
        "currency = 'USD'\n",
        "\n",
        "start = dt.datetime(2016,1,1)\n",
        "end = dt.datetime.now()\n",
        "\n",
        "data = web.DataReader(f\"{crypto}-{currency}\", \"yahoo\", start, end)"
      ],
      "execution_count": 14,
      "outputs": []
    },
    {
      "cell_type": "code",
      "metadata": {
        "id": "WCOf07Rgi2ga"
      },
      "source": [
        "data.index = pd.to_datetime(data.index)"
      ],
      "execution_count": 15,
      "outputs": []
    },
    {
      "cell_type": "code",
      "metadata": {
        "id": "U-zXdQcNi5KH"
      },
      "source": [
        "#Prepare Data\n",
        "scaler = MinMaxScaler(feature_range=(0,1))\n",
        "scaled_data = scaler.fit_transform(data['Close'].values.reshape(-1,1))"
      ],
      "execution_count": 16,
      "outputs": []
    },
    {
      "cell_type": "code",
      "metadata": {
        "id": "a_vrjs9oi77M"
      },
      "source": [
        "pred_days = 30 # no. of days you're considering for the prediction"
      ],
      "execution_count": 17,
      "outputs": []
    },
    {
      "cell_type": "code",
      "metadata": {
        "id": "eHwdoI5-i973"
      },
      "source": [
        "x_train, y_train = [], []\n",
        "\n",
        "for x in range(pred_days, len(scaled_data)):\n",
        "  x_train.append(scaled_data[x-pred_days:x, 0])\n",
        "  y_train.append(scaled_data[x, 0])"
      ],
      "execution_count": 18,
      "outputs": []
    },
    {
      "cell_type": "code",
      "metadata": {
        "id": "Q8lstH1HjAHo"
      },
      "source": [
        "x_train, y_train = np.array(x_train), np.array(y_train)\n",
        "x_train = np.reshape(x_train, (x_train.shape[0], x_train.shape[1], 1))\n"
      ],
      "execution_count": 19,
      "outputs": []
    },
    {
      "cell_type": "code",
      "metadata": {
        "id": "A-LHdWfNjGCe",
        "colab": {
          "base_uri": "https://localhost:8080/"
        },
        "outputId": "f027e99d-905c-42ca-de18-5c657902a98a"
      },
      "source": [
        "model = Sequential()\n",
        "\n",
        "model.add(LSTM(units=50, return_sequences=True, input_shape=(x_train.shape[1], 1)))\n",
        "model.add(Dropout(0.2))\n",
        "model.add(LSTM(units=50, return_sequences=True))\n",
        "model.add(Dropout(0.2))\n",
        "model.add(LSTM(units=50))\n",
        "model.add(Dropout(0.2))\n",
        "model.add(Dense(1))\n",
        "\n",
        "model.compile(optimizer='adam', loss='mean_squared_error')\n",
        "model.fit(x_train, y_train, epochs=30, batch_size=32)"
      ],
      "execution_count": 20,
      "outputs": [
        {
          "output_type": "stream",
          "text": [
            "Epoch 1/30\n",
            "42/42 [==============================] - 6s 45ms/step - loss: 0.0094\n",
            "Epoch 2/30\n",
            "42/42 [==============================] - 2s 43ms/step - loss: 0.0030\n",
            "Epoch 3/30\n",
            "42/42 [==============================] - 2s 44ms/step - loss: 0.0030\n",
            "Epoch 4/30\n",
            "42/42 [==============================] - 2s 45ms/step - loss: 0.0018\n",
            "Epoch 5/30\n",
            "42/42 [==============================] - 2s 47ms/step - loss: 0.0019\n",
            "Epoch 6/30\n",
            "42/42 [==============================] - 2s 45ms/step - loss: 0.0020\n",
            "Epoch 7/30\n",
            "42/42 [==============================] - 2s 43ms/step - loss: 0.0017\n",
            "Epoch 8/30\n",
            "42/42 [==============================] - 2s 44ms/step - loss: 0.0018\n",
            "Epoch 9/30\n",
            "42/42 [==============================] - 2s 45ms/step - loss: 0.0018\n",
            "Epoch 10/30\n",
            "42/42 [==============================] - 2s 44ms/step - loss: 0.0017\n",
            "Epoch 11/30\n",
            "42/42 [==============================] - 2s 43ms/step - loss: 0.0016\n",
            "Epoch 12/30\n",
            "42/42 [==============================] - 2s 45ms/step - loss: 0.0014\n",
            "Epoch 13/30\n",
            "42/42 [==============================] - 2s 45ms/step - loss: 0.0017\n",
            "Epoch 14/30\n",
            "42/42 [==============================] - 2s 44ms/step - loss: 0.0016\n",
            "Epoch 15/30\n",
            "42/42 [==============================] - 2s 49ms/step - loss: 0.0014\n",
            "Epoch 16/30\n",
            "42/42 [==============================] - 2s 59ms/step - loss: 0.0015\n",
            "Epoch 17/30\n",
            "42/42 [==============================] - 2s 59ms/step - loss: 0.0015\n",
            "Epoch 18/30\n",
            "42/42 [==============================] - 3s 64ms/step - loss: 0.0015\n",
            "Epoch 19/30\n",
            "42/42 [==============================] - 2s 44ms/step - loss: 0.0013\n",
            "Epoch 20/30\n",
            "42/42 [==============================] - 2s 43ms/step - loss: 0.0019\n",
            "Epoch 21/30\n",
            "42/42 [==============================] - 2s 43ms/step - loss: 0.0014\n",
            "Epoch 22/30\n",
            "42/42 [==============================] - 2s 45ms/step - loss: 0.0012\n",
            "Epoch 23/30\n",
            "42/42 [==============================] - 2s 44ms/step - loss: 0.0013\n",
            "Epoch 24/30\n",
            "42/42 [==============================] - 2s 43ms/step - loss: 0.0014\n",
            "Epoch 25/30\n",
            "42/42 [==============================] - 2s 45ms/step - loss: 0.0013\n",
            "Epoch 26/30\n",
            "42/42 [==============================] - 2s 43ms/step - loss: 0.0012\n",
            "Epoch 27/30\n",
            "42/42 [==============================] - 2s 44ms/step - loss: 0.0014\n",
            "Epoch 28/30\n",
            "42/42 [==============================] - 2s 47ms/step - loss: 0.0012\n",
            "Epoch 29/30\n",
            "42/42 [==============================] - 2s 44ms/step - loss: 0.0013\n",
            "Epoch 30/30\n",
            "42/42 [==============================] - 2s 44ms/step - loss: 0.0013\n"
          ],
          "name": "stdout"
        },
        {
          "output_type": "execute_result",
          "data": {
            "text/plain": [
              "<tensorflow.python.keras.callbacks.History at 0x7fd88219c550>"
            ]
          },
          "metadata": {
            "tags": []
          },
          "execution_count": 20
        }
      ]
    },
    {
      "cell_type": "code",
      "metadata": {
        "id": "Uc1wc795jGoV",
        "colab": {
          "base_uri": "https://localhost:8080/"
        },
        "outputId": "877df174-cb11-4adf-e12f-3516ecbb27cb"
      },
      "source": [
        "model = Sequential()\n",
        "\n",
        "model.add(LSTM(units=50, return_sequences=True, input_shape=(x_train.shape[1], 1)))\n",
        "model.add(Dropout(0.2))\n",
        "model.add(LSTM(units=50, return_sequences=True))\n",
        "model.add(Dropout(0.2))\n",
        "model.add(LSTM(units=50))\n",
        "model.add(Dropout(0.2))\n",
        "model.add(Dense(1))\n",
        "\n",
        "model.compile(optimizer='adam', loss='mean_squared_error')\n",
        "model.fit(x_train, y_train, epochs=30, batch_size=32)"
      ],
      "execution_count": 21,
      "outputs": [
        {
          "output_type": "stream",
          "text": [
            "Epoch 1/30\n",
            "42/42 [==============================] - 6s 43ms/step - loss: 0.0061\n",
            "Epoch 2/30\n",
            "42/42 [==============================] - 2s 43ms/step - loss: 0.0024\n",
            "Epoch 3/30\n",
            "42/42 [==============================] - 2s 44ms/step - loss: 0.0020\n",
            "Epoch 4/30\n",
            "42/42 [==============================] - 2s 43ms/step - loss: 0.0022\n",
            "Epoch 5/30\n",
            "42/42 [==============================] - 2s 43ms/step - loss: 0.0020\n",
            "Epoch 6/30\n",
            "42/42 [==============================] - 2s 44ms/step - loss: 0.0020\n",
            "Epoch 7/30\n",
            "42/42 [==============================] - 2s 43ms/step - loss: 0.0017\n",
            "Epoch 8/30\n",
            "42/42 [==============================] - 2s 43ms/step - loss: 0.0018\n",
            "Epoch 9/30\n",
            "42/42 [==============================] - 2s 43ms/step - loss: 0.0017\n",
            "Epoch 10/30\n",
            "42/42 [==============================] - 2s 44ms/step - loss: 0.0016\n",
            "Epoch 11/30\n",
            "42/42 [==============================] - 2s 43ms/step - loss: 0.0016\n",
            "Epoch 12/30\n",
            "42/42 [==============================] - 2s 44ms/step - loss: 0.0013\n",
            "Epoch 13/30\n",
            "42/42 [==============================] - 2s 45ms/step - loss: 0.0015\n",
            "Epoch 14/30\n",
            "42/42 [==============================] - 2s 43ms/step - loss: 0.0014\n",
            "Epoch 15/30\n",
            "42/42 [==============================] - 2s 45ms/step - loss: 0.0014\n",
            "Epoch 16/30\n",
            "42/42 [==============================] - 2s 45ms/step - loss: 0.0014\n",
            "Epoch 17/30\n",
            "42/42 [==============================] - 2s 43ms/step - loss: 0.0012\n",
            "Epoch 18/30\n",
            "42/42 [==============================] - 2s 44ms/step - loss: 0.0015\n",
            "Epoch 19/30\n",
            "42/42 [==============================] - 2s 45ms/step - loss: 0.0012\n",
            "Epoch 20/30\n",
            "42/42 [==============================] - 2s 45ms/step - loss: 0.0016\n",
            "Epoch 21/30\n",
            "42/42 [==============================] - 2s 44ms/step - loss: 0.0013\n",
            "Epoch 22/30\n",
            "42/42 [==============================] - 2s 44ms/step - loss: 0.0011\n",
            "Epoch 23/30\n",
            "42/42 [==============================] - 2s 44ms/step - loss: 0.0013\n",
            "Epoch 24/30\n",
            "42/42 [==============================] - 2s 44ms/step - loss: 0.0011\n",
            "Epoch 25/30\n",
            "42/42 [==============================] - 2s 43ms/step - loss: 0.0012\n",
            "Epoch 26/30\n",
            "42/42 [==============================] - 2s 43ms/step - loss: 0.0011\n",
            "Epoch 27/30\n",
            "42/42 [==============================] - 2s 44ms/step - loss: 0.0013\n",
            "Epoch 28/30\n",
            "42/42 [==============================] - 2s 43ms/step - loss: 0.0012\n",
            "Epoch 29/30\n",
            "42/42 [==============================] - 2s 44ms/step - loss: 0.0012\n",
            "Epoch 30/30\n",
            "42/42 [==============================] - 2s 43ms/step - loss: 0.0011\n"
          ],
          "name": "stdout"
        },
        {
          "output_type": "execute_result",
          "data": {
            "text/plain": [
              "<tensorflow.python.keras.callbacks.History at 0x7fd880e0e350>"
            ]
          },
          "metadata": {
            "tags": []
          },
          "execution_count": 21
        }
      ]
    },
    {
      "cell_type": "code",
      "metadata": {
        "id": "PzFt6XRylXFx"
      },
      "source": [
        "test_start = dt.datetime(2021,1,1)\n",
        "test_end = dt.datetime.now()\n",
        "\n",
        "test_data = web.DataReader(f\"{crypto}-{currency}\", \"yahoo\", test_start, test_end)"
      ],
      "execution_count": 22,
      "outputs": []
    },
    {
      "cell_type": "code",
      "metadata": {
        "id": "Ju-LQfcVjJyz"
      },
      "source": [
        "test_data.index = pd.to_datetime(test_data.index)\n"
      ],
      "execution_count": 23,
      "outputs": []
    },
    {
      "cell_type": "code",
      "metadata": {
        "id": "XwH7gyZRjLt-",
        "outputId": "7758065c-694e-4151-f255-ff88b91b20fd",
        "colab": {
          "base_uri": "https://localhost:8080/",
          "height": 450
        }
      },
      "source": [
        "test_data"
      ],
      "execution_count": 24,
      "outputs": [
        {
          "output_type": "execute_result",
          "data": {
            "text/html": [
              "<div>\n",
              "<style scoped>\n",
              "    .dataframe tbody tr th:only-of-type {\n",
              "        vertical-align: middle;\n",
              "    }\n",
              "\n",
              "    .dataframe tbody tr th {\n",
              "        vertical-align: top;\n",
              "    }\n",
              "\n",
              "    .dataframe thead th {\n",
              "        text-align: right;\n",
              "    }\n",
              "</style>\n",
              "<table border=\"1\" class=\"dataframe\">\n",
              "  <thead>\n",
              "    <tr style=\"text-align: right;\">\n",
              "      <th></th>\n",
              "      <th>High</th>\n",
              "      <th>Low</th>\n",
              "      <th>Open</th>\n",
              "      <th>Close</th>\n",
              "      <th>Volume</th>\n",
              "      <th>Adj Close</th>\n",
              "    </tr>\n",
              "    <tr>\n",
              "      <th>Date</th>\n",
              "      <th></th>\n",
              "      <th></th>\n",
              "      <th></th>\n",
              "      <th></th>\n",
              "      <th></th>\n",
              "      <th></th>\n",
              "    </tr>\n",
              "  </thead>\n",
              "  <tbody>\n",
              "    <tr>\n",
              "      <th>2021-01-01</th>\n",
              "      <td>0.184246</td>\n",
              "      <td>0.172022</td>\n",
              "      <td>0.181382</td>\n",
              "      <td>0.175350</td>\n",
              "      <td>1122218004</td>\n",
              "      <td>0.175350</td>\n",
              "    </tr>\n",
              "    <tr>\n",
              "      <th>2021-01-02</th>\n",
              "      <td>0.184253</td>\n",
              "      <td>0.169233</td>\n",
              "      <td>0.175359</td>\n",
              "      <td>0.177423</td>\n",
              "      <td>1408849504</td>\n",
              "      <td>0.177423</td>\n",
              "    </tr>\n",
              "    <tr>\n",
              "      <th>2021-01-03</th>\n",
              "      <td>0.208679</td>\n",
              "      <td>0.173376</td>\n",
              "      <td>0.177382</td>\n",
              "      <td>0.204995</td>\n",
              "      <td>2303857909</td>\n",
              "      <td>0.204995</td>\n",
              "    </tr>\n",
              "    <tr>\n",
              "      <th>2021-01-04</th>\n",
              "      <td>0.239661</td>\n",
              "      <td>0.194450</td>\n",
              "      <td>0.205236</td>\n",
              "      <td>0.224762</td>\n",
              "      <td>3260699086</td>\n",
              "      <td>0.224762</td>\n",
              "    </tr>\n",
              "    <tr>\n",
              "      <th>2021-01-05</th>\n",
              "      <td>0.264886</td>\n",
              "      <td>0.208454</td>\n",
              "      <td>0.224817</td>\n",
              "      <td>0.258314</td>\n",
              "      <td>4097207384</td>\n",
              "      <td>0.258314</td>\n",
              "    </tr>\n",
              "    <tr>\n",
              "      <th>...</th>\n",
              "      <td>...</td>\n",
              "      <td>...</td>\n",
              "      <td>...</td>\n",
              "      <td>...</td>\n",
              "      <td>...</td>\n",
              "      <td>...</td>\n",
              "    </tr>\n",
              "    <tr>\n",
              "      <th>2021-06-24</th>\n",
              "      <td>1.392683</td>\n",
              "      <td>1.245304</td>\n",
              "      <td>1.359522</td>\n",
              "      <td>1.256478</td>\n",
              "      <td>4343177013</td>\n",
              "      <td>1.256478</td>\n",
              "    </tr>\n",
              "    <tr>\n",
              "      <th>2021-06-25</th>\n",
              "      <td>1.291396</td>\n",
              "      <td>1.198573</td>\n",
              "      <td>1.254301</td>\n",
              "      <td>1.250440</td>\n",
              "      <td>3241467640</td>\n",
              "      <td>1.250440</td>\n",
              "    </tr>\n",
              "    <tr>\n",
              "      <th>2021-06-26</th>\n",
              "      <td>1.348168</td>\n",
              "      <td>1.243678</td>\n",
              "      <td>1.251827</td>\n",
              "      <td>1.335202</td>\n",
              "      <td>2371576551</td>\n",
              "      <td>1.335202</td>\n",
              "    </tr>\n",
              "    <tr>\n",
              "      <th>2021-06-27</th>\n",
              "      <td>1.349285</td>\n",
              "      <td>1.305406</td>\n",
              "      <td>1.337114</td>\n",
              "      <td>1.324752</td>\n",
              "      <td>2292440816</td>\n",
              "      <td>1.324752</td>\n",
              "    </tr>\n",
              "    <tr>\n",
              "      <th>2021-06-29</th>\n",
              "      <td>1.417712</td>\n",
              "      <td>1.320982</td>\n",
              "      <td>1.332126</td>\n",
              "      <td>1.381663</td>\n",
              "      <td>2665729280</td>\n",
              "      <td>1.381663</td>\n",
              "    </tr>\n",
              "  </tbody>\n",
              "</table>\n",
              "<p>180 rows × 6 columns</p>\n",
              "</div>"
            ],
            "text/plain": [
              "                High       Low      Open     Close      Volume  Adj Close\n",
              "Date                                                                     \n",
              "2021-01-01  0.184246  0.172022  0.181382  0.175350  1122218004   0.175350\n",
              "2021-01-02  0.184253  0.169233  0.175359  0.177423  1408849504   0.177423\n",
              "2021-01-03  0.208679  0.173376  0.177382  0.204995  2303857909   0.204995\n",
              "2021-01-04  0.239661  0.194450  0.205236  0.224762  3260699086   0.224762\n",
              "2021-01-05  0.264886  0.208454  0.224817  0.258314  4097207384   0.258314\n",
              "...              ...       ...       ...       ...         ...        ...\n",
              "2021-06-24  1.392683  1.245304  1.359522  1.256478  4343177013   1.256478\n",
              "2021-06-25  1.291396  1.198573  1.254301  1.250440  3241467640   1.250440\n",
              "2021-06-26  1.348168  1.243678  1.251827  1.335202  2371576551   1.335202\n",
              "2021-06-27  1.349285  1.305406  1.337114  1.324752  2292440816   1.324752\n",
              "2021-06-29  1.417712  1.320982  1.332126  1.381663  2665729280   1.381663\n",
              "\n",
              "[180 rows x 6 columns]"
            ]
          },
          "metadata": {
            "tags": []
          },
          "execution_count": 24
        }
      ]
    },
    {
      "cell_type": "code",
      "metadata": {
        "id": "f9UIdT--jN2Q"
      },
      "source": [
        "actual_prices = test_data['Close']"
      ],
      "execution_count": 25,
      "outputs": []
    },
    {
      "cell_type": "code",
      "metadata": {
        "id": "4TP3ajzLjQcT",
        "outputId": "311be607-000d-41a4-c01f-4e8a21f41bc4",
        "colab": {
          "base_uri": "https://localhost:8080/"
        }
      },
      "source": [
        "actual_prices = np.array(actual_prices)\n",
        "actual_prices"
      ],
      "execution_count": 26,
      "outputs": [
        {
          "output_type": "execute_result",
          "data": {
            "text/plain": [
              "array([0.17535   , 0.177423  , 0.20499501, 0.22476199, 0.25831401,\n",
              "       0.331898  , 0.29998001, 0.30559701, 0.332973  , 0.30489501,\n",
              "       0.275466  , 0.28700301, 0.313609  , 0.31039599, 0.30252999,\n",
              "       0.35244399, 0.379852  , 0.37142801, 0.36913699, 0.37539399,\n",
              "       0.31020901, 0.34957701, 0.34564301, 0.353881  , 0.34388599,\n",
              "       0.34423399, 0.31308001, 0.333303  , 0.348131  , 0.36261901,\n",
              "       0.34489799, 0.402033  , 0.426247  , 0.44139999, 0.44105101,\n",
              "       0.53787398, 0.627886  , 0.66323799, 0.68251097, 0.70351601,\n",
              "       0.930318  , 0.92774099, 0.925587  , 0.90571898, 0.84841901,\n",
              "       0.86101198, 0.870951  , 0.89091998, 0.91411901, 0.92764902,\n",
              "       1.12295794, 1.10052001, 1.09915102, 0.95470899, 1.05165696,\n",
              "       1.07911599, 1.24110496, 1.32485998, 1.30805898, 1.29238796,\n",
              "       1.225582  , 1.21659303, 1.11486804, 1.16852295, 1.13101196,\n",
              "       1.13336694, 1.11805296, 1.19516098, 1.13500297, 1.12478995,\n",
              "       1.03914404, 1.10331404, 1.05915403, 1.03353906, 1.24295294,\n",
              "       1.37867296, 1.23900604, 1.30217004, 1.20654094, 1.18913996,\n",
              "       1.10987401, 1.12155199, 1.07500196, 1.10157394, 1.21396899,\n",
              "       1.17657697, 1.19112396, 1.20254099, 1.21331704, 1.19326401,\n",
              "       1.18924403, 1.196509  , 1.17327702, 1.19141996, 1.21430004,\n",
              "       1.25535405, 1.17514896, 1.21943605, 1.20353997, 1.21875799,\n",
              "       1.26673496, 1.31612694, 1.41178596, 1.45542002, 1.48158801,\n",
              "       1.41694903, 1.38486898, 1.27550101, 1.19795895, 1.26593399,\n",
              "       1.20673501, 1.147017  , 1.15570199, 1.10135496, 1.08825004,\n",
              "       1.23401904, 1.30692697, 1.33566594, 1.30801404, 1.35244906,\n",
              "       1.35307097, 1.32681203, 1.36203003, 1.27411103, 1.47552896,\n",
              "       1.65012395, 1.65345299, 1.61955404, 1.77056205, 1.644696  ,\n",
              "       1.76407695, 1.55277503, 1.93366802, 2.00479603, 2.17402697,\n",
              "       2.30911303, 2.03222609, 2.00366211, 1.48252106, 1.81046903,\n",
              "       1.55227697, 1.46362197, 1.325436  , 1.54948497, 1.55536902,\n",
              "       1.78270197, 1.64595997, 1.51198697, 1.406232  , 1.57727897,\n",
              "       1.74277794, 1.73475301, 1.75282395, 1.84047103, 1.71090806,\n",
              "       1.65900898, 1.67824805, 1.56410599, 1.58802998, 1.62482595,\n",
              "       1.53185701, 1.436378  , 1.48021996, 1.55835903, 1.57510996,\n",
              "       1.59775603, 1.48257303, 1.48219395, 1.41539598, 1.39057004,\n",
              "       1.42918801, 1.17747998, 1.15325403, 1.25289595, 1.35608697,\n",
              "       1.25647795, 1.25044   , 1.33520198, 1.32475197, 1.3816632 ])"
            ]
          },
          "metadata": {
            "tags": []
          },
          "execution_count": 26
        }
      ]
    },
    {
      "cell_type": "code",
      "metadata": {
        "id": "c5R4jMgajS78"
      },
      "source": [
        "total_dataset = pd.concat((data['Close'], test_data['Close']), axis=0)"
      ],
      "execution_count": 27,
      "outputs": []
    },
    {
      "cell_type": "code",
      "metadata": {
        "id": "xOWaKqA7jVxX"
      },
      "source": [
        "total_dataset.index = pd.to_datetime(total_dataset.index)\n"
      ],
      "execution_count": 28,
      "outputs": []
    },
    {
      "cell_type": "code",
      "metadata": {
        "id": "Grg80q-tjaI0"
      },
      "source": [
        "model_inputs = total_dataset[len(total_dataset)-len(test_data)-pred_days:].values\n",
        "model_inputs = model_inputs.reshape(-1, 1)\n",
        "model_inputs = scaler.fit_transform(model_inputs)"
      ],
      "execution_count": 29,
      "outputs": []
    },
    {
      "cell_type": "code",
      "metadata": {
        "id": "DGZsmcRmja5L"
      },
      "source": [
        "x_test = []\n",
        "\n",
        "for x in range(pred_days, len(model_inputs)):\n",
        "  x_test.append(model_inputs[x-pred_days:x, 0])\n",
        "\n",
        "x_test = np.array(x_test)\n",
        "x_test = np.reshape(x_test, (x_test.shape[0], x_test.shape[1], 1))"
      ],
      "execution_count": 30,
      "outputs": []
    },
    {
      "cell_type": "code",
      "metadata": {
        "id": "KccZu4ORjdSO"
      },
      "source": [
        "prediction_prices = model.predict(x_test)\n",
        "prediction_prices = scaler.inverse_transform(prediction_prices)"
      ],
      "execution_count": 31,
      "outputs": []
    },
    {
      "cell_type": "code",
      "metadata": {
        "id": "t0NS58gwjgup",
        "outputId": "c949b9c6-cb0f-4607-906c-1a3607278f72",
        "colab": {
          "base_uri": "https://localhost:8080/",
          "height": 295
        }
      },
      "source": [
        "plt.plot(actual_prices, color='red', label='Actual Prices')\n",
        "plt.plot(prediction_prices, color='green', label='Prediction Prices')\n",
        "plt.title(f\"{crypto}-{currency} Price Predictor\")\n",
        "plt.xlabel(\"Time\")\n",
        "plt.ylabel(\"Price\")\n",
        "plt.legend(loc=\"upper left\")\n",
        "plt.show()"
      ],
      "execution_count": 32,
      "outputs": [
        {
          "output_type": "display_data",
          "data": {
            "image/png": "[encoded data removed]",
            "text/plain": [
              "<Figure size 432x288 with 1 Axes>"
            ]
          },
          "metadata": {
            "tags": [],
            "needs_background": "light"
          }
        }
      ]
    }
  ]
}