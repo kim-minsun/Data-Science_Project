{
  "nbformat": 4,
  "nbformat_minor": 0,
  "metadata": {
    "colab": {
      "name": "Data-Science-Project.ipynb",
      "provenance": [],
      "include_colab_link": true
    },
    "kernelspec": {
      "name": "python3",
      "display_name": "Python 3"
    },
    "language_info": {
      "name": "python"
    }
  },
  "cells": [
    {
      "cell_type": "markdown",
      "metadata": {
        "id": "view-in-github",
        "colab_type": "text"
      },
      "source": [
        "<a href=\"https://colab.research.google.com/github/kim-minsun/Data-Science_Project/blob/Kim/Data_Science_Project.ipynb\" target=\"_parent\"><img src=\"https://colab.research.google.com/assets/colab-badge.svg\" alt=\"Open In Colab\"/></a>"
      ]
    },
    {
      "cell_type": "code",
      "metadata": {
        "id": "vf-x-pA5a5gs"
      },
      "source": [
        "import numpy as np\n",
        "import matplotlib.pyplot as plt\n",
        "import pandas as pd\n",
        "import pandas_datareader as web\n",
        "import datetime as dt\n",
        "import seaborn as sns"
      ],
      "execution_count": 14,
      "outputs": []
    },
    {
      "cell_type": "code",
      "metadata": {
        "id": "ofr1tDR2srjN"
      },
      "source": [
        "from sklearn.preprocessing import MinMaxScaler\n",
        "from tensorflow.keras.layers import Dense, Dropout, LSTM\n",
        "from tensorflow.keras.models import Sequential"
      ],
      "execution_count": 15,
      "outputs": []
    },
    {
      "cell_type": "code",
      "metadata": {
        "id": "DRuGM6XAwGjn"
      },
      "source": [
        "data = pd.read_csv(\"coin_Bitcoin.csv\")"
      ],
      "execution_count": 16,
      "outputs": []
    },
    {
      "cell_type": "code",
      "metadata": {
        "colab": {
          "base_uri": "https://localhost:8080/",
          "height": 204
        },
        "id": "pKM3VTD3xXuh",
        "outputId": "1ed2deb0-3dc2-4a34-d219-74bd00909cfb"
      },
      "source": [
        "#understanding the data\n",
        "\n",
        "data.head()"
      ],
      "execution_count": 17,
      "outputs": [
        {
          "output_type": "execute_result",
          "data": {
            "text/html": [
              "<div>\n",
              "<style scoped>\n",
              "    .dataframe tbody tr th:only-of-type {\n",
              "        vertical-align: middle;\n",
              "    }\n",
              "\n",
              "    .dataframe tbody tr th {\n",
              "        vertical-align: top;\n",
              "    }\n",
              "\n",
              "    .dataframe thead th {\n",
              "        text-align: right;\n",
              "    }\n",
              "</style>\n",
              "<table border=\"1\" class=\"dataframe\">\n",
              "  <thead>\n",
              "    <tr style=\"text-align: right;\">\n",
              "      <th></th>\n",
              "      <th>SNo</th>\n",
              "      <th>Name</th>\n",
              "      <th>Symbol</th>\n",
              "      <th>Date</th>\n",
              "      <th>High</th>\n",
              "      <th>Low</th>\n",
              "      <th>Open</th>\n",
              "      <th>Close</th>\n",
              "      <th>Volume</th>\n",
              "      <th>Marketcap</th>\n",
              "    </tr>\n",
              "  </thead>\n",
              "  <tbody>\n",
              "    <tr>\n",
              "      <th>0</th>\n",
              "      <td>1</td>\n",
              "      <td>Bitcoin</td>\n",
              "      <td>BTC</td>\n",
              "      <td>2013-04-29 23:59:59</td>\n",
              "      <td>147.488007</td>\n",
              "      <td>134.000000</td>\n",
              "      <td>134.444000</td>\n",
              "      <td>144.539993</td>\n",
              "      <td>0.0</td>\n",
              "      <td>1.603769e+09</td>\n",
              "    </tr>\n",
              "    <tr>\n",
              "      <th>1</th>\n",
              "      <td>2</td>\n",
              "      <td>Bitcoin</td>\n",
              "      <td>BTC</td>\n",
              "      <td>2013-04-30 23:59:59</td>\n",
              "      <td>146.929993</td>\n",
              "      <td>134.050003</td>\n",
              "      <td>144.000000</td>\n",
              "      <td>139.000000</td>\n",
              "      <td>0.0</td>\n",
              "      <td>1.542813e+09</td>\n",
              "    </tr>\n",
              "    <tr>\n",
              "      <th>2</th>\n",
              "      <td>3</td>\n",
              "      <td>Bitcoin</td>\n",
              "      <td>BTC</td>\n",
              "      <td>2013-05-01 23:59:59</td>\n",
              "      <td>139.889999</td>\n",
              "      <td>107.720001</td>\n",
              "      <td>139.000000</td>\n",
              "      <td>116.989998</td>\n",
              "      <td>0.0</td>\n",
              "      <td>1.298955e+09</td>\n",
              "    </tr>\n",
              "    <tr>\n",
              "      <th>3</th>\n",
              "      <td>4</td>\n",
              "      <td>Bitcoin</td>\n",
              "      <td>BTC</td>\n",
              "      <td>2013-05-02 23:59:59</td>\n",
              "      <td>125.599998</td>\n",
              "      <td>92.281898</td>\n",
              "      <td>116.379997</td>\n",
              "      <td>105.209999</td>\n",
              "      <td>0.0</td>\n",
              "      <td>1.168517e+09</td>\n",
              "    </tr>\n",
              "    <tr>\n",
              "      <th>4</th>\n",
              "      <td>5</td>\n",
              "      <td>Bitcoin</td>\n",
              "      <td>BTC</td>\n",
              "      <td>2013-05-03 23:59:59</td>\n",
              "      <td>108.127998</td>\n",
              "      <td>79.099998</td>\n",
              "      <td>106.250000</td>\n",
              "      <td>97.750000</td>\n",
              "      <td>0.0</td>\n",
              "      <td>1.085995e+09</td>\n",
              "    </tr>\n",
              "  </tbody>\n",
              "</table>\n",
              "</div>"
            ],
            "text/plain": [
              "   SNo     Name Symbol  ...       Close  Volume     Marketcap\n",
              "0    1  Bitcoin    BTC  ...  144.539993     0.0  1.603769e+09\n",
              "1    2  Bitcoin    BTC  ...  139.000000     0.0  1.542813e+09\n",
              "2    3  Bitcoin    BTC  ...  116.989998     0.0  1.298955e+09\n",
              "3    4  Bitcoin    BTC  ...  105.209999     0.0  1.168517e+09\n",
              "4    5  Bitcoin    BTC  ...   97.750000     0.0  1.085995e+09\n",
              "\n",
              "[5 rows x 10 columns]"
            ]
          },
          "metadata": {
            "tags": []
          },
          "execution_count": 17
        }
      ]
    },
    {
      "cell_type": "code",
      "metadata": {
        "colab": {
          "base_uri": "https://localhost:8080/",
          "height": 394
        },
        "id": "ZAX3rD-hxiXe",
        "outputId": "2aafee9f-a7c7-4afb-c56b-d3457431918e"
      },
      "source": [
        "data.tail()"
      ],
      "execution_count": 18,
      "outputs": [
        {
          "output_type": "execute_result",
          "data": {
            "text/html": [
              "<div>\n",
              "<style scoped>\n",
              "    .dataframe tbody tr th:only-of-type {\n",
              "        vertical-align: middle;\n",
              "    }\n",
              "\n",
              "    .dataframe tbody tr th {\n",
              "        vertical-align: top;\n",
              "    }\n",
              "\n",
              "    .dataframe thead th {\n",
              "        text-align: right;\n",
              "    }\n",
              "</style>\n",
              "<table border=\"1\" class=\"dataframe\">\n",
              "  <thead>\n",
              "    <tr style=\"text-align: right;\">\n",
              "      <th></th>\n",
              "      <th>SNo</th>\n",
              "      <th>Name</th>\n",
              "      <th>Symbol</th>\n",
              "      <th>Date</th>\n",
              "      <th>High</th>\n",
              "      <th>Low</th>\n",
              "      <th>Open</th>\n",
              "      <th>Close</th>\n",
              "      <th>Volume</th>\n",
              "      <th>Marketcap</th>\n",
              "    </tr>\n",
              "  </thead>\n",
              "  <tbody>\n",
              "    <tr>\n",
              "      <th>2857</th>\n",
              "      <td>2858</td>\n",
              "      <td>Bitcoin</td>\n",
              "      <td>BTC</td>\n",
              "      <td>2021-02-23 23:59:59</td>\n",
              "      <td>54204.929756</td>\n",
              "      <td>45290.590268</td>\n",
              "      <td>54204.929756</td>\n",
              "      <td>48824.426869</td>\n",
              "      <td>1.061025e+11</td>\n",
              "      <td>9.099259e+11</td>\n",
              "    </tr>\n",
              "    <tr>\n",
              "      <th>2858</th>\n",
              "      <td>2859</td>\n",
              "      <td>Bitcoin</td>\n",
              "      <td>BTC</td>\n",
              "      <td>2021-02-24 23:59:59</td>\n",
              "      <td>51290.136695</td>\n",
              "      <td>47213.498162</td>\n",
              "      <td>48835.087661</td>\n",
              "      <td>49705.333316</td>\n",
              "      <td>6.369552e+10</td>\n",
              "      <td>9.263931e+11</td>\n",
              "    </tr>\n",
              "    <tr>\n",
              "      <th>2859</th>\n",
              "      <td>2860</td>\n",
              "      <td>Bitcoin</td>\n",
              "      <td>BTC</td>\n",
              "      <td>2021-02-25 23:59:59</td>\n",
              "      <td>51948.966982</td>\n",
              "      <td>47093.853019</td>\n",
              "      <td>49709.082425</td>\n",
              "      <td>47093.853019</td>\n",
              "      <td>5.450657e+10</td>\n",
              "      <td>8.777661e+11</td>\n",
              "    </tr>\n",
              "    <tr>\n",
              "      <th>2860</th>\n",
              "      <td>2861</td>\n",
              "      <td>Bitcoin</td>\n",
              "      <td>BTC</td>\n",
              "      <td>2021-02-26 23:59:59</td>\n",
              "      <td>48370.785260</td>\n",
              "      <td>44454.842114</td>\n",
              "      <td>47180.464054</td>\n",
              "      <td>46339.760083</td>\n",
              "      <td>3.509679e+11</td>\n",
              "      <td>8.637523e+11</td>\n",
              "    </tr>\n",
              "    <tr>\n",
              "      <th>2861</th>\n",
              "      <td>2862</td>\n",
              "      <td>Bitcoin</td>\n",
              "      <td>BTC</td>\n",
              "      <td>2021-02-27 23:59:59</td>\n",
              "      <td>48253.270101</td>\n",
              "      <td>45269.025766</td>\n",
              "      <td>46344.772237</td>\n",
              "      <td>46188.451275</td>\n",
              "      <td>4.591095e+10</td>\n",
              "      <td>8.609781e+11</td>\n",
              "    </tr>\n",
              "  </tbody>\n",
              "</table>\n",
              "</div>"
            ],
            "text/plain": [
              "       SNo     Name Symbol  ...         Close        Volume     Marketcap\n",
              "2857  2858  Bitcoin    BTC  ...  48824.426869  1.061025e+11  9.099259e+11\n",
              "2858  2859  Bitcoin    BTC  ...  49705.333316  6.369552e+10  9.263931e+11\n",
              "2859  2860  Bitcoin    BTC  ...  47093.853019  5.450657e+10  8.777661e+11\n",
              "2860  2861  Bitcoin    BTC  ...  46339.760083  3.509679e+11  8.637523e+11\n",
              "2861  2862  Bitcoin    BTC  ...  46188.451275  4.591095e+10  8.609781e+11\n",
              "\n",
              "[5 rows x 10 columns]"
            ]
          },
          "metadata": {
            "tags": []
          },
          "execution_count": 18
        }
      ]
    },
    {
      "cell_type": "code",
      "metadata": {
        "colab": {
          "base_uri": "https://localhost:8080/",
          "height": 297
        },
        "id": "1x__2utWyqkf",
        "outputId": "d2064bf9-ba86-4951-eed0-7c9b2cec902b"
      },
      "source": [
        "data.describe() "
      ],
      "execution_count": 19,
      "outputs": [
        {
          "output_type": "execute_result",
          "data": {
            "text/html": [
              "<div>\n",
              "<style scoped>\n",
              "    .dataframe tbody tr th:only-of-type {\n",
              "        vertical-align: middle;\n",
              "    }\n",
              "\n",
              "    .dataframe tbody tr th {\n",
              "        vertical-align: top;\n",
              "    }\n",
              "\n",
              "    .dataframe thead th {\n",
              "        text-align: right;\n",
              "    }\n",
              "</style>\n",
              "<table border=\"1\" class=\"dataframe\">\n",
              "  <thead>\n",
              "    <tr style=\"text-align: right;\">\n",
              "      <th></th>\n",
              "      <th>SNo</th>\n",
              "      <th>High</th>\n",
              "      <th>Low</th>\n",
              "      <th>Open</th>\n",
              "      <th>Close</th>\n",
              "      <th>Volume</th>\n",
              "      <th>Marketcap</th>\n",
              "    </tr>\n",
              "  </thead>\n",
              "  <tbody>\n",
              "    <tr>\n",
              "      <th>count</th>\n",
              "      <td>2862.00000</td>\n",
              "      <td>2862.000000</td>\n",
              "      <td>2862.000000</td>\n",
              "      <td>2862.000000</td>\n",
              "      <td>2862.000000</td>\n",
              "      <td>2.862000e+03</td>\n",
              "      <td>2.862000e+03</td>\n",
              "    </tr>\n",
              "    <tr>\n",
              "      <th>mean</th>\n",
              "      <td>1431.50000</td>\n",
              "      <td>4974.040239</td>\n",
              "      <td>4695.103027</td>\n",
              "      <td>4836.306834</td>\n",
              "      <td>4852.092547</td>\n",
              "      <td>8.978475e+09</td>\n",
              "      <td>8.591622e+10</td>\n",
              "    </tr>\n",
              "    <tr>\n",
              "      <th>std</th>\n",
              "      <td>826.33256</td>\n",
              "      <td>7188.836678</td>\n",
              "      <td>6667.197596</td>\n",
              "      <td>6933.573446</td>\n",
              "      <td>6975.105869</td>\n",
              "      <td>1.658135e+10</td>\n",
              "      <td>1.287414e+11</td>\n",
              "    </tr>\n",
              "    <tr>\n",
              "      <th>min</th>\n",
              "      <td>1.00000</td>\n",
              "      <td>74.561096</td>\n",
              "      <td>65.526001</td>\n",
              "      <td>68.504997</td>\n",
              "      <td>68.431000</td>\n",
              "      <td>0.000000e+00</td>\n",
              "      <td>7.784112e+08</td>\n",
              "    </tr>\n",
              "    <tr>\n",
              "      <th>25%</th>\n",
              "      <td>716.25000</td>\n",
              "      <td>426.047752</td>\n",
              "      <td>415.675751</td>\n",
              "      <td>421.204506</td>\n",
              "      <td>420.989243</td>\n",
              "      <td>2.786250e+07</td>\n",
              "      <td>5.988997e+09</td>\n",
              "    </tr>\n",
              "    <tr>\n",
              "      <th>50%</th>\n",
              "      <td>1431.50000</td>\n",
              "      <td>1197.334961</td>\n",
              "      <td>1164.174988</td>\n",
              "      <td>1180.100037</td>\n",
              "      <td>1182.809998</td>\n",
              "      <td>3.301950e+08</td>\n",
              "      <td>1.924238e+10</td>\n",
              "    </tr>\n",
              "    <tr>\n",
              "      <th>75%</th>\n",
              "      <td>2146.75000</td>\n",
              "      <td>8138.046589</td>\n",
              "      <td>7703.357500</td>\n",
              "      <td>7924.612338</td>\n",
              "      <td>7926.696939</td>\n",
              "      <td>1.296743e+10</td>\n",
              "      <td>1.387658e+11</td>\n",
              "    </tr>\n",
              "    <tr>\n",
              "      <th>max</th>\n",
              "      <td>2862.00000</td>\n",
              "      <td>58330.572142</td>\n",
              "      <td>55672.609513</td>\n",
              "      <td>57532.738864</td>\n",
              "      <td>57539.943668</td>\n",
              "      <td>3.509679e+11</td>\n",
              "      <td>1.072263e+12</td>\n",
              "    </tr>\n",
              "  </tbody>\n",
              "</table>\n",
              "</div>"
            ],
            "text/plain": [
              "              SNo          High  ...        Volume     Marketcap\n",
              "count  2862.00000   2862.000000  ...  2.862000e+03  2.862000e+03\n",
              "mean   1431.50000   4974.040239  ...  8.978475e+09  8.591622e+10\n",
              "std     826.33256   7188.836678  ...  1.658135e+10  1.287414e+11\n",
              "min       1.00000     74.561096  ...  0.000000e+00  7.784112e+08\n",
              "25%     716.25000    426.047752  ...  2.786250e+07  5.988997e+09\n",
              "50%    1431.50000   1197.334961  ...  3.301950e+08  1.924238e+10\n",
              "75%    2146.75000   8138.046589  ...  1.296743e+10  1.387658e+11\n",
              "max    2862.00000  58330.572142  ...  3.509679e+11  1.072263e+12\n",
              "\n",
              "[8 rows x 7 columns]"
            ]
          },
          "metadata": {
            "tags": []
          },
          "execution_count": 19
        }
      ]
    },
    {
      "cell_type": "code",
      "metadata": {
        "colab": {
          "base_uri": "https://localhost:8080/"
        },
        "id": "hGVWcGcJyNrL",
        "outputId": "61d99411-a7e0-4398-c38e-397076d0d50a"
      },
      "source": [
        "data.shape #to check the shape of the data for bitcoin "
      ],
      "execution_count": 20,
      "outputs": [
        {
          "output_type": "execute_result",
          "data": {
            "text/plain": [
              "(2862, 10)"
            ]
          },
          "metadata": {
            "tags": []
          },
          "execution_count": 20
        }
      ]
    },
    {
      "cell_type": "code",
      "metadata": {
        "colab": {
          "base_uri": "https://localhost:8080/"
        },
        "id": "OK9i6ZJ8zu9a",
        "outputId": "babeeba3-fd40-461b-d111-c1cec948f9e2"
      },
      "source": [
        "data.columns"
      ],
      "execution_count": 21,
      "outputs": [
        {
          "output_type": "execute_result",
          "data": {
            "text/plain": [
              "Index(['SNo', 'Name', 'Symbol', 'Date', 'High', 'Low', 'Open', 'Close',\n",
              "       'Volume', 'Marketcap'],\n",
              "      dtype='object')"
            ]
          },
          "metadata": {
            "tags": []
          },
          "execution_count": 21
        }
      ]
    },
    {
      "cell_type": "code",
      "metadata": {
        "id": "icXeUiQB8RV7",
        "colab": {
          "base_uri": "https://localhost:8080/"
        },
        "outputId": "081b855c-b570-417c-a373-af98cb403459"
      },
      "source": [
        "data.nunique() #displays the unique values "
      ],
      "execution_count": 22,
      "outputs": [
        {
          "output_type": "execute_result",
          "data": {
            "text/plain": [
              "SNo          2862\n",
              "Name            1\n",
              "Symbol          1\n",
              "Date         2862\n",
              "High         2852\n",
              "Low          2856\n",
              "Open         2855\n",
              "Close        2849\n",
              "Volume       2621\n",
              "Marketcap    2861\n",
              "dtype: int64"
            ]
          },
          "metadata": {
            "tags": []
          },
          "execution_count": 22
        }
      ]
    },
    {
      "cell_type": "code",
      "metadata": {
        "id": "L4U45Kzr8sBa",
        "colab": {
          "base_uri": "https://localhost:8080/"
        },
        "outputId": "4f512119-bcb9-4c62-fd6c-ecc73e96b0b3"
      },
      "source": [
        "data['Marketcap'].unique()  #looking for specific unique value"
      ],
      "execution_count": 23,
      "outputs": [
        {
          "output_type": "execute_result",
          "data": {
            "text/plain": [
              "array([1.60376886e+09, 1.54281312e+09, 1.29895459e+09, ...,\n",
              "       8.77766126e+11, 8.63752275e+11, 8.60978135e+11])"
            ]
          },
          "metadata": {
            "tags": []
          },
          "execution_count": 23
        }
      ]
    },
    {
      "cell_type": "code",
      "metadata": {
        "id": "mCzfktI_9NNx"
      },
      "source": [
        "#cleaning the data "
      ],
      "execution_count": 24,
      "outputs": []
    },
    {
      "cell_type": "code",
      "metadata": {
        "id": "TLdkpPhh9axP",
        "colab": {
          "base_uri": "https://localhost:8080/"
        },
        "outputId": "ead5b800-a141-4218-e0f5-a9b73803ed9d"
      },
      "source": [
        "data.isnull().sum() #checking null values in the dataset "
      ],
      "execution_count": 25,
      "outputs": [
        {
          "output_type": "execute_result",
          "data": {
            "text/plain": [
              "SNo          0\n",
              "Name         0\n",
              "Symbol       0\n",
              "Date         0\n",
              "High         0\n",
              "Low          0\n",
              "Open         0\n",
              "Close        0\n",
              "Volume       0\n",
              "Marketcap    0\n",
              "dtype: int64"
            ]
          },
          "metadata": {
            "tags": []
          },
          "execution_count": 25
        }
      ]
    },
    {
      "cell_type": "code",
      "metadata": {
        "id": "vLBr4q71Ikld"
      },
      "source": [
        "crypto = 'DOGE'\n",
        "currency = 'USD'\n",
        "\n",
        "start = dt.datetime(2015,1,1)\n",
        "end = dt.datetime.now()\n",
        "\n",
        "data = web.DataReader(f\"{crypto}-{currency}\", \"yahoo\", start, end)"
      ],
      "execution_count": 26,
      "outputs": []
    },
    {
      "cell_type": "code",
      "metadata": {
        "id": "zb3l_v2cJUCP"
      },
      "source": [
        "data.index = pd.to_datetime(data.index)"
      ],
      "execution_count": 27,
      "outputs": []
    },
    {
      "cell_type": "code",
      "metadata": {
        "id": "2PpBrvWPJVlz",
        "colab": {
          "base_uri": "https://localhost:8080/",
          "height": 450
        },
        "outputId": "30b79bf9-d295-4730-f221-021e60fdc283"
      },
      "source": [
        "data"
      ],
      "execution_count": 28,
      "outputs": [
        {
          "output_type": "execute_result",
          "data": {
            "text/html": [
              "<div>\n",
              "<style scoped>\n",
              "    .dataframe tbody tr th:only-of-type {\n",
              "        vertical-align: middle;\n",
              "    }\n",
              "\n",
              "    .dataframe tbody tr th {\n",
              "        vertical-align: top;\n",
              "    }\n",
              "\n",
              "    .dataframe thead th {\n",
              "        text-align: right;\n",
              "    }\n",
              "</style>\n",
              "<table border=\"1\" class=\"dataframe\">\n",
              "  <thead>\n",
              "    <tr style=\"text-align: right;\">\n",
              "      <th></th>\n",
              "      <th>High</th>\n",
              "      <th>Low</th>\n",
              "      <th>Open</th>\n",
              "      <th>Close</th>\n",
              "      <th>Volume</th>\n",
              "      <th>Adj Close</th>\n",
              "    </tr>\n",
              "    <tr>\n",
              "      <th>Date</th>\n",
              "      <th></th>\n",
              "      <th></th>\n",
              "      <th></th>\n",
              "      <th></th>\n",
              "      <th></th>\n",
              "      <th></th>\n",
              "    </tr>\n",
              "  </thead>\n",
              "  <tbody>\n",
              "    <tr>\n",
              "      <th>2015-01-01</th>\n",
              "      <td>0.000186</td>\n",
              "      <td>0.000182</td>\n",
              "      <td>0.000186</td>\n",
              "      <td>0.000183</td>\n",
              "      <td>3.069130e+05</td>\n",
              "      <td>0.000183</td>\n",
              "    </tr>\n",
              "    <tr>\n",
              "      <th>2015-01-02</th>\n",
              "      <td>0.000187</td>\n",
              "      <td>0.000182</td>\n",
              "      <td>0.000183</td>\n",
              "      <td>0.000186</td>\n",
              "      <td>3.560170e+05</td>\n",
              "      <td>0.000186</td>\n",
              "    </tr>\n",
              "    <tr>\n",
              "      <th>2015-01-03</th>\n",
              "      <td>0.000186</td>\n",
              "      <td>0.000167</td>\n",
              "      <td>0.000184</td>\n",
              "      <td>0.000167</td>\n",
              "      <td>2.855740e+05</td>\n",
              "      <td>0.000167</td>\n",
              "    </tr>\n",
              "    <tr>\n",
              "      <th>2015-01-04</th>\n",
              "      <td>0.000169</td>\n",
              "      <td>0.000155</td>\n",
              "      <td>0.000168</td>\n",
              "      <td>0.000158</td>\n",
              "      <td>3.791500e+05</td>\n",
              "      <td>0.000158</td>\n",
              "    </tr>\n",
              "    <tr>\n",
              "      <th>2015-01-05</th>\n",
              "      <td>0.000166</td>\n",
              "      <td>0.000157</td>\n",
              "      <td>0.000159</td>\n",
              "      <td>0.000161</td>\n",
              "      <td>5.745520e+05</td>\n",
              "      <td>0.000161</td>\n",
              "    </tr>\n",
              "    <tr>\n",
              "      <th>...</th>\n",
              "      <td>...</td>\n",
              "      <td>...</td>\n",
              "      <td>...</td>\n",
              "      <td>...</td>\n",
              "      <td>...</td>\n",
              "      <td>...</td>\n",
              "    </tr>\n",
              "    <tr>\n",
              "      <th>2021-06-25</th>\n",
              "      <td>0.289145</td>\n",
              "      <td>0.230006</td>\n",
              "      <td>0.263480</td>\n",
              "      <td>0.239153</td>\n",
              "      <td>5.542163e+09</td>\n",
              "      <td>0.239153</td>\n",
              "    </tr>\n",
              "    <tr>\n",
              "      <th>2021-06-26</th>\n",
              "      <td>0.255127</td>\n",
              "      <td>0.230972</td>\n",
              "      <td>0.237673</td>\n",
              "      <td>0.244784</td>\n",
              "      <td>2.649457e+09</td>\n",
              "      <td>0.244784</td>\n",
              "    </tr>\n",
              "    <tr>\n",
              "      <th>2021-06-27</th>\n",
              "      <td>0.266891</td>\n",
              "      <td>0.240894</td>\n",
              "      <td>0.246045</td>\n",
              "      <td>0.264450</td>\n",
              "      <td>2.167522e+09</td>\n",
              "      <td>0.264450</td>\n",
              "    </tr>\n",
              "    <tr>\n",
              "      <th>2021-06-28</th>\n",
              "      <td>0.266982</td>\n",
              "      <td>0.250762</td>\n",
              "      <td>0.264918</td>\n",
              "      <td>0.256857</td>\n",
              "      <td>1.932995e+09</td>\n",
              "      <td>0.256857</td>\n",
              "    </tr>\n",
              "    <tr>\n",
              "      <th>2021-06-29</th>\n",
              "      <td>0.274405</td>\n",
              "      <td>0.253203</td>\n",
              "      <td>0.255918</td>\n",
              "      <td>0.269476</td>\n",
              "      <td>2.203986e+09</td>\n",
              "      <td>0.269476</td>\n",
              "    </tr>\n",
              "  </tbody>\n",
              "</table>\n",
              "<p>2368 rows × 6 columns</p>\n",
              "</div>"
            ],
            "text/plain": [
              "                High       Low      Open     Close        Volume  Adj Close\n",
              "Date                                                                       \n",
              "2015-01-01  0.000186  0.000182  0.000186  0.000183  3.069130e+05   0.000183\n",
              "2015-01-02  0.000187  0.000182  0.000183  0.000186  3.560170e+05   0.000186\n",
              "2015-01-03  0.000186  0.000167  0.000184  0.000167  2.855740e+05   0.000167\n",
              "2015-01-04  0.000169  0.000155  0.000168  0.000158  3.791500e+05   0.000158\n",
              "2015-01-05  0.000166  0.000157  0.000159  0.000161  5.745520e+05   0.000161\n",
              "...              ...       ...       ...       ...           ...        ...\n",
              "2021-06-25  0.289145  0.230006  0.263480  0.239153  5.542163e+09   0.239153\n",
              "2021-06-26  0.255127  0.230972  0.237673  0.244784  2.649457e+09   0.244784\n",
              "2021-06-27  0.266891  0.240894  0.246045  0.264450  2.167522e+09   0.264450\n",
              "2021-06-28  0.266982  0.250762  0.264918  0.256857  1.932995e+09   0.256857\n",
              "2021-06-29  0.274405  0.253203  0.255918  0.269476  2.203986e+09   0.269476\n",
              "\n",
              "[2368 rows x 6 columns]"
            ]
          },
          "metadata": {
            "tags": []
          },
          "execution_count": 28
        }
      ]
    },
    {
      "cell_type": "code",
      "metadata": {
        "id": "U7TbCcBJJggW"
      },
      "source": [
        "#preparing the data\n",
        "\n",
        "scaler = MinMaxScaler(feature_range=(0,1))\n",
        "scaled_data = scaler.fit_transform(data['Close'].values.reshape(-1,1))"
      ],
      "execution_count": 29,
      "outputs": []
    },
    {
      "cell_type": "code",
      "metadata": {
        "id": "Cv36ygc3J0hf"
      },
      "source": [
        "pred_days = 30 # number of days for the prediction"
      ],
      "execution_count": 30,
      "outputs": []
    },
    {
      "cell_type": "code",
      "metadata": {
        "id": "jqfHahXpKAgN"
      },
      "source": [
        "x_train, y_train = [], []\n",
        "\n",
        "for x in range(pred_days, len(scaled_data)):\n",
        "  x_train.append(scaled_data[x-pred_days:x, 0])\n",
        "  y_train.append(scaled_data[x, 0])"
      ],
      "execution_count": 31,
      "outputs": []
    },
    {
      "cell_type": "code",
      "metadata": {
        "id": "7q1t6movKCJC"
      },
      "source": [
        "x_train, y_train = np.array(x_train), np.array(y_train)\n",
        "x_train = np.reshape(x_train, (x_train.shape[0], x_train.shape[1], 1))"
      ],
      "execution_count": 32,
      "outputs": []
    },
    {
      "cell_type": "code",
      "metadata": {
        "id": "OhGSuykjLzKX",
        "colab": {
          "base_uri": "https://localhost:8080/"
        },
        "outputId": "1897f2b5-925b-4b72-ba31-e50d92843520"
      },
      "source": [
        "model = Sequential()\n",
        "\n",
        "model.add(LSTM(units=50, return_sequences=True, input_shape=(x_train.shape[1], 1)))\n",
        "model.add(Dropout(0.2))\n",
        "model.add(LSTM(units=50, return_sequences=True))\n",
        "model.add(Dropout(0.2))\n",
        "model.add(LSTM(units=50))\n",
        "model.add(Dropout(0.2))\n",
        "model.add(Dense(1))\n",
        "\n",
        "model.compile(optimizer='adam', loss='mean_squared_error')\n",
        "model.fit(x_train, y_train, epochs=30, batch_size=32)"
      ],
      "execution_count": 33,
      "outputs": [
        {
          "output_type": "stream",
          "text": [
            "Epoch 1/30\n",
            "74/74 [==============================] - 8s 43ms/step - loss: 0.0025\n",
            "Epoch 2/30\n",
            "74/74 [==============================] - 3s 44ms/step - loss: 0.0013\n",
            "Epoch 3/30\n",
            "74/74 [==============================] - 3s 43ms/step - loss: 0.0010\n",
            "Epoch 4/30\n",
            "74/74 [==============================] - 3s 44ms/step - loss: 0.0010\n",
            "Epoch 5/30\n",
            "74/74 [==============================] - 3s 44ms/step - loss: 8.6467e-04\n",
            "Epoch 6/30\n",
            "74/74 [==============================] - 3s 44ms/step - loss: 9.4726e-04\n",
            "Epoch 7/30\n",
            "74/74 [==============================] - 3s 43ms/step - loss: 8.9894e-04\n",
            "Epoch 8/30\n",
            "74/74 [==============================] - 3s 44ms/step - loss: 7.0957e-04\n",
            "Epoch 9/30\n",
            "74/74 [==============================] - 3s 43ms/step - loss: 0.0011\n",
            "Epoch 10/30\n",
            "74/74 [==============================] - 3s 43ms/step - loss: 9.5719e-04\n",
            "Epoch 11/30\n",
            "74/74 [==============================] - 3s 43ms/step - loss: 0.0010\n",
            "Epoch 12/30\n",
            "74/74 [==============================] - 3s 43ms/step - loss: 7.0848e-04\n",
            "Epoch 13/30\n",
            "74/74 [==============================] - 3s 43ms/step - loss: 8.8766e-04\n",
            "Epoch 14/30\n",
            "74/74 [==============================] - 3s 44ms/step - loss: 6.8253e-04\n",
            "Epoch 15/30\n",
            "74/74 [==============================] - 3s 43ms/step - loss: 7.5251e-04\n",
            "Epoch 16/30\n",
            "74/74 [==============================] - 3s 43ms/step - loss: 7.1261e-04\n",
            "Epoch 17/30\n",
            "74/74 [==============================] - 3s 43ms/step - loss: 5.3062e-04\n",
            "Epoch 18/30\n",
            "74/74 [==============================] - 3s 43ms/step - loss: 6.8121e-04\n",
            "Epoch 19/30\n",
            "74/74 [==============================] - 3s 42ms/step - loss: 5.4266e-04\n",
            "Epoch 20/30\n",
            "74/74 [==============================] - 3s 43ms/step - loss: 6.2939e-04\n",
            "Epoch 21/30\n",
            "74/74 [==============================] - 4s 48ms/step - loss: 5.4782e-04\n",
            "Epoch 22/30\n",
            "74/74 [==============================] - 4s 57ms/step - loss: 8.2596e-04\n",
            "Epoch 23/30\n",
            "74/74 [==============================] - 5s 61ms/step - loss: 5.2604e-04\n",
            "Epoch 24/30\n",
            "74/74 [==============================] - 3s 43ms/step - loss: 5.0855e-04\n",
            "Epoch 25/30\n",
            "74/74 [==============================] - 3s 44ms/step - loss: 5.4960e-04\n",
            "Epoch 26/30\n",
            "74/74 [==============================] - 3s 44ms/step - loss: 7.7550e-04\n",
            "Epoch 27/30\n",
            "74/74 [==============================] - 3s 44ms/step - loss: 3.9370e-04\n",
            "Epoch 28/30\n",
            "74/74 [==============================] - 3s 43ms/step - loss: 4.1902e-04\n",
            "Epoch 29/30\n",
            "74/74 [==============================] - 3s 44ms/step - loss: 5.1576e-04\n",
            "Epoch 30/30\n",
            "74/74 [==============================] - 3s 44ms/step - loss: 4.8922e-04\n"
          ],
          "name": "stdout"
        },
        {
          "output_type": "execute_result",
          "data": {
            "text/plain": [
              "<tensorflow.python.keras.callbacks.History at 0x7fa4da369550>"
            ]
          },
          "metadata": {
            "tags": []
          },
          "execution_count": 33
        }
      ]
    },
    {
      "cell_type": "code",
      "metadata": {
        "id": "GS0BhtSpMfdF"
      },
      "source": [
        "test_start = dt.datetime(2021,6,1)\n",
        "test_end = dt.datetime.now()\n",
        "\n",
        "test_data = web.DataReader(f\"{crypto}-{currency}\", \"yahoo\", test_start, test_end)"
      ],
      "execution_count": 34,
      "outputs": []
    },
    {
      "cell_type": "code",
      "metadata": {
        "id": "Gsq06U39MlKT"
      },
      "source": [
        "test_data.index = pd.to_datetime(test_data.index)"
      ],
      "execution_count": 35,
      "outputs": []
    },
    {
      "cell_type": "code",
      "metadata": {
        "id": "ICTI0LstMlyb",
        "colab": {
          "base_uri": "https://localhost:8080/",
          "height": 979
        },
        "outputId": "82fccf38-1771-4e0a-9281-5923858c1e09"
      },
      "source": [
        "test_data #displaying the current data until the exact date provided "
      ],
      "execution_count": 36,
      "outputs": [
        {
          "output_type": "execute_result",
          "data": {
            "text/html": [
              "<div>\n",
              "<style scoped>\n",
              "    .dataframe tbody tr th:only-of-type {\n",
              "        vertical-align: middle;\n",
              "    }\n",
              "\n",
              "    .dataframe tbody tr th {\n",
              "        vertical-align: top;\n",
              "    }\n",
              "\n",
              "    .dataframe thead th {\n",
              "        text-align: right;\n",
              "    }\n",
              "</style>\n",
              "<table border=\"1\" class=\"dataframe\">\n",
              "  <thead>\n",
              "    <tr style=\"text-align: right;\">\n",
              "      <th></th>\n",
              "      <th>High</th>\n",
              "      <th>Low</th>\n",
              "      <th>Open</th>\n",
              "      <th>Close</th>\n",
              "      <th>Volume</th>\n",
              "      <th>Adj Close</th>\n",
              "    </tr>\n",
              "    <tr>\n",
              "      <th>Date</th>\n",
              "      <th></th>\n",
              "      <th></th>\n",
              "      <th></th>\n",
              "      <th></th>\n",
              "      <th></th>\n",
              "      <th></th>\n",
              "    </tr>\n",
              "  </thead>\n",
              "  <tbody>\n",
              "    <tr>\n",
              "      <th>2021-06-01</th>\n",
              "      <td>0.383079</td>\n",
              "      <td>0.312360</td>\n",
              "      <td>0.325744</td>\n",
              "      <td>0.370077</td>\n",
              "      <td>5796031087</td>\n",
              "      <td>0.370077</td>\n",
              "    </tr>\n",
              "    <tr>\n",
              "      <th>2021-06-02</th>\n",
              "      <td>0.444590</td>\n",
              "      <td>0.352588</td>\n",
              "      <td>0.370302</td>\n",
              "      <td>0.423374</td>\n",
              "      <td>11425588479</td>\n",
              "      <td>0.423374</td>\n",
              "    </tr>\n",
              "    <tr>\n",
              "      <th>2021-06-03</th>\n",
              "      <td>0.440763</td>\n",
              "      <td>0.378819</td>\n",
              "      <td>0.423739</td>\n",
              "      <td>0.399963</td>\n",
              "      <td>6809900030</td>\n",
              "      <td>0.399963</td>\n",
              "    </tr>\n",
              "    <tr>\n",
              "      <th>2021-06-04</th>\n",
              "      <td>0.400982</td>\n",
              "      <td>0.351442</td>\n",
              "      <td>0.400982</td>\n",
              "      <td>0.376323</td>\n",
              "      <td>5889983048</td>\n",
              "      <td>0.376323</td>\n",
              "    </tr>\n",
              "    <tr>\n",
              "      <th>2021-06-05</th>\n",
              "      <td>0.393886</td>\n",
              "      <td>0.360488</td>\n",
              "      <td>0.376752</td>\n",
              "      <td>0.372177</td>\n",
              "      <td>3464039041</td>\n",
              "      <td>0.372177</td>\n",
              "    </tr>\n",
              "    <tr>\n",
              "      <th>2021-06-06</th>\n",
              "      <td>0.376798</td>\n",
              "      <td>0.367254</td>\n",
              "      <td>0.371676</td>\n",
              "      <td>0.371807</td>\n",
              "      <td>1836611411</td>\n",
              "      <td>0.371807</td>\n",
              "    </tr>\n",
              "    <tr>\n",
              "      <th>2021-06-07</th>\n",
              "      <td>0.379678</td>\n",
              "      <td>0.329806</td>\n",
              "      <td>0.371566</td>\n",
              "      <td>0.331050</td>\n",
              "      <td>3043974994</td>\n",
              "      <td>0.331050</td>\n",
              "    </tr>\n",
              "    <tr>\n",
              "      <th>2021-06-08</th>\n",
              "      <td>0.341435</td>\n",
              "      <td>0.296660</td>\n",
              "      <td>0.331822</td>\n",
              "      <td>0.327687</td>\n",
              "      <td>3918487504</td>\n",
              "      <td>0.327687</td>\n",
              "    </tr>\n",
              "    <tr>\n",
              "      <th>2021-06-09</th>\n",
              "      <td>0.353762</td>\n",
              "      <td>0.313131</td>\n",
              "      <td>0.326423</td>\n",
              "      <td>0.343331</td>\n",
              "      <td>3154332929</td>\n",
              "      <td>0.343331</td>\n",
              "    </tr>\n",
              "    <tr>\n",
              "      <th>2021-06-10</th>\n",
              "      <td>0.344529</td>\n",
              "      <td>0.323278</td>\n",
              "      <td>0.343339</td>\n",
              "      <td>0.326351</td>\n",
              "      <td>2114010549</td>\n",
              "      <td>0.326351</td>\n",
              "    </tr>\n",
              "    <tr>\n",
              "      <th>2021-06-11</th>\n",
              "      <td>0.333223</td>\n",
              "      <td>0.311502</td>\n",
              "      <td>0.326364</td>\n",
              "      <td>0.319359</td>\n",
              "      <td>1834446577</td>\n",
              "      <td>0.319359</td>\n",
              "    </tr>\n",
              "    <tr>\n",
              "      <th>2021-06-12</th>\n",
              "      <td>0.319332</td>\n",
              "      <td>0.301804</td>\n",
              "      <td>0.318893</td>\n",
              "      <td>0.312084</td>\n",
              "      <td>1605633791</td>\n",
              "      <td>0.312084</td>\n",
              "    </tr>\n",
              "    <tr>\n",
              "      <th>2021-06-13</th>\n",
              "      <td>0.330026</td>\n",
              "      <td>0.307892</td>\n",
              "      <td>0.312485</td>\n",
              "      <td>0.324382</td>\n",
              "      <td>1484851447</td>\n",
              "      <td>0.324382</td>\n",
              "    </tr>\n",
              "    <tr>\n",
              "      <th>2021-06-14</th>\n",
              "      <td>0.336927</td>\n",
              "      <td>0.320087</td>\n",
              "      <td>0.323903</td>\n",
              "      <td>0.332085</td>\n",
              "      <td>1613812023</td>\n",
              "      <td>0.332085</td>\n",
              "    </tr>\n",
              "    <tr>\n",
              "      <th>2021-06-15</th>\n",
              "      <td>0.330495</td>\n",
              "      <td>0.316976</td>\n",
              "      <td>0.326785</td>\n",
              "      <td>0.328381</td>\n",
              "      <td>1687965230</td>\n",
              "      <td>0.328381</td>\n",
              "    </tr>\n",
              "    <tr>\n",
              "      <th>2021-06-16</th>\n",
              "      <td>0.321393</td>\n",
              "      <td>0.305485</td>\n",
              "      <td>0.320378</td>\n",
              "      <td>0.307761</td>\n",
              "      <td>1391720788</td>\n",
              "      <td>0.307761</td>\n",
              "    </tr>\n",
              "    <tr>\n",
              "      <th>2021-06-17</th>\n",
              "      <td>0.314011</td>\n",
              "      <td>0.303316</td>\n",
              "      <td>0.307749</td>\n",
              "      <td>0.306496</td>\n",
              "      <td>1120766442</td>\n",
              "      <td>0.306496</td>\n",
              "    </tr>\n",
              "    <tr>\n",
              "      <th>2021-06-18</th>\n",
              "      <td>0.307752</td>\n",
              "      <td>0.280481</td>\n",
              "      <td>0.306428</td>\n",
              "      <td>0.293472</td>\n",
              "      <td>1846213589</td>\n",
              "      <td>0.293472</td>\n",
              "    </tr>\n",
              "    <tr>\n",
              "      <th>2021-06-19</th>\n",
              "      <td>0.297803</td>\n",
              "      <td>0.286189</td>\n",
              "      <td>0.293649</td>\n",
              "      <td>0.287356</td>\n",
              "      <td>1003248258</td>\n",
              "      <td>0.287356</td>\n",
              "    </tr>\n",
              "    <tr>\n",
              "      <th>2021-06-20</th>\n",
              "      <td>0.289727</td>\n",
              "      <td>0.256467</td>\n",
              "      <td>0.286394</td>\n",
              "      <td>0.280900</td>\n",
              "      <td>1963503800</td>\n",
              "      <td>0.280900</td>\n",
              "    </tr>\n",
              "    <tr>\n",
              "      <th>2021-06-21</th>\n",
              "      <td>0.280889</td>\n",
              "      <td>0.166491</td>\n",
              "      <td>0.280660</td>\n",
              "      <td>0.178691</td>\n",
              "      <td>5640232167</td>\n",
              "      <td>0.178691</td>\n",
              "    </tr>\n",
              "    <tr>\n",
              "      <th>2021-06-22</th>\n",
              "      <td>0.216122</td>\n",
              "      <td>0.164654</td>\n",
              "      <td>0.178682</td>\n",
              "      <td>0.191031</td>\n",
              "      <td>5992850344</td>\n",
              "      <td>0.191031</td>\n",
              "    </tr>\n",
              "    <tr>\n",
              "      <th>2021-06-23</th>\n",
              "      <td>0.247110</td>\n",
              "      <td>0.180979</td>\n",
              "      <td>0.190671</td>\n",
              "      <td>0.232174</td>\n",
              "      <td>5098674891</td>\n",
              "      <td>0.232174</td>\n",
              "    </tr>\n",
              "    <tr>\n",
              "      <th>2021-06-24</th>\n",
              "      <td>0.268690</td>\n",
              "      <td>0.222527</td>\n",
              "      <td>0.234970</td>\n",
              "      <td>0.262782</td>\n",
              "      <td>3844648059</td>\n",
              "      <td>0.262782</td>\n",
              "    </tr>\n",
              "    <tr>\n",
              "      <th>2021-06-25</th>\n",
              "      <td>0.289145</td>\n",
              "      <td>0.230006</td>\n",
              "      <td>0.263480</td>\n",
              "      <td>0.239153</td>\n",
              "      <td>5542163262</td>\n",
              "      <td>0.239153</td>\n",
              "    </tr>\n",
              "    <tr>\n",
              "      <th>2021-06-26</th>\n",
              "      <td>0.255127</td>\n",
              "      <td>0.230972</td>\n",
              "      <td>0.237673</td>\n",
              "      <td>0.244784</td>\n",
              "      <td>2649457302</td>\n",
              "      <td>0.244784</td>\n",
              "    </tr>\n",
              "    <tr>\n",
              "      <th>2021-06-27</th>\n",
              "      <td>0.266891</td>\n",
              "      <td>0.240894</td>\n",
              "      <td>0.246045</td>\n",
              "      <td>0.264450</td>\n",
              "      <td>2167521670</td>\n",
              "      <td>0.264450</td>\n",
              "    </tr>\n",
              "    <tr>\n",
              "      <th>2021-06-28</th>\n",
              "      <td>0.266982</td>\n",
              "      <td>0.250762</td>\n",
              "      <td>0.264918</td>\n",
              "      <td>0.256857</td>\n",
              "      <td>1932994784</td>\n",
              "      <td>0.256857</td>\n",
              "    </tr>\n",
              "    <tr>\n",
              "      <th>2021-06-29</th>\n",
              "      <td>0.274405</td>\n",
              "      <td>0.253203</td>\n",
              "      <td>0.255918</td>\n",
              "      <td>0.270806</td>\n",
              "      <td>2213273600</td>\n",
              "      <td>0.270806</td>\n",
              "    </tr>\n",
              "  </tbody>\n",
              "</table>\n",
              "</div>"
            ],
            "text/plain": [
              "                High       Low      Open     Close       Volume  Adj Close\n",
              "Date                                                                      \n",
              "2021-06-01  0.383079  0.312360  0.325744  0.370077   5796031087   0.370077\n",
              "2021-06-02  0.444590  0.352588  0.370302  0.423374  11425588479   0.423374\n",
              "2021-06-03  0.440763  0.378819  0.423739  0.399963   6809900030   0.399963\n",
              "2021-06-04  0.400982  0.351442  0.400982  0.376323   5889983048   0.376323\n",
              "2021-06-05  0.393886  0.360488  0.376752  0.372177   3464039041   0.372177\n",
              "2021-06-06  0.376798  0.367254  0.371676  0.371807   1836611411   0.371807\n",
              "2021-06-07  0.379678  0.329806  0.371566  0.331050   3043974994   0.331050\n",
              "2021-06-08  0.341435  0.296660  0.331822  0.327687   3918487504   0.327687\n",
              "2021-06-09  0.353762  0.313131  0.326423  0.343331   3154332929   0.343331\n",
              "2021-06-10  0.344529  0.323278  0.343339  0.326351   2114010549   0.326351\n",
              "2021-06-11  0.333223  0.311502  0.326364  0.319359   1834446577   0.319359\n",
              "2021-06-12  0.319332  0.301804  0.318893  0.312084   1605633791   0.312084\n",
              "2021-06-13  0.330026  0.307892  0.312485  0.324382   1484851447   0.324382\n",
              "2021-06-14  0.336927  0.320087  0.323903  0.332085   1613812023   0.332085\n",
              "2021-06-15  0.330495  0.316976  0.326785  0.328381   1687965230   0.328381\n",
              "2021-06-16  0.321393  0.305485  0.320378  0.307761   1391720788   0.307761\n",
              "2021-06-17  0.314011  0.303316  0.307749  0.306496   1120766442   0.306496\n",
              "2021-06-18  0.307752  0.280481  0.306428  0.293472   1846213589   0.293472\n",
              "2021-06-19  0.297803  0.286189  0.293649  0.287356   1003248258   0.287356\n",
              "2021-06-20  0.289727  0.256467  0.286394  0.280900   1963503800   0.280900\n",
              "2021-06-21  0.280889  0.166491  0.280660  0.178691   5640232167   0.178691\n",
              "2021-06-22  0.216122  0.164654  0.178682  0.191031   5992850344   0.191031\n",
              "2021-06-23  0.247110  0.180979  0.190671  0.232174   5098674891   0.232174\n",
              "2021-06-24  0.268690  0.222527  0.234970  0.262782   3844648059   0.262782\n",
              "2021-06-25  0.289145  0.230006  0.263480  0.239153   5542163262   0.239153\n",
              "2021-06-26  0.255127  0.230972  0.237673  0.244784   2649457302   0.244784\n",
              "2021-06-27  0.266891  0.240894  0.246045  0.264450   2167521670   0.264450\n",
              "2021-06-28  0.266982  0.250762  0.264918  0.256857   1932994784   0.256857\n",
              "2021-06-29  0.274405  0.253203  0.255918  0.270806   2213273600   0.270806"
            ]
          },
          "metadata": {
            "tags": []
          },
          "execution_count": 36
        }
      ]
    },
    {
      "cell_type": "code",
      "metadata": {
        "id": "hHBdtwSQNkXA"
      },
      "source": [
        "actual_prices = test_data['Close']"
      ],
      "execution_count": 37,
      "outputs": []
    },
    {
      "cell_type": "code",
      "metadata": {
        "id": "DgRO3iCSNl8l",
        "colab": {
          "base_uri": "https://localhost:8080/"
        },
        "outputId": "4c3bc6eb-aeb3-4fd3-890c-023f9495be51"
      },
      "source": [
        "actual_prices = np.array(actual_prices)\n",
        "actual_prices"
      ],
      "execution_count": 38,
      "outputs": [
        {
          "output_type": "execute_result",
          "data": {
            "text/plain": [
              "array([0.37007701, 0.423374  , 0.39996299, 0.37632301, 0.372177  ,\n",
              "       0.37180701, 0.33105001, 0.327687  , 0.34333101, 0.32635099,\n",
              "       0.319359  , 0.31208399, 0.32438201, 0.33208501, 0.328381  ,\n",
              "       0.30776101, 0.30649599, 0.29347199, 0.28735599, 0.2809    ,\n",
              "       0.178691  , 0.19103099, 0.23217399, 0.26278201, 0.239153  ,\n",
              "       0.244784  , 0.26445001, 0.25685701, 0.27080578])"
            ]
          },
          "metadata": {
            "tags": []
          },
          "execution_count": 38
        }
      ]
    },
    {
      "cell_type": "code",
      "metadata": {
        "id": "TGyLsinvNrfS"
      },
      "source": [
        "total_dataset = pd.concat((data['Close'], test_data['Close']), axis=0)"
      ],
      "execution_count": 39,
      "outputs": []
    },
    {
      "cell_type": "code",
      "metadata": {
        "id": "JqUjUTZ1Nwkv"
      },
      "source": [
        "total_dataset.index = pd.to_datetime(total_dataset.index)"
      ],
      "execution_count": 40,
      "outputs": []
    },
    {
      "cell_type": "code",
      "metadata": {
        "id": "XR0byySXNyiB"
      },
      "source": [
        "model_inputs = total_dataset[len(total_dataset)-len(test_data)-pred_days:].values\n",
        "model_inputs = model_inputs.reshape(-1, 1)\n",
        "model_inputs = scaler.fit_transform(model_inputs)"
      ],
      "execution_count": 41,
      "outputs": []
    },
    {
      "cell_type": "code",
      "metadata": {
        "id": "t_Ph1JZ8N1-S"
      },
      "source": [
        "x_test = []\n",
        "\n",
        "for x in range(pred_days, len(model_inputs)):\n",
        "  x_test.append(model_inputs[x-pred_days:x, 0])\n",
        "\n",
        "x_test = np.array(x_test)\n",
        "x_test = np.reshape(x_test, (x_test.shape[0], x_test.shape[1], 1))"
      ],
      "execution_count": 42,
      "outputs": []
    },
    {
      "cell_type": "code",
      "metadata": {
        "id": "vRZ1oLNwOP_B"
      },
      "source": [
        "prediction_prices = model.predict(x_test)\n",
        "prediction_prices = scaler.inverse_transform(prediction_prices)"
      ],
      "execution_count": 43,
      "outputs": []
    },
    {
      "cell_type": "code",
      "metadata": {
        "id": "kNEKbZi8OoNp",
        "colab": {
          "base_uri": "https://localhost:8080/",
          "height": 295
        },
        "outputId": "b05b994f-71aa-4da6-93ef-af918c01d1e0"
      },
      "source": [
        "plt.plot(actual_prices, color='red', label='Actual Prices')\n",
        "plt.plot(prediction_prices, color='green', label='Prediction Prices')\n",
        "plt.title(f\"{crypto}-{currency} Price Predictor\")\n",
        "plt.xlabel(\"Time\")\n",
        "plt.ylabel(\"Price\")\n",
        "plt.legend(loc=\"upper left\")\n",
        "plt.show()"
      ],
      "execution_count": 44,
      "outputs": [
        {
          "output_type": "display_data",
          "data": {
            "image/png": "[encoded data removed]",
            "text/plain": [
              "<Figure size 432x288 with 1 Axes>"
            ]
          },
          "metadata": {
            "tags": [],
            "needs_background": "light"
          }
        }
      ]
    }
  ]
}