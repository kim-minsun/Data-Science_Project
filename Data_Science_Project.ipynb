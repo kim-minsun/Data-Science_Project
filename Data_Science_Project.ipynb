{
  "nbformat": 4,
  "nbformat_minor": 0,
  "metadata": {
    "colab": {
      "name": "Data-Science-Project.ipynb",
      "provenance": [],
      "include_colab_link": true
    },
    "kernelspec": {
      "name": "python3",
      "display_name": "Python 3"
    },
    "language_info": {
      "name": "python"
    }
  },
  "cells": [
    {
      "cell_type": "markdown",
      "metadata": {
        "id": "view-in-github",
        "colab_type": "text"
      },
      "source": [
        "<a href=\"https://colab.research.google.com/github/kim-minsun/Data-Science_Project/blob/Charles/Data_Science_Project.ipynb\" target=\"_parent\"><img src=\"https://colab.research.google.com/assets/colab-badge.svg\" alt=\"Open In Colab\"/></a>"
      ]
    },
    {
      "cell_type": "code",
      "metadata": {
        "id": "vf-x-pA5a5gs"
      },
      "source": [
        "import numpy as np\n",
        "import matplotlib.pyplot as plt\n",
        "import pandas as pd\n",
        "import pandas_datareader as web\n",
        "import datetime as dt"
      ],
      "execution_count": 43,
      "outputs": []
    },
    {
      "cell_type": "code",
      "metadata": {
        "id": "j0-cwAJ_P3bV"
      },
      "source": [
        "from sklearn.preprocessing import MinMaxScaler\n",
        "from tensorflow.keras.layers import Dense, Dropout, LSTM\n",
        "from tensorflow.keras.models import Sequential"
      ],
      "execution_count": 44,
      "outputs": []
    },
    {
      "cell_type": "code",
      "metadata": {
        "id": "AZg_GO_IQEv1"
      },
      "source": [
        "dogecoin = 'DOGE'\n",
        "currency = 'USD'\n",
        "\n",
        "start = dt.datetime(2016,1,1)\n",
        "end = dt.datetime.now()\n",
        "\n",
        "data = web.DataReader(f\"{dogecoin}-{currency}\", \"yahoo\", start, end)"
      ],
      "execution_count": 45,
      "outputs": []
    },
    {
      "cell_type": "code",
      "metadata": {
        "id": "743AcS_RQIR7"
      },
      "source": [
        "data.index = pd.to_datetime(data.index)"
      ],
      "execution_count": 46,
      "outputs": []
    },
    {
      "cell_type": "code",
      "metadata": {
        "id": "uRm2WAw9QLrU",
        "colab": {
          "base_uri": "https://localhost:8080/",
          "height": 450
        },
        "outputId": "3610fc07-0481-4cd7-8104-01cfd42e520e"
      },
      "source": [
        "data"
      ],
      "execution_count": 47,
      "outputs": [
        {
          "output_type": "execute_result",
          "data": {
            "text/html": [
              "<div>\n",
              "<style scoped>\n",
              "    .dataframe tbody tr th:only-of-type {\n",
              "        vertical-align: middle;\n",
              "    }\n",
              "\n",
              "    .dataframe tbody tr th {\n",
              "        vertical-align: top;\n",
              "    }\n",
              "\n",
              "    .dataframe thead th {\n",
              "        text-align: right;\n",
              "    }\n",
              "</style>\n",
              "<table border=\"1\" class=\"dataframe\">\n",
              "  <thead>\n",
              "    <tr style=\"text-align: right;\">\n",
              "      <th></th>\n",
              "      <th>High</th>\n",
              "      <th>Low</th>\n",
              "      <th>Open</th>\n",
              "      <th>Close</th>\n",
              "      <th>Volume</th>\n",
              "      <th>Adj Close</th>\n",
              "    </tr>\n",
              "    <tr>\n",
              "      <th>Date</th>\n",
              "      <th></th>\n",
              "      <th></th>\n",
              "      <th></th>\n",
              "      <th></th>\n",
              "      <th></th>\n",
              "      <th></th>\n",
              "    </tr>\n",
              "  </thead>\n",
              "  <tbody>\n",
              "    <tr>\n",
              "      <th>2016-01-01</th>\n",
              "      <td>0.000156</td>\n",
              "      <td>0.000150</td>\n",
              "      <td>0.000150</td>\n",
              "      <td>0.000154</td>\n",
              "      <td>1.052240e+05</td>\n",
              "      <td>0.000154</td>\n",
              "    </tr>\n",
              "    <tr>\n",
              "      <th>2016-01-02</th>\n",
              "      <td>0.000156</td>\n",
              "      <td>0.000148</td>\n",
              "      <td>0.000155</td>\n",
              "      <td>0.000151</td>\n",
              "      <td>9.047700e+04</td>\n",
              "      <td>0.000151</td>\n",
              "    </tr>\n",
              "    <tr>\n",
              "      <th>2016-01-03</th>\n",
              "      <td>0.000150</td>\n",
              "      <td>0.000143</td>\n",
              "      <td>0.000149</td>\n",
              "      <td>0.000146</td>\n",
              "      <td>1.040050e+05</td>\n",
              "      <td>0.000146</td>\n",
              "    </tr>\n",
              "    <tr>\n",
              "      <th>2016-01-04</th>\n",
              "      <td>0.000148</td>\n",
              "      <td>0.000142</td>\n",
              "      <td>0.000146</td>\n",
              "      <td>0.000144</td>\n",
              "      <td>9.216000e+04</td>\n",
              "      <td>0.000144</td>\n",
              "    </tr>\n",
              "    <tr>\n",
              "      <th>2016-01-05</th>\n",
              "      <td>0.000154</td>\n",
              "      <td>0.000135</td>\n",
              "      <td>0.000144</td>\n",
              "      <td>0.000137</td>\n",
              "      <td>5.293700e+04</td>\n",
              "      <td>0.000137</td>\n",
              "    </tr>\n",
              "    <tr>\n",
              "      <th>...</th>\n",
              "      <td>...</td>\n",
              "      <td>...</td>\n",
              "      <td>...</td>\n",
              "      <td>...</td>\n",
              "      <td>...</td>\n",
              "      <td>...</td>\n",
              "    </tr>\n",
              "    <tr>\n",
              "      <th>2021-06-25</th>\n",
              "      <td>0.255127</td>\n",
              "      <td>0.230972</td>\n",
              "      <td>0.237673</td>\n",
              "      <td>0.244784</td>\n",
              "      <td>2.649457e+09</td>\n",
              "      <td>0.244784</td>\n",
              "    </tr>\n",
              "    <tr>\n",
              "      <th>2021-06-26</th>\n",
              "      <td>0.266891</td>\n",
              "      <td>0.240894</td>\n",
              "      <td>0.246045</td>\n",
              "      <td>0.264450</td>\n",
              "      <td>2.167522e+09</td>\n",
              "      <td>0.264450</td>\n",
              "    </tr>\n",
              "    <tr>\n",
              "      <th>2021-06-27</th>\n",
              "      <td>0.266982</td>\n",
              "      <td>0.250762</td>\n",
              "      <td>0.264918</td>\n",
              "      <td>0.256857</td>\n",
              "      <td>1.932995e+09</td>\n",
              "      <td>0.256857</td>\n",
              "    </tr>\n",
              "    <tr>\n",
              "      <th>2021-06-28</th>\n",
              "      <td>0.274940</td>\n",
              "      <td>0.252988</td>\n",
              "      <td>0.257061</td>\n",
              "      <td>0.262769</td>\n",
              "      <td>2.192563e+09</td>\n",
              "      <td>0.262769</td>\n",
              "    </tr>\n",
              "    <tr>\n",
              "      <th>2021-06-30</th>\n",
              "      <td>0.262135</td>\n",
              "      <td>0.244459</td>\n",
              "      <td>0.261759</td>\n",
              "      <td>0.247081</td>\n",
              "      <td>1.904521e+09</td>\n",
              "      <td>0.247081</td>\n",
              "    </tr>\n",
              "  </tbody>\n",
              "</table>\n",
              "<p>2004 rows × 6 columns</p>\n",
              "</div>"
            ],
            "text/plain": [
              "                High       Low      Open     Close        Volume  Adj Close\n",
              "Date                                                                       \n",
              "2016-01-01  0.000156  0.000150  0.000150  0.000154  1.052240e+05   0.000154\n",
              "2016-01-02  0.000156  0.000148  0.000155  0.000151  9.047700e+04   0.000151\n",
              "2016-01-03  0.000150  0.000143  0.000149  0.000146  1.040050e+05   0.000146\n",
              "2016-01-04  0.000148  0.000142  0.000146  0.000144  9.216000e+04   0.000144\n",
              "2016-01-05  0.000154  0.000135  0.000144  0.000137  5.293700e+04   0.000137\n",
              "...              ...       ...       ...       ...           ...        ...\n",
              "2021-06-25  0.255127  0.230972  0.237673  0.244784  2.649457e+09   0.244784\n",
              "2021-06-26  0.266891  0.240894  0.246045  0.264450  2.167522e+09   0.264450\n",
              "2021-06-27  0.266982  0.250762  0.264918  0.256857  1.932995e+09   0.256857\n",
              "2021-06-28  0.274940  0.252988  0.257061  0.262769  2.192563e+09   0.262769\n",
              "2021-06-30  0.262135  0.244459  0.261759  0.247081  1.904521e+09   0.247081\n",
              "\n",
              "[2004 rows x 6 columns]"
            ]
          },
          "metadata": {
            "tags": []
          },
          "execution_count": 47
        }
      ]
    },
    {
      "cell_type": "code",
      "metadata": {
        "id": "TXxDF6uuQOC3"
      },
      "source": [
        "scaler = MinMaxScaler(feature_range=(0,1))\n",
        "scaled_data = scaler.fit_transform(data['Close'].values.reshape(-1,1))"
      ],
      "execution_count": 48,
      "outputs": []
    },
    {
      "cell_type": "code",
      "metadata": {
        "id": "nLfyDu0cQPVG"
      },
      "source": [
        "pred_days = 30"
      ],
      "execution_count": 49,
      "outputs": []
    },
    {
      "cell_type": "code",
      "metadata": {
        "id": "yY6sFXp2QQZc"
      },
      "source": [
        "x_train, y_train = [], []\n",
        "\n",
        "for x in range(pred_days, len(scaled_data)):\n",
        "  x_train.append(scaled_data[x-pred_days:x, 0])\n",
        "  y_train.append(scaled_data[x, 0])"
      ],
      "execution_count": 50,
      "outputs": []
    },
    {
      "cell_type": "code",
      "metadata": {
        "id": "auPHtZDiQRlq"
      },
      "source": [
        "x_train, y_train = np.array(x_train), np.array(y_train)\n",
        "x_train = np.reshape(x_train, (x_train.shape[0], x_train.shape[1], 1))"
      ],
      "execution_count": 51,
      "outputs": []
    },
    {
      "cell_type": "code",
      "metadata": {
        "id": "7PFyhimCQSzA",
        "colab": {
          "base_uri": "https://localhost:8080/"
        },
        "outputId": "69c56034-1404-4a5c-b06d-4facb6a672fc"
      },
      "source": [
        "model = Sequential()\n",
        "\n",
        "model.add(LSTM(units=50, return_sequences=True, input_shape=(x_train.shape[1], 1)))\n",
        "model.add(Dropout(0.2))\n",
        "model.add(LSTM(units=50, return_sequences=True))\n",
        "model.add(Dropout(0.2))\n",
        "model.add(LSTM(units=50))\n",
        "model.add(Dropout(0.2))\n",
        "model.add(Dense(1))\n",
        "\n",
        "model.compile(optimizer='adam', loss='mean_squared_error')\n",
        "model.fit(x_train, y_train, epochs=30, batch_size=32)"
      ],
      "execution_count": 52,
      "outputs": [
        {
          "output_type": "stream",
          "text": [
            "Epoch 1/30\n",
            "62/62 [==============================] - 7s 46ms/step - loss: 0.0039\n",
            "Epoch 2/30\n",
            "62/62 [==============================] - 3s 47ms/step - loss: 0.0018\n",
            "Epoch 3/30\n",
            "62/62 [==============================] - 3s 47ms/step - loss: 0.0012\n",
            "Epoch 4/30\n",
            "62/62 [==============================] - 3s 48ms/step - loss: 0.0014\n",
            "Epoch 5/30\n",
            "62/62 [==============================] - 3s 46ms/step - loss: 0.0015\n",
            "Epoch 6/30\n",
            "62/62 [==============================] - 3s 46ms/step - loss: 0.0013\n",
            "Epoch 7/30\n",
            "62/62 [==============================] - 3s 46ms/step - loss: 0.0012\n",
            "Epoch 8/30\n",
            "62/62 [==============================] - 3s 47ms/step - loss: 0.0013\n",
            "Epoch 9/30\n",
            "62/62 [==============================] - 3s 48ms/step - loss: 9.6369e-04\n",
            "Epoch 10/30\n",
            "62/62 [==============================] - 3s 47ms/step - loss: 0.0010\n",
            "Epoch 11/30\n",
            "62/62 [==============================] - 3s 46ms/step - loss: 0.0010\n",
            "Epoch 12/30\n",
            "62/62 [==============================] - 3s 46ms/step - loss: 8.3033e-04\n",
            "Epoch 13/30\n",
            "62/62 [==============================] - 3s 46ms/step - loss: 7.9593e-04\n",
            "Epoch 14/30\n",
            "62/62 [==============================] - 3s 47ms/step - loss: 0.0012\n",
            "Epoch 15/30\n",
            "62/62 [==============================] - 3s 46ms/step - loss: 8.6968e-04\n",
            "Epoch 16/30\n",
            "62/62 [==============================] - 3s 46ms/step - loss: 6.6103e-04\n",
            "Epoch 17/30\n",
            "62/62 [==============================] - 3s 46ms/step - loss: 7.8279e-04\n",
            "Epoch 18/30\n",
            "62/62 [==============================] - 3s 47ms/step - loss: 6.0250e-04\n",
            "Epoch 19/30\n",
            "62/62 [==============================] - 3s 47ms/step - loss: 7.4787e-04\n",
            "Epoch 20/30\n",
            "62/62 [==============================] - 3s 48ms/step - loss: 9.4766e-04\n",
            "Epoch 21/30\n",
            "62/62 [==============================] - 3s 46ms/step - loss: 7.2630e-04\n",
            "Epoch 22/30\n",
            "62/62 [==============================] - 3s 48ms/step - loss: 8.2346e-04\n",
            "Epoch 23/30\n",
            "62/62 [==============================] - 3s 47ms/step - loss: 5.5495e-04\n",
            "Epoch 24/30\n",
            "62/62 [==============================] - 3s 47ms/step - loss: 7.4901e-04\n",
            "Epoch 25/30\n",
            "62/62 [==============================] - 3s 47ms/step - loss: 4.8326e-04\n",
            "Epoch 26/30\n",
            "62/62 [==============================] - 3s 48ms/step - loss: 6.2755e-04\n",
            "Epoch 27/30\n",
            "62/62 [==============================] - 3s 47ms/step - loss: 6.1713e-04\n",
            "Epoch 28/30\n",
            "62/62 [==============================] - 3s 47ms/step - loss: 6.3997e-04\n",
            "Epoch 29/30\n",
            "62/62 [==============================] - 3s 47ms/step - loss: 5.8177e-04\n",
            "Epoch 30/30\n",
            "62/62 [==============================] - 3s 50ms/step - loss: 5.4452e-04\n"
          ],
          "name": "stdout"
        },
        {
          "output_type": "execute_result",
          "data": {
            "text/plain": [
              "<tensorflow.python.keras.callbacks.History at 0x7fc5552c37d0>"
            ]
          },
          "metadata": {
            "tags": []
          },
          "execution_count": 52
        }
      ]
    },
    {
      "cell_type": "code",
      "metadata": {
        "id": "21YQmZUAQT3G"
      },
      "source": [
        "test_start = dt.datetime(2021,1,1)\n",
        "test_end = dt.datetime.now()\n",
        "\n",
        "test_data = web.DataReader(f\"{dogecoin}-{currency}\", \"yahoo\", test_start, test_end)"
      ],
      "execution_count": 53,
      "outputs": []
    },
    {
      "cell_type": "code",
      "metadata": {
        "id": "C_pMR4FfQVKL"
      },
      "source": [
        "test_data.index = pd.to_datetime(test_data.index)"
      ],
      "execution_count": 54,
      "outputs": []
    },
    {
      "cell_type": "code",
      "metadata": {
        "id": "-M8s_XZ4QW-p",
        "outputId": "ef26c2f7-e51e-435f-c2c2-fe55df65c248",
        "colab": {
          "base_uri": "https://localhost:8080/",
          "height": 450
        }
      },
      "source": [
        "test_data"
      ],
      "execution_count": 55,
      "outputs": [
        {
          "output_type": "execute_result",
          "data": {
            "text/html": [
              "<div>\n",
              "<style scoped>\n",
              "    .dataframe tbody tr th:only-of-type {\n",
              "        vertical-align: middle;\n",
              "    }\n",
              "\n",
              "    .dataframe tbody tr th {\n",
              "        vertical-align: top;\n",
              "    }\n",
              "\n",
              "    .dataframe thead th {\n",
              "        text-align: right;\n",
              "    }\n",
              "</style>\n",
              "<table border=\"1\" class=\"dataframe\">\n",
              "  <thead>\n",
              "    <tr style=\"text-align: right;\">\n",
              "      <th></th>\n",
              "      <th>High</th>\n",
              "      <th>Low</th>\n",
              "      <th>Open</th>\n",
              "      <th>Close</th>\n",
              "      <th>Volume</th>\n",
              "      <th>Adj Close</th>\n",
              "    </tr>\n",
              "    <tr>\n",
              "      <th>Date</th>\n",
              "      <th></th>\n",
              "      <th></th>\n",
              "      <th></th>\n",
              "      <th></th>\n",
              "      <th></th>\n",
              "      <th></th>\n",
              "    </tr>\n",
              "  </thead>\n",
              "  <tbody>\n",
              "    <tr>\n",
              "      <th>2021-01-01</th>\n",
              "      <td>0.005685</td>\n",
              "      <td>0.004615</td>\n",
              "      <td>0.004681</td>\n",
              "      <td>0.005685</td>\n",
              "      <td>228961515</td>\n",
              "      <td>0.005685</td>\n",
              "    </tr>\n",
              "    <tr>\n",
              "      <th>2021-01-02</th>\n",
              "      <td>0.013698</td>\n",
              "      <td>0.005584</td>\n",
              "      <td>0.005686</td>\n",
              "      <td>0.010615</td>\n",
              "      <td>3421562680</td>\n",
              "      <td>0.010615</td>\n",
              "    </tr>\n",
              "    <tr>\n",
              "      <th>2021-01-03</th>\n",
              "      <td>0.013867</td>\n",
              "      <td>0.009409</td>\n",
              "      <td>0.010602</td>\n",
              "      <td>0.009771</td>\n",
              "      <td>2707003608</td>\n",
              "      <td>0.009771</td>\n",
              "    </tr>\n",
              "    <tr>\n",
              "      <th>2021-01-04</th>\n",
              "      <td>0.011421</td>\n",
              "      <td>0.007878</td>\n",
              "      <td>0.009785</td>\n",
              "      <td>0.009767</td>\n",
              "      <td>1372398979</td>\n",
              "      <td>0.009767</td>\n",
              "    </tr>\n",
              "    <tr>\n",
              "      <th>2021-01-05</th>\n",
              "      <td>0.010219</td>\n",
              "      <td>0.008972</td>\n",
              "      <td>0.009767</td>\n",
              "      <td>0.009920</td>\n",
              "      <td>687256067</td>\n",
              "      <td>0.009920</td>\n",
              "    </tr>\n",
              "    <tr>\n",
              "      <th>...</th>\n",
              "      <td>...</td>\n",
              "      <td>...</td>\n",
              "      <td>...</td>\n",
              "      <td>...</td>\n",
              "      <td>...</td>\n",
              "      <td>...</td>\n",
              "    </tr>\n",
              "    <tr>\n",
              "      <th>2021-06-25</th>\n",
              "      <td>0.255127</td>\n",
              "      <td>0.230972</td>\n",
              "      <td>0.237673</td>\n",
              "      <td>0.244784</td>\n",
              "      <td>2649457302</td>\n",
              "      <td>0.244784</td>\n",
              "    </tr>\n",
              "    <tr>\n",
              "      <th>2021-06-26</th>\n",
              "      <td>0.266891</td>\n",
              "      <td>0.240894</td>\n",
              "      <td>0.246045</td>\n",
              "      <td>0.264450</td>\n",
              "      <td>2167521670</td>\n",
              "      <td>0.264450</td>\n",
              "    </tr>\n",
              "    <tr>\n",
              "      <th>2021-06-27</th>\n",
              "      <td>0.266982</td>\n",
              "      <td>0.250762</td>\n",
              "      <td>0.264918</td>\n",
              "      <td>0.256857</td>\n",
              "      <td>1932994784</td>\n",
              "      <td>0.256857</td>\n",
              "    </tr>\n",
              "    <tr>\n",
              "      <th>2021-06-28</th>\n",
              "      <td>0.274940</td>\n",
              "      <td>0.252988</td>\n",
              "      <td>0.257061</td>\n",
              "      <td>0.262769</td>\n",
              "      <td>2192562738</td>\n",
              "      <td>0.262769</td>\n",
              "    </tr>\n",
              "    <tr>\n",
              "      <th>2021-06-30</th>\n",
              "      <td>0.262135</td>\n",
              "      <td>0.244459</td>\n",
              "      <td>0.261759</td>\n",
              "      <td>0.247216</td>\n",
              "      <td>1903280640</td>\n",
              "      <td>0.247216</td>\n",
              "    </tr>\n",
              "  </tbody>\n",
              "</table>\n",
              "<p>181 rows × 6 columns</p>\n",
              "</div>"
            ],
            "text/plain": [
              "                High       Low      Open     Close      Volume  Adj Close\n",
              "Date                                                                     \n",
              "2021-01-01  0.005685  0.004615  0.004681  0.005685   228961515   0.005685\n",
              "2021-01-02  0.013698  0.005584  0.005686  0.010615  3421562680   0.010615\n",
              "2021-01-03  0.013867  0.009409  0.010602  0.009771  2707003608   0.009771\n",
              "2021-01-04  0.011421  0.007878  0.009785  0.009767  1372398979   0.009767\n",
              "2021-01-05  0.010219  0.008972  0.009767  0.009920   687256067   0.009920\n",
              "...              ...       ...       ...       ...         ...        ...\n",
              "2021-06-25  0.255127  0.230972  0.237673  0.244784  2649457302   0.244784\n",
              "2021-06-26  0.266891  0.240894  0.246045  0.264450  2167521670   0.264450\n",
              "2021-06-27  0.266982  0.250762  0.264918  0.256857  1932994784   0.256857\n",
              "2021-06-28  0.274940  0.252988  0.257061  0.262769  2192562738   0.262769\n",
              "2021-06-30  0.262135  0.244459  0.261759  0.247216  1903280640   0.247216\n",
              "\n",
              "[181 rows x 6 columns]"
            ]
          },
          "metadata": {
            "tags": []
          },
          "execution_count": 55
        }
      ]
    },
    {
      "cell_type": "code",
      "metadata": {
        "id": "FxFWaZpFQYV2"
      },
      "source": [
        "actual_prices = test_data['Close']"
      ],
      "execution_count": 56,
      "outputs": []
    },
    {
      "cell_type": "code",
      "metadata": {
        "id": "QdRyDfkAQZQV",
        "outputId": "ae770d9d-9412-4f92-d268-c3bacc0c47bc",
        "colab": {
          "base_uri": "https://localhost:8080/"
        }
      },
      "source": [
        "actual_prices = np.array(actual_prices)\n",
        "actual_prices"
      ],
      "execution_count": 57,
      "outputs": [
        {
          "output_type": "execute_result",
          "data": {
            "text/plain": [
              "array([0.005685  , 0.010615  , 0.009771  , 0.009767  , 0.00992   ,\n",
              "       0.010465  , 0.009742  , 0.009846  , 0.010194  , 0.00986   ,\n",
              "       0.008835  , 0.008063  , 0.008616  , 0.009397  , 0.009369  ,\n",
              "       0.009265  , 0.009067  , 0.009171  , 0.009098  , 0.00906   ,\n",
              "       0.008166  , 0.008524  , 0.008579  , 0.008727  , 0.008383  ,\n",
              "       0.008255  , 0.007482  , 0.012555  , 0.047162  , 0.028176  ,\n",
              "       0.037196  , 0.034875  , 0.03152   , 0.03712   , 0.053289  ,\n",
              "       0.046935  , 0.057595  , 0.078782  , 0.078825  , 0.07007   ,\n",
              "       0.072896  , 0.069676  , 0.070069  , 0.06645   , 0.062537  ,\n",
              "       0.056591  , 0.05352   , 0.049376  , 0.059541  , 0.055139  ,\n",
              "       0.054384  , 0.05598   , 0.053725  , 0.047392  , 0.056555  ,\n",
              "       0.050167  , 0.05048   , 0.050083  , 0.048052  , 0.050599  ,\n",
              "       0.050262  , 0.050592  , 0.050048  , 0.049609  , 0.050984  ,\n",
              "       0.052122  , 0.061949  , 0.057998  , 0.056004  , 0.055918  ,\n",
              "       0.055349  , 0.062432  , 0.058592  , 0.057088  , 0.058607  ,\n",
              "       0.057653  , 0.057383  , 0.058328  , 0.058961  , 0.057234  ,\n",
              "       0.054962  , 0.053556  , 0.051702  , 0.051448  , 0.053952  ,\n",
              "       0.054377  , 0.053698  , 0.054052  , 0.0539    , 0.053657  ,\n",
              "       0.061986  , 0.057664  , 0.055804  , 0.057404  , 0.059696  ,\n",
              "       0.064458  , 0.059028  , 0.061464  , 0.061684  , 0.063845  ,\n",
              "       0.074649  , 0.070767  , 0.093445  , 0.121517  , 0.182207  ,\n",
              "       0.36587   , 0.28417301, 0.32047501, 0.407318  , 0.3195    ,\n",
              "       0.306925  , 0.26096699, 0.248509  , 0.27021199, 0.251111  ,\n",
              "       0.27067399, 0.27218801, 0.32368201, 0.30516899, 0.33756101,\n",
              "       0.39298701, 0.376046  , 0.44170699, 0.54133397, 0.65763301,\n",
              "       0.58080399, 0.68477702, 0.63643903, 0.57007003, 0.44996399,\n",
              "       0.495231  , 0.38537601, 0.490374  , 0.55960399, 0.507972  ,\n",
              "       0.51489502, 0.487892  , 0.47611499, 0.333123  , 0.40019399,\n",
              "       0.359382  , 0.34237099, 0.30807099, 0.366162  , 0.346302  ,\n",
              "       0.35369301, 0.33294499, 0.311205  , 0.30311   , 0.30222401,\n",
              "       0.32580999, 0.37007701, 0.423374  , 0.39996299, 0.37632301,\n",
              "       0.372177  , 0.37180701, 0.33105001, 0.327687  , 0.34333101,\n",
              "       0.32635099, 0.319359  , 0.31208399, 0.32438201, 0.33208501,\n",
              "       0.328381  , 0.30776101, 0.30649599, 0.29347199, 0.28735599,\n",
              "       0.2809    , 0.178691  , 0.19103099, 0.23217399, 0.26278201,\n",
              "       0.239153  , 0.244784  , 0.26445001, 0.25685701, 0.26276901,\n",
              "       0.24721579])"
            ]
          },
          "metadata": {
            "tags": []
          },
          "execution_count": 57
        }
      ]
    },
    {
      "cell_type": "code",
      "metadata": {
        "id": "crD-H58HNubs"
      },
      "source": [
        "total_dataset = pd.concat((data['Close'], test_data['Close']), axis=0)"
      ],
      "execution_count": 58,
      "outputs": []
    },
    {
      "cell_type": "code",
      "metadata": {
        "id": "SrKng1TcNvGa"
      },
      "source": [
        "total_dataset.index = pd.to_datetime(total_dataset.index)"
      ],
      "execution_count": 59,
      "outputs": []
    },
    {
      "cell_type": "code",
      "metadata": {
        "id": "9jA00X8HNxT7"
      },
      "source": [
        "model_inputs = total_dataset[len(total_dataset)-len(test_data)-pred_days:].values\n",
        "model_inputs = model_inputs.reshape(-1, 1)\n",
        "model_inputs = scaler.fit_transform(model_inputs)"
      ],
      "execution_count": 60,
      "outputs": []
    },
    {
      "cell_type": "code",
      "metadata": {
        "id": "GixPZr7sN1C1"
      },
      "source": [
        "x_test = []\n",
        "\n",
        "for x in range(pred_days, len(model_inputs)):\n",
        "  x_test.append(model_inputs[x-pred_days:x, 0])\n",
        "\n",
        "x_test = np.array(x_test)\n",
        "x_test = np.reshape(x_test, (x_test.shape[0], x_test.shape[1], 1))"
      ],
      "execution_count": 61,
      "outputs": []
    },
    {
      "cell_type": "code",
      "metadata": {
        "id": "gLtRSAHHN-gL"
      },
      "source": [
        "prediction_prices = model.predict(x_test)\n",
        "prediction_prices = scaler.inverse_transform(prediction_prices)"
      ],
      "execution_count": 62,
      "outputs": []
    },
    {
      "cell_type": "code",
      "metadata": {
        "id": "tk5hW4y_N-6r",
        "outputId": "5cda45c8-d15d-4681-efaa-e3ecd232de2c",
        "colab": {
          "base_uri": "https://localhost:8080/",
          "height": 295
        }
      },
      "source": [
        "plt.plot(actual_prices, color='green', label='Actual Prices')\n",
        "plt.plot(prediction_prices, color='red', label='Prediction Prices')\n",
        "plt.title(f\"{dogecoin}-{currency} Price Predictor\")\n",
        "plt.xlabel(\"Time\")\n",
        "plt.ylabel(\"Price\")\n",
        "plt.legend(loc=\"upper left\")\n",
        "plt.show()"
      ],
      "execution_count": 66,
      "outputs": [
        {
          "output_type": "display_data",
          "data": {
            "image/png": "[encoded data removed]",
            "text/plain": [
              "<Figure size 432x288 with 1 Axes>"
            ]
          },
          "metadata": {
            "tags": [],
            "needs_background": "light"
          }
        }
      ]
    }
  ]
}