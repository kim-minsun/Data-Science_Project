{
  "nbformat": 4,
  "nbformat_minor": 0,
  "metadata": {
    "colab": {
      "name": "Data-Science-Project.ipynb",
      "provenance": [],
      "include_colab_link": true
    },
    "kernelspec": {
      "name": "python3",
      "display_name": "Python 3"
    },
    "language_info": {
      "name": "python"
    }
  },
  "cells": [
    {
      "cell_type": "markdown",
      "metadata": {
        "id": "view-in-github",
        "colab_type": "text"
      },
      "source": [
        "<a href=\"https://colab.research.google.com/github/kim-minsun/Data-Science_Project/blob/Anjesh/Data_Science_Project.ipynb\" target=\"_parent\"><img src=\"https://colab.research.google.com/assets/colab-badge.svg\" alt=\"Open In Colab\"/></a>"
      ]
    },
    {
      "cell_type": "code",
      "metadata": {
        "id": "vf-x-pA5a5gs"
      },
      "source": [
        "import numpy as np\n",
        "import matplotlib.pyplot as plt\n",
        "import pandas as pd\n",
        "import pandas_datareader as web\n",
        "import datetime as dt"
      ],
      "execution_count": 1,
      "outputs": []
    },
    {
      "cell_type": "code",
      "metadata": {
        "id": "hxPy20uNixJw"
      },
      "source": [
        "from sklearn.preprocessing import MinMaxScaler\n",
        "from tensorflow.keras.layers import Dense, Dropout, LSTM\n",
        "from tensorflow.keras.models import Sequential"
      ],
      "execution_count": 2,
      "outputs": []
    },
    {
      "cell_type": "code",
      "metadata": {
        "id": "juq7un76i0IR"
      },
      "source": [
        "crypto = 'ADA'\n",
        "currency = 'USD'\n",
        "\n",
        "start = dt.datetime(2016,1,1)\n",
        "end = dt.datetime.now()\n",
        "\n",
        "data = web.DataReader(f\"{crypto}-{currency}\", \"yahoo\", start, end)"
      ],
      "execution_count": 3,
      "outputs": []
    },
    {
      "cell_type": "code",
      "metadata": {
        "id": "WCOf07Rgi2ga"
      },
      "source": [
        "data.index = pd.to_datetime(data.index)"
      ],
      "execution_count": 4,
      "outputs": []
    },
    {
      "cell_type": "code",
      "metadata": {
        "id": "U-zXdQcNi5KH"
      },
      "source": [
        "#Prepare Data\n",
        "scaler = MinMaxScaler(feature_range=(0,1))\n",
        "scaled_data = scaler.fit_transform(data['Close'].values.reshape(-1,1))"
      ],
      "execution_count": 5,
      "outputs": []
    },
    {
      "cell_type": "code",
      "metadata": {
        "id": "a_vrjs9oi77M"
      },
      "source": [
        "pred_days = 30 # no. of days you're considering for the prediction"
      ],
      "execution_count": 6,
      "outputs": []
    },
    {
      "cell_type": "code",
      "metadata": {
        "id": "eHwdoI5-i973"
      },
      "source": [
        "x_train, y_train = [], []\n",
        "\n",
        "for x in range(pred_days, len(scaled_data)):\n",
        "  x_train.append(scaled_data[x-pred_days:x, 0])\n",
        "  y_train.append(scaled_data[x, 0])"
      ],
      "execution_count": 7,
      "outputs": []
    },
    {
      "cell_type": "code",
      "metadata": {
        "id": "Q8lstH1HjAHo"
      },
      "source": [
        "x_train, y_train = np.array(x_train), np.array(y_train)\n",
        "x_train = np.reshape(x_train, (x_train.shape[0], x_train.shape[1], 1))\n"
      ],
      "execution_count": 8,
      "outputs": []
    },
    {
      "cell_type": "code",
      "metadata": {
        "id": "A-LHdWfNjGCe",
        "outputId": "f9350711-2a0d-44eb-cf6d-3e84f46dcf0e",
        "colab": {
          "base_uri": "https://localhost:8080/"
        }
      },
      "source": [
        "model = Sequential()\n",
        "\n",
        "model.add(LSTM(units=50, return_sequences=True, input_shape=(x_train.shape[1], 1)))\n",
        "model.add(Dropout(0.2))\n",
        "model.add(LSTM(units=50, return_sequences=True))\n",
        "model.add(Dropout(0.2))\n",
        "model.add(LSTM(units=50))\n",
        "model.add(Dropout(0.2))\n",
        "model.add(Dense(1))\n",
        "\n",
        "model.compile(optimizer='adam', loss='mean_squared_error')\n",
        "model.fit(x_train, y_train, epochs=30, batch_size=32)"
      ],
      "execution_count": 9,
      "outputs": [
        {
          "output_type": "stream",
          "text": [
            "Epoch 1/30\n",
            "20/20 [==============================] - 5s 33ms/step - loss: 0.0445\n",
            "Epoch 2/30\n",
            "20/20 [==============================] - 1s 35ms/step - loss: 0.0091\n",
            "Epoch 3/30\n",
            "20/20 [==============================] - 1s 34ms/step - loss: 0.0056\n",
            "Epoch 4/30\n",
            "20/20 [==============================] - 1s 35ms/step - loss: 0.0054\n",
            "Epoch 5/30\n",
            "20/20 [==============================] - 1s 33ms/step - loss: 0.0052\n",
            "Epoch 6/30\n",
            "20/20 [==============================] - 1s 34ms/step - loss: 0.0052\n",
            "Epoch 7/30\n",
            "20/20 [==============================] - 1s 32ms/step - loss: 0.0041\n",
            "Epoch 8/30\n",
            "20/20 [==============================] - 1s 33ms/step - loss: 0.0039\n",
            "Epoch 9/30\n",
            "20/20 [==============================] - 1s 33ms/step - loss: 0.0053\n",
            "Epoch 10/30\n",
            "20/20 [==============================] - 1s 33ms/step - loss: 0.0046\n",
            "Epoch 11/30\n",
            "20/20 [==============================] - 1s 34ms/step - loss: 0.0041\n",
            "Epoch 12/30\n",
            "20/20 [==============================] - 1s 33ms/step - loss: 0.0033\n",
            "Epoch 13/30\n",
            "20/20 [==============================] - 1s 33ms/step - loss: 0.0034\n",
            "Epoch 14/30\n",
            "20/20 [==============================] - 1s 32ms/step - loss: 0.0044\n",
            "Epoch 15/30\n",
            "20/20 [==============================] - 1s 34ms/step - loss: 0.0046\n",
            "Epoch 16/30\n",
            "20/20 [==============================] - 1s 32ms/step - loss: 0.0039\n",
            "Epoch 17/30\n",
            "20/20 [==============================] - 1s 33ms/step - loss: 0.0036\n",
            "Epoch 18/30\n",
            "20/20 [==============================] - 1s 33ms/step - loss: 0.0046\n",
            "Epoch 19/30\n",
            "20/20 [==============================] - 1s 33ms/step - loss: 0.0054\n",
            "Epoch 20/30\n",
            "20/20 [==============================] - 1s 32ms/step - loss: 0.0041\n",
            "Epoch 21/30\n",
            "20/20 [==============================] - 1s 33ms/step - loss: 0.0045\n",
            "Epoch 22/30\n",
            "20/20 [==============================] - 1s 33ms/step - loss: 0.0031\n",
            "Epoch 23/30\n",
            "20/20 [==============================] - 1s 34ms/step - loss: 0.0032\n",
            "Epoch 24/30\n",
            "20/20 [==============================] - 1s 33ms/step - loss: 0.0035\n",
            "Epoch 25/30\n",
            "20/20 [==============================] - 1s 33ms/step - loss: 0.0028\n",
            "Epoch 26/30\n",
            "20/20 [==============================] - 1s 33ms/step - loss: 0.0033\n",
            "Epoch 27/30\n",
            "20/20 [==============================] - 1s 33ms/step - loss: 0.0027\n",
            "Epoch 28/30\n",
            "20/20 [==============================] - 1s 33ms/step - loss: 0.0032\n",
            "Epoch 29/30\n",
            "20/20 [==============================] - 1s 32ms/step - loss: 0.0025\n",
            "Epoch 30/30\n",
            "20/20 [==============================] - 1s 32ms/step - loss: 0.0023\n"
          ],
          "name": "stdout"
        },
        {
          "output_type": "execute_result",
          "data": {
            "text/plain": [
              "<tensorflow.python.keras.callbacks.History at 0x7ff360587fd0>"
            ]
          },
          "metadata": {
            "tags": []
          },
          "execution_count": 9
        }
      ]
    },
    {
      "cell_type": "code",
      "metadata": {
        "id": "Uc1wc795jGoV",
        "outputId": "f190c303-cb37-49cf-fd22-9a38d62ba6c0",
        "colab": {
          "base_uri": "https://localhost:8080/"
        }
      },
      "source": [
        "model = Sequential()\n",
        "\n",
        "model.add(LSTM(units=50, return_sequences=True, input_shape=(x_train.shape[1], 1)))\n",
        "model.add(Dropout(0.2))\n",
        "model.add(LSTM(units=50, return_sequences=True))\n",
        "model.add(Dropout(0.2))\n",
        "model.add(LSTM(units=50))\n",
        "model.add(Dropout(0.2))\n",
        "model.add(Dense(1))\n",
        "\n",
        "model.compile(optimizer='adam', loss='mean_squared_error')\n",
        "model.fit(x_train, y_train, epochs=30, batch_size=32)"
      ],
      "execution_count": 10,
      "outputs": [
        {
          "output_type": "stream",
          "text": [
            "Epoch 1/30\n",
            "20/20 [==============================] - 5s 33ms/step - loss: 0.0317\n",
            "Epoch 2/30\n",
            "20/20 [==============================] - 1s 33ms/step - loss: 0.0066\n",
            "Epoch 3/30\n",
            "20/20 [==============================] - 1s 33ms/step - loss: 0.0046\n",
            "Epoch 4/30\n",
            "20/20 [==============================] - 1s 34ms/step - loss: 0.0047\n",
            "Epoch 5/30\n",
            "20/20 [==============================] - 1s 33ms/step - loss: 0.0047\n",
            "Epoch 6/30\n",
            "20/20 [==============================] - 1s 32ms/step - loss: 0.0055\n",
            "Epoch 7/30\n",
            "20/20 [==============================] - 1s 34ms/step - loss: 0.0057\n",
            "Epoch 8/30\n",
            "20/20 [==============================] - 1s 34ms/step - loss: 0.0050\n",
            "Epoch 9/30\n",
            "20/20 [==============================] - 1s 33ms/step - loss: 0.0048\n",
            "Epoch 10/30\n",
            "20/20 [==============================] - 1s 34ms/step - loss: 0.0041\n",
            "Epoch 11/30\n",
            "20/20 [==============================] - 1s 34ms/step - loss: 0.0040\n",
            "Epoch 12/30\n",
            "20/20 [==============================] - 1s 33ms/step - loss: 0.0040\n",
            "Epoch 13/30\n",
            "20/20 [==============================] - 1s 33ms/step - loss: 0.0037\n",
            "Epoch 14/30\n",
            "20/20 [==============================] - 1s 33ms/step - loss: 0.0035\n",
            "Epoch 15/30\n",
            "20/20 [==============================] - 1s 33ms/step - loss: 0.0040\n",
            "Epoch 16/30\n",
            "20/20 [==============================] - 1s 34ms/step - loss: 0.0037\n",
            "Epoch 17/30\n",
            "20/20 [==============================] - 1s 32ms/step - loss: 0.0032\n",
            "Epoch 18/30\n",
            "20/20 [==============================] - 1s 31ms/step - loss: 0.0031\n",
            "Epoch 19/30\n",
            "20/20 [==============================] - 1s 34ms/step - loss: 0.0033\n",
            "Epoch 20/30\n",
            "20/20 [==============================] - 1s 33ms/step - loss: 0.0034\n",
            "Epoch 21/30\n",
            "20/20 [==============================] - 1s 33ms/step - loss: 0.0035\n",
            "Epoch 22/30\n",
            "20/20 [==============================] - 1s 33ms/step - loss: 0.0032\n",
            "Epoch 23/30\n",
            "20/20 [==============================] - 1s 33ms/step - loss: 0.0037\n",
            "Epoch 24/30\n",
            "20/20 [==============================] - 1s 32ms/step - loss: 0.0034\n",
            "Epoch 25/30\n",
            "20/20 [==============================] - 1s 34ms/step - loss: 0.0038\n",
            "Epoch 26/30\n",
            "20/20 [==============================] - 1s 34ms/step - loss: 0.0028\n",
            "Epoch 27/30\n",
            "20/20 [==============================] - 1s 33ms/step - loss: 0.0032\n",
            "Epoch 28/30\n",
            "20/20 [==============================] - 1s 33ms/step - loss: 0.0028\n",
            "Epoch 29/30\n",
            "20/20 [==============================] - 1s 33ms/step - loss: 0.0032\n",
            "Epoch 30/30\n",
            "20/20 [==============================] - 1s 33ms/step - loss: 0.0031\n"
          ],
          "name": "stdout"
        },
        {
          "output_type": "execute_result",
          "data": {
            "text/plain": [
              "<tensorflow.python.keras.callbacks.History at 0x7ff35f35e050>"
            ]
          },
          "metadata": {
            "tags": []
          },
          "execution_count": 10
        }
      ]
    },
    {
      "cell_type": "code",
      "metadata": {
        "id": "Ju-LQfcVjJyz",
        "outputId": "4129d051-75c0-40e2-a7e7-aed453a91851",
        "colab": {
          "base_uri": "https://localhost:8080/",
          "height": 163
        }
      },
      "source": [
        "test_data.index = pd.to_datetime(test_data.index)\n"
      ],
      "execution_count": 11,
      "outputs": [
        {
          "output_type": "error",
          "ename": "NameError",
          "evalue": "ignored",
          "traceback": [
            "\u001b[0;31m---------------------------------------------------------------------------\u001b[0m",
            "\u001b[0;31mNameError\u001b[0m                                 Traceback (most recent call last)",
            "\u001b[0;32m<ipython-input-11-59a0526da12d>\u001b[0m in \u001b[0;36m<module>\u001b[0;34m()\u001b[0m\n\u001b[0;32m----> 1\u001b[0;31m \u001b[0mtest_data\u001b[0m\u001b[0;34m.\u001b[0m\u001b[0mindex\u001b[0m \u001b[0;34m=\u001b[0m \u001b[0mpd\u001b[0m\u001b[0;34m.\u001b[0m\u001b[0mto_datetime\u001b[0m\u001b[0;34m(\u001b[0m\u001b[0mtest_data\u001b[0m\u001b[0;34m.\u001b[0m\u001b[0mindex\u001b[0m\u001b[0;34m)\u001b[0m\u001b[0;34m\u001b[0m\u001b[0;34m\u001b[0m\u001b[0m\n\u001b[0m",
            "\u001b[0;31mNameError\u001b[0m: name 'test_data' is not defined"
          ]
        }
      ]
    },
    {
      "cell_type": "code",
      "metadata": {
        "id": "XwH7gyZRjLt-"
      },
      "source": [
        "test_data"
      ],
      "execution_count": null,
      "outputs": []
    },
    {
      "cell_type": "code",
      "metadata": {
        "id": "f9UIdT--jN2Q"
      },
      "source": [
        "actual_prices = test_data['Close']"
      ],
      "execution_count": null,
      "outputs": []
    },
    {
      "cell_type": "code",
      "metadata": {
        "id": "4TP3ajzLjQcT"
      },
      "source": [
        "actual_prices = np.array(actual_prices)\n",
        "actual_prices"
      ],
      "execution_count": null,
      "outputs": []
    },
    {
      "cell_type": "code",
      "metadata": {
        "id": "c5R4jMgajS78"
      },
      "source": [
        "total_dataset = pd.concat((data['Close'], test_data['Close']), axis=0)"
      ],
      "execution_count": null,
      "outputs": []
    },
    {
      "cell_type": "code",
      "metadata": {
        "id": "xOWaKqA7jVxX"
      },
      "source": [
        "total_dataset.index = pd.to_datetime(total_dataset.index)\n"
      ],
      "execution_count": null,
      "outputs": []
    },
    {
      "cell_type": "code",
      "metadata": {
        "id": "Grg80q-tjaI0"
      },
      "source": [
        "model_inputs = total_dataset[len(total_dataset)-len(test_data)-pred_days:].values\n",
        "model_inputs = model_inputs.reshape(-1, 1)\n",
        "model_inputs = scaler.fit_transform(model_inputs)"
      ],
      "execution_count": null,
      "outputs": []
    },
    {
      "cell_type": "code",
      "metadata": {
        "id": "DGZsmcRmja5L"
      },
      "source": [
        "x_test = []\n",
        "\n",
        "for x in range(pred_days, len(model_inputs)):\n",
        "  x_test.append(model_inputs[x-pred_days:x, 0])\n",
        "\n",
        "x_test = np.array(x_test)\n",
        "x_test = np.reshape(x_test, (x_test.shape[0], x_test.shape[1], 1))"
      ],
      "execution_count": null,
      "outputs": []
    },
    {
      "cell_type": "code",
      "metadata": {
        "id": "KccZu4ORjdSO"
      },
      "source": [
        "prediction_prices = model.predict(x_test)\n",
        "prediction_prices = scaler.inverse_transform(prediction_prices)"
      ],
      "execution_count": null,
      "outputs": []
    },
    {
      "cell_type": "code",
      "metadata": {
        "id": "t0NS58gwjgup"
      },
      "source": [
        "plt.plot(actual_prices, color='red', label='Actual Prices')\n",
        "plt.plot(prediction_prices, color='green', label='Prediction Prices')\n",
        "plt.title(f\"{crypto}-{currency} Price Predictor\")\n",
        "plt.xlabel(\"Time\")\n",
        "plt.ylabel(\"Price\")\n",
        "plt.legend(loc=\"upper left\")\n",
        "plt.show()"
      ],
      "execution_count": null,
      "outputs": []
    }
  ]
}