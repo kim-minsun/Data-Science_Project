{
  "nbformat": 4,
  "nbformat_minor": 0,
  "metadata": {
    "colab": {
      "name": "Data-Science-Project.ipynb",
      "provenance": [],
      "include_colab_link": true
    },
    "kernelspec": {
      "name": "python3",
      "display_name": "Python 3"
    },
    "language_info": {
      "name": "python"
    }
  },
  "cells": [
    {
      "cell_type": "markdown",
      "metadata": {
        "id": "view-in-github",
        "colab_type": "text"
      },
      "source": [
        "<a href=\"https://colab.research.google.com/github/kim-minsun/Data-Science_Project/blob/Charles/Data_Science_Project.ipynb\" target=\"_parent\"><img src=\"https://colab.research.google.com/assets/colab-badge.svg\" alt=\"Open In Colab\"/></a>"
      ]
    },
    {
      "cell_type": "code",
      "metadata": {
        "id": "vf-x-pA5a5gs"
      },
      "source": [
        "import numpy as np\n",
        "import matplotlib.pyplot as plt\n",
        "import pandas as pd\n",
        "import pandas_datareader as web\n",
        "import datetime as dt"
      ],
      "execution_count": 41,
      "outputs": []
    },
    {
      "cell_type": "code",
      "metadata": {
        "id": "j0-cwAJ_P3bV"
      },
      "source": [
        "from sklearn.preprocessing import MinMaxScaler\n",
        "from tensorflow.keras.layers import Dense, Dropout, LSTM\n",
        "from tensorflow.keras.models import Sequential"
      ],
      "execution_count": 42,
      "outputs": []
    },
    {
      "cell_type": "code",
      "metadata": {
        "id": "AZg_GO_IQEv1"
      },
      "source": [
        "dogecoin = 'DOGE'\n",
        "currency = 'USD'\n",
        "\n",
        "start = dt.datetime(2016,1,1)\n",
        "end = dt.datetime.now()\n",
        "\n",
        "data = web.DataReader(f\"{dogecoin}-{currency}\", \"yahoo\", start, end)"
      ],
      "execution_count": 43,
      "outputs": []
    },
    {
      "cell_type": "code",
      "metadata": {
        "id": "743AcS_RQIR7"
      },
      "source": [
        "data.index = pd.to_datetime(data.index)"
      ],
      "execution_count": 44,
      "outputs": []
    },
    {
      "cell_type": "code",
      "metadata": {
        "id": "uRm2WAw9QLrU",
        "colab": {
          "base_uri": "https://localhost:8080/",
          "height": 450
        },
        "outputId": "101a8a48-54a3-45da-eea5-99e994092b35"
      },
      "source": [
        "data"
      ],
      "execution_count": 45,
      "outputs": [
        {
          "output_type": "execute_result",
          "data": {
            "text/html": [
              "<div>\n",
              "<style scoped>\n",
              "    .dataframe tbody tr th:only-of-type {\n",
              "        vertical-align: middle;\n",
              "    }\n",
              "\n",
              "    .dataframe tbody tr th {\n",
              "        vertical-align: top;\n",
              "    }\n",
              "\n",
              "    .dataframe thead th {\n",
              "        text-align: right;\n",
              "    }\n",
              "</style>\n",
              "<table border=\"1\" class=\"dataframe\">\n",
              "  <thead>\n",
              "    <tr style=\"text-align: right;\">\n",
              "      <th></th>\n",
              "      <th>High</th>\n",
              "      <th>Low</th>\n",
              "      <th>Open</th>\n",
              "      <th>Close</th>\n",
              "      <th>Volume</th>\n",
              "      <th>Adj Close</th>\n",
              "    </tr>\n",
              "    <tr>\n",
              "      <th>Date</th>\n",
              "      <th></th>\n",
              "      <th></th>\n",
              "      <th></th>\n",
              "      <th></th>\n",
              "      <th></th>\n",
              "      <th></th>\n",
              "    </tr>\n",
              "  </thead>\n",
              "  <tbody>\n",
              "    <tr>\n",
              "      <th>2016-01-01</th>\n",
              "      <td>0.000156</td>\n",
              "      <td>0.000150</td>\n",
              "      <td>0.000150</td>\n",
              "      <td>0.000154</td>\n",
              "      <td>1.052240e+05</td>\n",
              "      <td>0.000154</td>\n",
              "    </tr>\n",
              "    <tr>\n",
              "      <th>2016-01-02</th>\n",
              "      <td>0.000156</td>\n",
              "      <td>0.000148</td>\n",
              "      <td>0.000155</td>\n",
              "      <td>0.000151</td>\n",
              "      <td>9.047700e+04</td>\n",
              "      <td>0.000151</td>\n",
              "    </tr>\n",
              "    <tr>\n",
              "      <th>2016-01-03</th>\n",
              "      <td>0.000150</td>\n",
              "      <td>0.000143</td>\n",
              "      <td>0.000149</td>\n",
              "      <td>0.000146</td>\n",
              "      <td>1.040050e+05</td>\n",
              "      <td>0.000146</td>\n",
              "    </tr>\n",
              "    <tr>\n",
              "      <th>2016-01-04</th>\n",
              "      <td>0.000148</td>\n",
              "      <td>0.000142</td>\n",
              "      <td>0.000146</td>\n",
              "      <td>0.000144</td>\n",
              "      <td>9.216000e+04</td>\n",
              "      <td>0.000144</td>\n",
              "    </tr>\n",
              "    <tr>\n",
              "      <th>2016-01-05</th>\n",
              "      <td>0.000154</td>\n",
              "      <td>0.000135</td>\n",
              "      <td>0.000144</td>\n",
              "      <td>0.000137</td>\n",
              "      <td>5.293700e+04</td>\n",
              "      <td>0.000137</td>\n",
              "    </tr>\n",
              "    <tr>\n",
              "      <th>...</th>\n",
              "      <td>...</td>\n",
              "      <td>...</td>\n",
              "      <td>...</td>\n",
              "      <td>...</td>\n",
              "      <td>...</td>\n",
              "      <td>...</td>\n",
              "    </tr>\n",
              "    <tr>\n",
              "      <th>2021-06-25</th>\n",
              "      <td>0.289145</td>\n",
              "      <td>0.230006</td>\n",
              "      <td>0.263480</td>\n",
              "      <td>0.239153</td>\n",
              "      <td>5.542163e+09</td>\n",
              "      <td>0.239153</td>\n",
              "    </tr>\n",
              "    <tr>\n",
              "      <th>2021-06-26</th>\n",
              "      <td>0.255127</td>\n",
              "      <td>0.230972</td>\n",
              "      <td>0.237673</td>\n",
              "      <td>0.244784</td>\n",
              "      <td>2.649457e+09</td>\n",
              "      <td>0.244784</td>\n",
              "    </tr>\n",
              "    <tr>\n",
              "      <th>2021-06-27</th>\n",
              "      <td>0.266891</td>\n",
              "      <td>0.240894</td>\n",
              "      <td>0.246045</td>\n",
              "      <td>0.264450</td>\n",
              "      <td>2.167522e+09</td>\n",
              "      <td>0.264450</td>\n",
              "    </tr>\n",
              "    <tr>\n",
              "      <th>2021-06-28</th>\n",
              "      <td>0.266982</td>\n",
              "      <td>0.250762</td>\n",
              "      <td>0.264918</td>\n",
              "      <td>0.256857</td>\n",
              "      <td>1.932995e+09</td>\n",
              "      <td>0.256857</td>\n",
              "    </tr>\n",
              "    <tr>\n",
              "      <th>2021-06-29</th>\n",
              "      <td>0.274405</td>\n",
              "      <td>0.253203</td>\n",
              "      <td>0.255918</td>\n",
              "      <td>0.267942</td>\n",
              "      <td>2.170859e+09</td>\n",
              "      <td>0.267942</td>\n",
              "    </tr>\n",
              "  </tbody>\n",
              "</table>\n",
              "<p>2003 rows × 6 columns</p>\n",
              "</div>"
            ],
            "text/plain": [
              "                High       Low      Open     Close        Volume  Adj Close\n",
              "Date                                                                       \n",
              "2016-01-01  0.000156  0.000150  0.000150  0.000154  1.052240e+05   0.000154\n",
              "2016-01-02  0.000156  0.000148  0.000155  0.000151  9.047700e+04   0.000151\n",
              "2016-01-03  0.000150  0.000143  0.000149  0.000146  1.040050e+05   0.000146\n",
              "2016-01-04  0.000148  0.000142  0.000146  0.000144  9.216000e+04   0.000144\n",
              "2016-01-05  0.000154  0.000135  0.000144  0.000137  5.293700e+04   0.000137\n",
              "...              ...       ...       ...       ...           ...        ...\n",
              "2021-06-25  0.289145  0.230006  0.263480  0.239153  5.542163e+09   0.239153\n",
              "2021-06-26  0.255127  0.230972  0.237673  0.244784  2.649457e+09   0.244784\n",
              "2021-06-27  0.266891  0.240894  0.246045  0.264450  2.167522e+09   0.264450\n",
              "2021-06-28  0.266982  0.250762  0.264918  0.256857  1.932995e+09   0.256857\n",
              "2021-06-29  0.274405  0.253203  0.255918  0.267942  2.170859e+09   0.267942\n",
              "\n",
              "[2003 rows x 6 columns]"
            ]
          },
          "metadata": {
            "tags": []
          },
          "execution_count": 45
        }
      ]
    },
    {
      "cell_type": "code",
      "metadata": {
        "id": "TXxDF6uuQOC3"
      },
      "source": [
        "scaler = MinMaxScaler(feature_range=(0,1))\n",
        "scaled_data = scaler.fit_transform(data['Close'].values.reshape(-1,1))"
      ],
      "execution_count": 46,
      "outputs": []
    },
    {
      "cell_type": "code",
      "metadata": {
        "id": "nLfyDu0cQPVG"
      },
      "source": [
        "pred_days = 30"
      ],
      "execution_count": 47,
      "outputs": []
    },
    {
      "cell_type": "code",
      "metadata": {
        "id": "yY6sFXp2QQZc"
      },
      "source": [
        "x_train, y_train = [], []\n",
        "\n",
        "for x in range(pred_days, len(scaled_data)):\n",
        "  x_train.append(scaled_data[x-pred_days:x, 0])\n",
        "  y_train.append(scaled_data[x, 0])"
      ],
      "execution_count": 48,
      "outputs": []
    },
    {
      "cell_type": "code",
      "metadata": {
        "id": "auPHtZDiQRlq"
      },
      "source": [
        "x_train, y_train = np.array(x_train), np.array(y_train)\n",
        "x_train = np.reshape(x_train, (x_train.shape[0], x_train.shape[1], 1))"
      ],
      "execution_count": 49,
      "outputs": []
    },
    {
      "cell_type": "code",
      "metadata": {
        "id": "7PFyhimCQSzA",
        "colab": {
          "base_uri": "https://localhost:8080/"
        },
        "outputId": "7dca7a6a-837c-46a1-94ae-8e751d854480"
      },
      "source": [
        "model = Sequential()\n",
        "\n",
        "model.add(LSTM(units=50, return_sequences=True, input_shape=(x_train.shape[1], 1)))\n",
        "model.add(Dropout(0.2))\n",
        "model.add(LSTM(units=50, return_sequences=True))\n",
        "model.add(Dropout(0.2))\n",
        "model.add(LSTM(units=50))\n",
        "model.add(Dropout(0.2))\n",
        "model.add(Dense(1))\n",
        "\n",
        "model.compile(optimizer='adam', loss='mean_squared_error')\n",
        "model.fit(x_train, y_train, epochs=30, batch_size=32)"
      ],
      "execution_count": null,
      "outputs": [
        {
          "output_type": "stream",
          "text": [
            "Epoch 1/30\n",
            "62/62 [==============================] - 8s 49ms/step - loss: 0.0031\n",
            "Epoch 2/30\n",
            "62/62 [==============================] - 3s 48ms/step - loss: 0.0014\n",
            "Epoch 3/30\n",
            "38/62 [=================>............] - ETA: 1s - loss: 0.0019"
          ],
          "name": "stdout"
        }
      ]
    },
    {
      "cell_type": "code",
      "metadata": {
        "id": "21YQmZUAQT3G"
      },
      "source": [
        "test_start = dt.datetime(2021,1,1)\n",
        "test_end = dt.datetime.now()\n",
        "\n",
        "test_data = web.DataReader(f\"{crypto}-{currency}\", \"yahoo\", test_start, test_end)"
      ],
      "execution_count": null,
      "outputs": []
    },
    {
      "cell_type": "code",
      "metadata": {
        "id": "C_pMR4FfQVKL"
      },
      "source": [
        "test_data.index = pd.to_datetime(test_data.index)"
      ],
      "execution_count": null,
      "outputs": []
    },
    {
      "cell_type": "code",
      "metadata": {
        "id": "-M8s_XZ4QW-p"
      },
      "source": [
        "test_data"
      ],
      "execution_count": null,
      "outputs": []
    },
    {
      "cell_type": "code",
      "metadata": {
        "id": "FxFWaZpFQYV2"
      },
      "source": [
        "actual_prices = test_data['Close']"
      ],
      "execution_count": null,
      "outputs": []
    },
    {
      "cell_type": "code",
      "metadata": {
        "id": "QdRyDfkAQZQV"
      },
      "source": [
        "actual_prices = np.array(actual_prices)\n",
        "actual_prices"
      ],
      "execution_count": null,
      "outputs": []
    }
  ]
}