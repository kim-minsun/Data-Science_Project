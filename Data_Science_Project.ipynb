{
  "nbformat": 4,
  "nbformat_minor": 0,
  "metadata": {
    "colab": {
      "name": "Data-Science-Project.ipynb",
      "provenance": [],
      "include_colab_link": true
    },
    "kernelspec": {
      "name": "python3",
      "display_name": "Python 3"
    },
    "language_info": {
      "name": "python"
    }
  },
  "cells": [
    {
      "cell_type": "markdown",
      "metadata": {
        "id": "view-in-github",
        "colab_type": "text"
      },
      "source": [
        "<a href=\"https://colab.research.google.com/github/kim-minsun/Data-Science_Project/blob/Kim/Data_Science_Project.ipynb\" target=\"_parent\"><img src=\"https://colab.research.google.com/assets/colab-badge.svg\" alt=\"Open In Colab\"/></a>"
      ]
    },
    {
      "cell_type": "code",
      "metadata": {
        "id": "vf-x-pA5a5gs"
      },
      "source": [
        "import numpy as np\n",
        "import matplotlib.pyplot as plt\n",
        "import pandas as pd\n",
        "import pandas_datareader as web\n",
        "import datetime as dt"
      ],
      "execution_count": 1,
      "outputs": []
    },
    {
      "cell_type": "code",
      "metadata": {
        "id": "ofr1tDR2srjN"
      },
      "source": [
        "from sklearn.preprocessing import MinMaxScaler\n",
        "from tensorflow.keras.layers import Dense, Dropout, LSTM\n",
        "from tensorflow.keras.models import Sequential"
      ],
      "execution_count": 2,
      "outputs": []
    },
    {
      "cell_type": "code",
      "metadata": {
        "id": "DRuGM6XAwGjn"
      },
      "source": [
        "data = pd.read_csv(\"coin_Bitcoin.csv\")"
      ],
      "execution_count": 31,
      "outputs": []
    },
    {
      "cell_type": "code",
      "metadata": {
        "colab": {
          "base_uri": "https://localhost:8080/",
          "height": 204
        },
        "id": "pKM3VTD3xXuh",
        "outputId": "d83f6e8b-c005-45bc-bbf8-a523325a57d1"
      },
      "source": [
        "#understanding the data\n",
        "\n",
        "data.head()"
      ],
      "execution_count": 28,
      "outputs": [
        {
          "output_type": "execute_result",
          "data": {
            "text/html": [
              "<div>\n",
              "<style scoped>\n",
              "    .dataframe tbody tr th:only-of-type {\n",
              "        vertical-align: middle;\n",
              "    }\n",
              "\n",
              "    .dataframe tbody tr th {\n",
              "        vertical-align: top;\n",
              "    }\n",
              "\n",
              "    .dataframe thead th {\n",
              "        text-align: right;\n",
              "    }\n",
              "</style>\n",
              "<table border=\"1\" class=\"dataframe\">\n",
              "  <thead>\n",
              "    <tr style=\"text-align: right;\">\n",
              "      <th></th>\n",
              "      <th>SNo</th>\n",
              "      <th>Name</th>\n",
              "      <th>Symbol</th>\n",
              "      <th>Date</th>\n",
              "      <th>High</th>\n",
              "      <th>Low</th>\n",
              "      <th>Open</th>\n",
              "      <th>Close</th>\n",
              "      <th>Volume</th>\n",
              "      <th>Marketcap</th>\n",
              "    </tr>\n",
              "  </thead>\n",
              "  <tbody>\n",
              "    <tr>\n",
              "      <th>0</th>\n",
              "      <td>1</td>\n",
              "      <td>Dogecoin</td>\n",
              "      <td>DOGE</td>\n",
              "      <td>2013-12-16 23:59:59</td>\n",
              "      <td>0.000866</td>\n",
              "      <td>0.000150</td>\n",
              "      <td>0.000299</td>\n",
              "      <td>0.000205</td>\n",
              "      <td>0.0</td>\n",
              "      <td>1.509085e+06</td>\n",
              "    </tr>\n",
              "    <tr>\n",
              "      <th>1</th>\n",
              "      <td>2</td>\n",
              "      <td>Dogecoin</td>\n",
              "      <td>DOGE</td>\n",
              "      <td>2013-12-17 23:59:59</td>\n",
              "      <td>0.000289</td>\n",
              "      <td>0.000116</td>\n",
              "      <td>0.000207</td>\n",
              "      <td>0.000269</td>\n",
              "      <td>0.0</td>\n",
              "      <td>2.169688e+06</td>\n",
              "    </tr>\n",
              "    <tr>\n",
              "      <th>2</th>\n",
              "      <td>3</td>\n",
              "      <td>Dogecoin</td>\n",
              "      <td>DOGE</td>\n",
              "      <td>2013-12-18 23:59:59</td>\n",
              "      <td>0.000362</td>\n",
              "      <td>0.000205</td>\n",
              "      <td>0.000267</td>\n",
              "      <td>0.000362</td>\n",
              "      <td>0.0</td>\n",
              "      <td>3.188943e+06</td>\n",
              "    </tr>\n",
              "    <tr>\n",
              "      <th>3</th>\n",
              "      <td>4</td>\n",
              "      <td>Dogecoin</td>\n",
              "      <td>DOGE</td>\n",
              "      <td>2013-12-19 23:59:59</td>\n",
              "      <td>0.001520</td>\n",
              "      <td>0.000328</td>\n",
              "      <td>0.000395</td>\n",
              "      <td>0.001162</td>\n",
              "      <td>0.0</td>\n",
              "      <td>1.115034e+07</td>\n",
              "    </tr>\n",
              "    <tr>\n",
              "      <th>4</th>\n",
              "      <td>5</td>\n",
              "      <td>Dogecoin</td>\n",
              "      <td>DOGE</td>\n",
              "      <td>2013-12-20 23:59:59</td>\n",
              "      <td>0.001143</td>\n",
              "      <td>0.000662</td>\n",
              "      <td>0.001143</td>\n",
              "      <td>0.000704</td>\n",
              "      <td>0.0</td>\n",
              "      <td>7.284337e+06</td>\n",
              "    </tr>\n",
              "  </tbody>\n",
              "</table>\n",
              "</div>"
            ],
            "text/plain": [
              "   SNo      Name Symbol  ...     Close  Volume     Marketcap\n",
              "0    1  Dogecoin   DOGE  ...  0.000205     0.0  1.509085e+06\n",
              "1    2  Dogecoin   DOGE  ...  0.000269     0.0  2.169688e+06\n",
              "2    3  Dogecoin   DOGE  ...  0.000362     0.0  3.188943e+06\n",
              "3    4  Dogecoin   DOGE  ...  0.001162     0.0  1.115034e+07\n",
              "4    5  Dogecoin   DOGE  ...  0.000704     0.0  7.284337e+06\n",
              "\n",
              "[5 rows x 10 columns]"
            ]
          },
          "metadata": {
            "tags": []
          },
          "execution_count": 28
        }
      ]
    },
    {
      "cell_type": "code",
      "metadata": {
        "colab": {
          "base_uri": "https://localhost:8080/",
          "height": 204
        },
        "id": "ZAX3rD-hxiXe",
        "outputId": "09748b07-3c8d-4131-fe41-5793ad5f6ec1"
      },
      "source": [
        "data.tail()"
      ],
      "execution_count": 30,
      "outputs": [
        {
          "output_type": "execute_result",
          "data": {
            "text/html": [
              "<div>\n",
              "<style scoped>\n",
              "    .dataframe tbody tr th:only-of-type {\n",
              "        vertical-align: middle;\n",
              "    }\n",
              "\n",
              "    .dataframe tbody tr th {\n",
              "        vertical-align: top;\n",
              "    }\n",
              "\n",
              "    .dataframe thead th {\n",
              "        text-align: right;\n",
              "    }\n",
              "</style>\n",
              "<table border=\"1\" class=\"dataframe\">\n",
              "  <thead>\n",
              "    <tr style=\"text-align: right;\">\n",
              "      <th></th>\n",
              "      <th>SNo</th>\n",
              "      <th>Name</th>\n",
              "      <th>Symbol</th>\n",
              "      <th>Date</th>\n",
              "      <th>High</th>\n",
              "      <th>Low</th>\n",
              "      <th>Open</th>\n",
              "      <th>Close</th>\n",
              "      <th>Volume</th>\n",
              "      <th>Marketcap</th>\n",
              "    </tr>\n",
              "  </thead>\n",
              "  <tbody>\n",
              "    <tr>\n",
              "      <th>2626</th>\n",
              "      <td>2627</td>\n",
              "      <td>Dogecoin</td>\n",
              "      <td>DOGE</td>\n",
              "      <td>2021-02-23 23:59:59</td>\n",
              "      <td>0.053768</td>\n",
              "      <td>0.042410</td>\n",
              "      <td>0.053698</td>\n",
              "      <td>0.047392</td>\n",
              "      <td>2.394345e+09</td>\n",
              "      <td>6.089686e+09</td>\n",
              "    </tr>\n",
              "    <tr>\n",
              "      <th>2627</th>\n",
              "      <td>2628</td>\n",
              "      <td>Dogecoin</td>\n",
              "      <td>DOGE</td>\n",
              "      <td>2021-02-24 23:59:59</td>\n",
              "      <td>0.059873</td>\n",
              "      <td>0.046216</td>\n",
              "      <td>0.047414</td>\n",
              "      <td>0.056555</td>\n",
              "      <td>4.148512e+09</td>\n",
              "      <td>7.267918e+09</td>\n",
              "    </tr>\n",
              "    <tr>\n",
              "      <th>2628</th>\n",
              "      <td>2629</td>\n",
              "      <td>Dogecoin</td>\n",
              "      <td>DOGE</td>\n",
              "      <td>2021-02-25 23:59:59</td>\n",
              "      <td>0.057808</td>\n",
              "      <td>0.049869</td>\n",
              "      <td>0.056615</td>\n",
              "      <td>0.050167</td>\n",
              "      <td>2.356982e+09</td>\n",
              "      <td>6.447665e+09</td>\n",
              "    </tr>\n",
              "    <tr>\n",
              "      <th>2629</th>\n",
              "      <td>2630</td>\n",
              "      <td>Dogecoin</td>\n",
              "      <td>DOGE</td>\n",
              "      <td>2021-02-26 23:59:59</td>\n",
              "      <td>0.052472</td>\n",
              "      <td>0.048708</td>\n",
              "      <td>0.050138</td>\n",
              "      <td>0.050480</td>\n",
              "      <td>1.694323e+09</td>\n",
              "      <td>6.488523e+09</td>\n",
              "    </tr>\n",
              "    <tr>\n",
              "      <th>2630</th>\n",
              "      <td>2631</td>\n",
              "      <td>Dogecoin</td>\n",
              "      <td>DOGE</td>\n",
              "      <td>2021-02-27 23:59:59</td>\n",
              "      <td>0.051920</td>\n",
              "      <td>0.049297</td>\n",
              "      <td>0.050500</td>\n",
              "      <td>0.050083</td>\n",
              "      <td>1.286230e+09</td>\n",
              "      <td>6.438193e+09</td>\n",
              "    </tr>\n",
              "  </tbody>\n",
              "</table>\n",
              "</div>"
            ],
            "text/plain": [
              "       SNo      Name Symbol  ...     Close        Volume     Marketcap\n",
              "2626  2627  Dogecoin   DOGE  ...  0.047392  2.394345e+09  6.089686e+09\n",
              "2627  2628  Dogecoin   DOGE  ...  0.056555  4.148512e+09  7.267918e+09\n",
              "2628  2629  Dogecoin   DOGE  ...  0.050167  2.356982e+09  6.447665e+09\n",
              "2629  2630  Dogecoin   DOGE  ...  0.050480  1.694323e+09  6.488523e+09\n",
              "2630  2631  Dogecoin   DOGE  ...  0.050083  1.286230e+09  6.438193e+09\n",
              "\n",
              "[5 rows x 10 columns]"
            ]
          },
          "metadata": {
            "tags": []
          },
          "execution_count": 30
        }
      ]
    },
    {
      "cell_type": "code",
      "metadata": {
        "colab": {
          "base_uri": "https://localhost:8080/",
          "height": 297
        },
        "id": "1x__2utWyqkf",
        "outputId": "a4c59306-576e-41ef-c502-d89a1033d0c7"
      },
      "source": [
        "data.describe() "
      ],
      "execution_count": 23,
      "outputs": [
        {
          "output_type": "execute_result",
          "data": {
            "text/html": [
              "<div>\n",
              "<style scoped>\n",
              "    .dataframe tbody tr th:only-of-type {\n",
              "        vertical-align: middle;\n",
              "    }\n",
              "\n",
              "    .dataframe tbody tr th {\n",
              "        vertical-align: top;\n",
              "    }\n",
              "\n",
              "    .dataframe thead th {\n",
              "        text-align: right;\n",
              "    }\n",
              "</style>\n",
              "<table border=\"1\" class=\"dataframe\">\n",
              "  <thead>\n",
              "    <tr style=\"text-align: right;\">\n",
              "      <th></th>\n",
              "      <th>SNo</th>\n",
              "      <th>High</th>\n",
              "      <th>Low</th>\n",
              "      <th>Open</th>\n",
              "      <th>Close</th>\n",
              "      <th>Volume</th>\n",
              "      <th>Marketcap</th>\n",
              "    </tr>\n",
              "  </thead>\n",
              "  <tbody>\n",
              "    <tr>\n",
              "      <th>count</th>\n",
              "      <td>2031.000000</td>\n",
              "      <td>2031.000000</td>\n",
              "      <td>2031.000000</td>\n",
              "      <td>2031.000000</td>\n",
              "      <td>2031.000000</td>\n",
              "      <td>2.031000e+03</td>\n",
              "      <td>2.031000e+03</td>\n",
              "    </tr>\n",
              "    <tr>\n",
              "      <th>mean</th>\n",
              "      <td>1016.000000</td>\n",
              "      <td>267.068034</td>\n",
              "      <td>246.986450</td>\n",
              "      <td>257.490557</td>\n",
              "      <td>258.142275</td>\n",
              "      <td>5.429599e+09</td>\n",
              "      <td>2.698656e+10</td>\n",
              "    </tr>\n",
              "    <tr>\n",
              "      <th>std</th>\n",
              "      <td>586.443518</td>\n",
              "      <td>322.096221</td>\n",
              "      <td>292.253460</td>\n",
              "      <td>308.347903</td>\n",
              "      <td>309.321155</td>\n",
              "      <td>8.100359e+09</td>\n",
              "      <td>3.347336e+10</td>\n",
              "    </tr>\n",
              "    <tr>\n",
              "      <th>min</th>\n",
              "      <td>1.000000</td>\n",
              "      <td>0.482988</td>\n",
              "      <td>0.420897</td>\n",
              "      <td>0.431589</td>\n",
              "      <td>0.434829</td>\n",
              "      <td>1.021280e+05</td>\n",
              "      <td>3.221363e+07</td>\n",
              "    </tr>\n",
              "    <tr>\n",
              "      <th>25%</th>\n",
              "      <td>508.500000</td>\n",
              "      <td>13.221850</td>\n",
              "      <td>12.515050</td>\n",
              "      <td>12.858200</td>\n",
              "      <td>12.866100</td>\n",
              "      <td>2.848855e+07</td>\n",
              "      <td>1.086243e+09</td>\n",
              "    </tr>\n",
              "    <tr>\n",
              "      <th>50%</th>\n",
              "      <td>1016.000000</td>\n",
              "      <td>189.088865</td>\n",
              "      <td>180.317159</td>\n",
              "      <td>184.943356</td>\n",
              "      <td>185.028722</td>\n",
              "      <td>1.844270e+09</td>\n",
              "      <td>1.972963e+10</td>\n",
              "    </tr>\n",
              "    <tr>\n",
              "      <th>75%</th>\n",
              "      <td>1523.500000</td>\n",
              "      <td>342.238919</td>\n",
              "      <td>317.625992</td>\n",
              "      <td>332.716492</td>\n",
              "      <td>333.370499</td>\n",
              "      <td>7.944177e+09</td>\n",
              "      <td>3.280357e+10</td>\n",
              "    </tr>\n",
              "    <tr>\n",
              "      <th>max</th>\n",
              "      <td>2031.000000</td>\n",
              "      <td>2036.286493</td>\n",
              "      <td>1896.684508</td>\n",
              "      <td>1959.902977</td>\n",
              "      <td>1960.164744</td>\n",
              "      <td>6.073363e+10</td>\n",
              "      <td>2.249103e+11</td>\n",
              "    </tr>\n",
              "  </tbody>\n",
              "</table>\n",
              "</div>"
            ],
            "text/plain": [
              "               SNo         High  ...        Volume     Marketcap\n",
              "count  2031.000000  2031.000000  ...  2.031000e+03  2.031000e+03\n",
              "mean   1016.000000   267.068034  ...  5.429599e+09  2.698656e+10\n",
              "std     586.443518   322.096221  ...  8.100359e+09  3.347336e+10\n",
              "min       1.000000     0.482988  ...  1.021280e+05  3.221363e+07\n",
              "25%     508.500000    13.221850  ...  2.848855e+07  1.086243e+09\n",
              "50%    1016.000000   189.088865  ...  1.844270e+09  1.972963e+10\n",
              "75%    1523.500000   342.238919  ...  7.944177e+09  3.280357e+10\n",
              "max    2031.000000  2036.286493  ...  6.073363e+10  2.249103e+11\n",
              "\n",
              "[8 rows x 7 columns]"
            ]
          },
          "metadata": {
            "tags": []
          },
          "execution_count": 23
        }
      ]
    },
    {
      "cell_type": "code",
      "metadata": {
        "colab": {
          "base_uri": "https://localhost:8080/"
        },
        "id": "hGVWcGcJyNrL",
        "outputId": "a38a4070-9814-4c33-8027-ecfdb8ab0504"
      },
      "source": [
        "data.shape #to check the shape of the data for bitcoin "
      ],
      "execution_count": 17,
      "outputs": [
        {
          "output_type": "execute_result",
          "data": {
            "text/plain": [
              "(2862, 10)"
            ]
          },
          "metadata": {
            "tags": []
          },
          "execution_count": 17
        }
      ]
    },
    {
      "cell_type": "code",
      "metadata": {
        "colab": {
          "base_uri": "https://localhost:8080/"
        },
        "id": "OK9i6ZJ8zu9a",
        "outputId": "11581644-322a-486e-ee08-676d30fb9ea2"
      },
      "source": [
        "data.columns"
      ],
      "execution_count": 24,
      "outputs": [
        {
          "output_type": "execute_result",
          "data": {
            "text/plain": [
              "Index(['SNo', 'Name', 'Symbol', 'Date', 'High', 'Low', 'Open', 'Close',\n",
              "       'Volume', 'Marketcap'],\n",
              "      dtype='object')"
            ]
          },
          "metadata": {
            "tags": []
          },
          "execution_count": 24
        }
      ]
    },
    {
      "cell_type": "code",
      "metadata": {
        "id": "icXeUiQB8RV7",
        "outputId": "9299a676-6f60-4320-f157-58b462ce5de4",
        "colab": {
          "base_uri": "https://localhost:8080/"
        }
      },
      "source": [
        "data.nunique() #displays the unique values "
      ],
      "execution_count": 32,
      "outputs": [
        {
          "output_type": "execute_result",
          "data": {
            "text/plain": [
              "SNo          2862\n",
              "Name            1\n",
              "Symbol          1\n",
              "Date         2862\n",
              "High         2852\n",
              "Low          2856\n",
              "Open         2855\n",
              "Close        2849\n",
              "Volume       2621\n",
              "Marketcap    2861\n",
              "dtype: int64"
            ]
          },
          "metadata": {
            "tags": []
          },
          "execution_count": 32
        }
      ]
    },
    {
      "cell_type": "code",
      "metadata": {
        "id": "L4U45Kzr8sBa",
        "outputId": "6fb8e673-081a-4d10-90fd-3a4adacd4435",
        "colab": {
          "base_uri": "https://localhost:8080/"
        }
      },
      "source": [
        "data['Marketcap'].unique()  #looking for specific unique value"
      ],
      "execution_count": 35,
      "outputs": [
        {
          "output_type": "execute_result",
          "data": {
            "text/plain": [
              "array([1.60376886e+09, 1.54281312e+09, 1.29895459e+09, ...,\n",
              "       8.77766126e+11, 8.63752275e+11, 8.60978135e+11])"
            ]
          },
          "metadata": {
            "tags": []
          },
          "execution_count": 35
        }
      ]
    },
    {
      "cell_type": "code",
      "metadata": {
        "id": "mCzfktI_9NNx"
      },
      "source": [
        "#cleaning the data "
      ],
      "execution_count": 36,
      "outputs": []
    },
    {
      "cell_type": "code",
      "metadata": {
        "id": "TLdkpPhh9axP",
        "outputId": "34aa3938-216c-4f96-b7aa-3e9278e89cbf",
        "colab": {
          "base_uri": "https://localhost:8080/"
        }
      },
      "source": [
        "data.isnull().sum() #checking null values in the dataset "
      ],
      "execution_count": 37,
      "outputs": [
        {
          "output_type": "execute_result",
          "data": {
            "text/plain": [
              "SNo          0\n",
              "Name         0\n",
              "Symbol       0\n",
              "Date         0\n",
              "High         0\n",
              "Low          0\n",
              "Open         0\n",
              "Close        0\n",
              "Volume       0\n",
              "Marketcap    0\n",
              "dtype: int64"
            ]
          },
          "metadata": {
            "tags": []
          },
          "execution_count": 37
        }
      ]
    },
    {
      "cell_type": "code",
      "metadata": {
        "id": "0quhUZJ49lu_"
      },
      "source": [
        ""
      ],
      "execution_count": null,
      "outputs": []
    }
  ]
}