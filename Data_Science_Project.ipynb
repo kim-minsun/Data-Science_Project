{
  "nbformat": 4,
  "nbformat_minor": 0,
  "metadata": {
    "colab": {
      "name": "Data-Science-Project.ipynb",
      "provenance": [],
      "include_colab_link": true
    },
    "kernelspec": {
      "name": "python3",
      "display_name": "Python 3"
    },
    "language_info": {
      "name": "python"
    }
  },
  "cells": [
    {
      "cell_type": "markdown",
      "metadata": {
        "id": "view-in-github",
        "colab_type": "text"
      },
      "source": [
        "<a href=\"https://colab.research.google.com/github/kim-minsun/Data-Science_Project/blob/Zac/Data_Science_Project.ipynb\" target=\"_parent\"><img src=\"https://colab.research.google.com/assets/colab-badge.svg\" alt=\"Open In Colab\"/></a>"
      ]
    },
    {
      "cell_type": "code",
      "metadata": {
        "id": "HfkAT0BV8ngy"
      },
      "source": [
        "import numpy as np\n",
        "import matplotlib.pyplot as plt\n",
        "import pandas as pd\n",
        "import pandas_datareader as web\n",
        "import datetime as dt"
      ],
      "execution_count": 4,
      "outputs": []
    },
    {
      "cell_type": "code",
      "metadata": {
        "id": "q2wejlLd9DeC"
      },
      "source": [
        "from sklearn.preprocessing import MinMaxScaler\n",
        "from tensorflow.keras.layers import Dense, Dropout, LSTM\n",
        "from tensorflow.keras.models import Sequential"
      ],
      "execution_count": 5,
      "outputs": []
    },
    {
      "cell_type": "code",
      "metadata": {
        "id": "27g_VsDI9G5Z"
      },
      "source": [
        "crypto = 'BTC'\n",
        "currency = 'INR'\n",
        "\n",
        "start = dt.datetime(2016,1,1)\n",
        "end = dt.datetime.now()\n",
        "\n",
        "data = web.DataReader(f\"{crypto}-{currency}\", \"yahoo\", start, end)"
      ],
      "execution_count": 6,
      "outputs": []
    },
    {
      "cell_type": "code",
      "metadata": {
        "id": "JNrcBwvT9OoX"
      },
      "source": [
        "data.index = pd.to_datetime(data.index)"
      ],
      "execution_count": 7,
      "outputs": []
    },
    {
      "cell_type": "code",
      "metadata": {
        "id": "UTKaLESl9QRQ",
        "colab": {
          "base_uri": "https://localhost:8080/",
          "height": 455
        },
        "outputId": "4d0973c9-7f7e-431a-ce77-93b21048924c"
      },
      "source": [
        "data"
      ],
      "execution_count": 8,
      "outputs": [
        {
          "output_type": "execute_result",
          "data": {
            "text/html": [
              "<div>\n",
              "<style scoped>\n",
              "    .dataframe tbody tr th:only-of-type {\n",
              "        vertical-align: middle;\n",
              "    }\n",
              "\n",
              "    .dataframe tbody tr th {\n",
              "        vertical-align: top;\n",
              "    }\n",
              "\n",
              "    .dataframe thead th {\n",
              "        text-align: right;\n",
              "    }\n",
              "</style>\n",
              "<table border=\"1\" class=\"dataframe\">\n",
              "  <thead>\n",
              "    <tr style=\"text-align: right;\">\n",
              "      <th></th>\n",
              "      <th>High</th>\n",
              "      <th>Low</th>\n",
              "      <th>Open</th>\n",
              "      <th>Close</th>\n",
              "      <th>Volume</th>\n",
              "      <th>Adj Close</th>\n",
              "    </tr>\n",
              "    <tr>\n",
              "      <th>Date</th>\n",
              "      <th></th>\n",
              "      <th></th>\n",
              "      <th></th>\n",
              "      <th></th>\n",
              "      <th></th>\n",
              "      <th></th>\n",
              "    </tr>\n",
              "  </thead>\n",
              "  <tbody>\n",
              "    <tr>\n",
              "      <th>2019-09-18</th>\n",
              "      <td>7.314907e+05</td>\n",
              "      <td>7.254785e+05</td>\n",
              "      <td>7.349759e+05</td>\n",
              "      <td>7.259610e+05</td>\n",
              "      <td>1.151007e+12</td>\n",
              "      <td>7.259610e+05</td>\n",
              "    </tr>\n",
              "    <tr>\n",
              "      <th>2019-09-19</th>\n",
              "      <td>7.350398e+05</td>\n",
              "      <td>7.033428e+05</td>\n",
              "      <td>7.261210e+05</td>\n",
              "      <td>7.329512e+05</td>\n",
              "      <td>1.423414e+12</td>\n",
              "      <td>7.329512e+05</td>\n",
              "    </tr>\n",
              "    <tr>\n",
              "      <th>2019-09-20</th>\n",
              "      <td>7.324158e+05</td>\n",
              "      <td>7.214724e+05</td>\n",
              "      <td>7.329443e+05</td>\n",
              "      <td>7.249939e+05</td>\n",
              "      <td>1.049163e+12</td>\n",
              "      <td>7.249939e+05</td>\n",
              "    </tr>\n",
              "    <tr>\n",
              "      <th>2019-09-21</th>\n",
              "      <td>7.254537e+05</td>\n",
              "      <td>7.121104e+05</td>\n",
              "      <td>7.251369e+05</td>\n",
              "      <td>7.134639e+05</td>\n",
              "      <td>9.559595e+11</td>\n",
              "      <td>7.134639e+05</td>\n",
              "    </tr>\n",
              "    <tr>\n",
              "      <th>2019-09-22</th>\n",
              "      <td>7.173071e+05</td>\n",
              "      <td>7.064909e+05</td>\n",
              "      <td>7.137771e+05</td>\n",
              "      <td>7.170186e+05</td>\n",
              "      <td>9.398239e+11</td>\n",
              "      <td>7.170186e+05</td>\n",
              "    </tr>\n",
              "    <tr>\n",
              "      <th>...</th>\n",
              "      <td>...</td>\n",
              "      <td>...</td>\n",
              "      <td>...</td>\n",
              "      <td>...</td>\n",
              "      <td>...</td>\n",
              "      <td>...</td>\n",
              "    </tr>\n",
              "    <tr>\n",
              "      <th>2021-06-25</th>\n",
              "      <td>2.631060e+06</td>\n",
              "      <td>2.325729e+06</td>\n",
              "      <td>2.571378e+06</td>\n",
              "      <td>2.347012e+06</td>\n",
              "      <td>2.984483e+12</td>\n",
              "      <td>2.347012e+06</td>\n",
              "    </tr>\n",
              "    <tr>\n",
              "      <th>2021-06-26</th>\n",
              "      <td>2.421182e+06</td>\n",
              "      <td>2.239202e+06</td>\n",
              "      <td>2.343814e+06</td>\n",
              "      <td>2.387702e+06</td>\n",
              "      <td>2.862412e+12</td>\n",
              "      <td>2.387702e+06</td>\n",
              "    </tr>\n",
              "    <tr>\n",
              "      <th>2021-06-27</th>\n",
              "      <td>2.572195e+06</td>\n",
              "      <td>2.379206e+06</td>\n",
              "      <td>2.395213e+06</td>\n",
              "      <td>2.571714e+06</td>\n",
              "      <td>2.635691e+12</td>\n",
              "      <td>2.571714e+06</td>\n",
              "    </tr>\n",
              "    <tr>\n",
              "      <th>2021-06-28</th>\n",
              "      <td>2.613853e+06</td>\n",
              "      <td>2.519085e+06</td>\n",
              "      <td>2.573901e+06</td>\n",
              "      <td>2.557977e+06</td>\n",
              "      <td>2.517728e+12</td>\n",
              "      <td>2.557977e+06</td>\n",
              "    </tr>\n",
              "    <tr>\n",
              "      <th>2021-06-29</th>\n",
              "      <td>2.700199e+06</td>\n",
              "      <td>2.543441e+06</td>\n",
              "      <td>2.559074e+06</td>\n",
              "      <td>2.700199e+06</td>\n",
              "      <td>2.754098e+12</td>\n",
              "      <td>2.700199e+06</td>\n",
              "    </tr>\n",
              "  </tbody>\n",
              "</table>\n",
              "<p>647 rows × 6 columns</p>\n",
              "</div>"
            ],
            "text/plain": [
              "                    High           Low  ...        Volume     Adj Close\n",
              "Date                                    ...                            \n",
              "2019-09-18  7.314907e+05  7.254785e+05  ...  1.151007e+12  7.259610e+05\n",
              "2019-09-19  7.350398e+05  7.033428e+05  ...  1.423414e+12  7.329512e+05\n",
              "2019-09-20  7.324158e+05  7.214724e+05  ...  1.049163e+12  7.249939e+05\n",
              "2019-09-21  7.254537e+05  7.121104e+05  ...  9.559595e+11  7.134639e+05\n",
              "2019-09-22  7.173071e+05  7.064909e+05  ...  9.398239e+11  7.170186e+05\n",
              "...                  ...           ...  ...           ...           ...\n",
              "2021-06-25  2.631060e+06  2.325729e+06  ...  2.984483e+12  2.347012e+06\n",
              "2021-06-26  2.421182e+06  2.239202e+06  ...  2.862412e+12  2.387702e+06\n",
              "2021-06-27  2.572195e+06  2.379206e+06  ...  2.635691e+12  2.571714e+06\n",
              "2021-06-28  2.613853e+06  2.519085e+06  ...  2.517728e+12  2.557977e+06\n",
              "2021-06-29  2.700199e+06  2.543441e+06  ...  2.754098e+12  2.700199e+06\n",
              "\n",
              "[647 rows x 6 columns]"
            ]
          },
          "metadata": {
            "tags": []
          },
          "execution_count": 8
        }
      ]
    },
    {
      "cell_type": "code",
      "metadata": {
        "id": "Fuma5z0E9R3n"
      },
      "source": [
        "#Prepare Data\n",
        "scaler = MinMaxScaler(feature_range=(0,1))\n",
        "scaled_data = scaler.fit_transform(data['Close'].values.reshape(-1,1))"
      ],
      "execution_count": 9,
      "outputs": []
    },
    {
      "cell_type": "code",
      "metadata": {
        "id": "9Mqbo1rt9Uon"
      },
      "source": [
        "pred_days = 30 # no. of days you're considering for the prediction"
      ],
      "execution_count": 10,
      "outputs": []
    },
    {
      "cell_type": "code",
      "metadata": {
        "id": "qQ_H-iCP9WuE"
      },
      "source": [
        "x_train, y_train = [], []\n",
        "\n",
        "for x in range(pred_days, len(scaled_data)):\n",
        "  x_train.append(scaled_data[x-pred_days:x, 0])\n",
        "  y_train.append(scaled_data[x, 0])"
      ],
      "execution_count": 11,
      "outputs": []
    },
    {
      "cell_type": "code",
      "metadata": {
        "id": "COCjg0p79ZJr"
      },
      "source": [
        "x_train, y_train = np.array(x_train), np.array(y_train)\n",
        "x_train = np.reshape(x_train, (x_train.shape[0], x_train.shape[1], 1))"
      ],
      "execution_count": 12,
      "outputs": []
    },
    {
      "cell_type": "code",
      "metadata": {
        "id": "DRKMQE2V9a_A",
        "colab": {
          "base_uri": "https://localhost:8080/"
        },
        "outputId": "7c7e9b95-0228-4d8f-98c0-2cd19621fafa"
      },
      "source": [
        "model = Sequential()\n",
        "\n",
        "model.add(LSTM(units=50, return_sequences=True, input_shape=(x_train.shape[1], 1)))\n",
        "model.add(Dropout(0.2))\n",
        "model.add(LSTM(units=50, return_sequences=True))\n",
        "model.add(Dropout(0.2))\n",
        "model.add(LSTM(units=50))\n",
        "model.add(Dropout(0.2))\n",
        "model.add(Dense(1))\n",
        "\n",
        "model.compile(optimizer='adam', loss='mean_squared_error')\n",
        "model.fit(x_train, y_train, epochs=30, batch_size=32)"
      ],
      "execution_count": 13,
      "outputs": [
        {
          "output_type": "stream",
          "text": [
            "Epoch 1/30\n",
            "20/20 [==============================] - 5s 31ms/step - loss: 0.0330\n",
            "Epoch 2/30\n",
            "20/20 [==============================] - 1s 31ms/step - loss: 0.0081\n",
            "Epoch 3/30\n",
            "20/20 [==============================] - 1s 33ms/step - loss: 0.0055\n",
            "Epoch 4/30\n",
            "20/20 [==============================] - 1s 32ms/step - loss: 0.0058\n",
            "Epoch 5/30\n",
            "20/20 [==============================] - 1s 32ms/step - loss: 0.0049\n",
            "Epoch 6/30\n",
            "20/20 [==============================] - 1s 31ms/step - loss: 0.0049\n",
            "Epoch 7/30\n",
            "20/20 [==============================] - 1s 30ms/step - loss: 0.0044\n",
            "Epoch 8/30\n",
            "20/20 [==============================] - 1s 31ms/step - loss: 0.0040\n",
            "Epoch 9/30\n",
            "20/20 [==============================] - 1s 32ms/step - loss: 0.0042\n",
            "Epoch 10/30\n",
            "20/20 [==============================] - 1s 31ms/step - loss: 0.0042\n",
            "Epoch 11/30\n",
            "20/20 [==============================] - 1s 32ms/step - loss: 0.0036\n",
            "Epoch 12/30\n",
            "20/20 [==============================] - 1s 32ms/step - loss: 0.0036\n",
            "Epoch 13/30\n",
            "20/20 [==============================] - 1s 32ms/step - loss: 0.0035\n",
            "Epoch 14/30\n",
            "20/20 [==============================] - 1s 32ms/step - loss: 0.0035\n",
            "Epoch 15/30\n",
            "20/20 [==============================] - 1s 32ms/step - loss: 0.0039\n",
            "Epoch 16/30\n",
            "20/20 [==============================] - 1s 31ms/step - loss: 0.0030\n",
            "Epoch 17/30\n",
            "20/20 [==============================] - 1s 32ms/step - loss: 0.0033\n",
            "Epoch 18/30\n",
            "20/20 [==============================] - 1s 31ms/step - loss: 0.0039\n",
            "Epoch 19/30\n",
            "20/20 [==============================] - 1s 32ms/step - loss: 0.0040\n",
            "Epoch 20/30\n",
            "20/20 [==============================] - 1s 31ms/step - loss: 0.0035\n",
            "Epoch 21/30\n",
            "20/20 [==============================] - 1s 31ms/step - loss: 0.0027\n",
            "Epoch 22/30\n",
            "20/20 [==============================] - 1s 32ms/step - loss: 0.0029\n",
            "Epoch 23/30\n",
            "20/20 [==============================] - 1s 32ms/step - loss: 0.0025\n",
            "Epoch 24/30\n",
            "20/20 [==============================] - 1s 32ms/step - loss: 0.0025\n",
            "Epoch 25/30\n",
            "20/20 [==============================] - 1s 31ms/step - loss: 0.0027\n",
            "Epoch 26/30\n",
            "20/20 [==============================] - 1s 30ms/step - loss: 0.0032\n",
            "Epoch 27/30\n",
            "20/20 [==============================] - 1s 33ms/step - loss: 0.0023\n",
            "Epoch 28/30\n",
            "20/20 [==============================] - 1s 32ms/step - loss: 0.0034\n",
            "Epoch 29/30\n",
            "20/20 [==============================] - 1s 32ms/step - loss: 0.0040\n",
            "Epoch 30/30\n",
            "20/20 [==============================] - 1s 33ms/step - loss: 0.0034\n"
          ],
          "name": "stdout"
        },
        {
          "output_type": "execute_result",
          "data": {
            "text/plain": [
              "<tensorflow.python.keras.callbacks.History at 0x7f6d86ffc850>"
            ]
          },
          "metadata": {
            "tags": []
          },
          "execution_count": 13
        }
      ]
    },
    {
      "cell_type": "code",
      "metadata": {
        "id": "GwOA7dDV9kEx"
      },
      "source": [
        "test_start = dt.datetime(2021,1,1)\n",
        "test_end = dt.datetime.now()\n",
        "\n",
        "test_data = web.DataReader(f\"{crypto}-{currency}\", \"yahoo\", test_start, test_end)"
      ],
      "execution_count": 14,
      "outputs": []
    },
    {
      "cell_type": "code",
      "metadata": {
        "id": "lNhvGyw-9mOA"
      },
      "source": [
        "test_data.index = pd.to_datetime(test_data.index)"
      ],
      "execution_count": 15,
      "outputs": []
    },
    {
      "cell_type": "code",
      "metadata": {
        "id": "ZWuoJ15r9roH",
        "colab": {
          "base_uri": "https://localhost:8080/",
          "height": 455
        },
        "outputId": "1b71b6d5-57f1-419c-fe62-52f01f954646"
      },
      "source": [
        "test_data"
      ],
      "execution_count": 16,
      "outputs": [
        {
          "output_type": "execute_result",
          "data": {
            "text/html": [
              "<div>\n",
              "<style scoped>\n",
              "    .dataframe tbody tr th:only-of-type {\n",
              "        vertical-align: middle;\n",
              "    }\n",
              "\n",
              "    .dataframe tbody tr th {\n",
              "        vertical-align: top;\n",
              "    }\n",
              "\n",
              "    .dataframe thead th {\n",
              "        text-align: right;\n",
              "    }\n",
              "</style>\n",
              "<table border=\"1\" class=\"dataframe\">\n",
              "  <thead>\n",
              "    <tr style=\"text-align: right;\">\n",
              "      <th></th>\n",
              "      <th>High</th>\n",
              "      <th>Low</th>\n",
              "      <th>Open</th>\n",
              "      <th>Close</th>\n",
              "      <th>Volume</th>\n",
              "      <th>Adj Close</th>\n",
              "    </tr>\n",
              "    <tr>\n",
              "      <th>Date</th>\n",
              "      <th></th>\n",
              "      <th></th>\n",
              "      <th></th>\n",
              "      <th></th>\n",
              "      <th></th>\n",
              "      <th></th>\n",
              "    </tr>\n",
              "  </thead>\n",
              "  <tbody>\n",
              "    <tr>\n",
              "      <th>2021-01-01</th>\n",
              "      <td>2163227.25</td>\n",
              "      <td>2104315.00</td>\n",
              "      <td>2118227.00</td>\n",
              "      <td>2147022.75</td>\n",
              "      <td>2977069369481</td>\n",
              "      <td>2147022.75</td>\n",
              "    </tr>\n",
              "    <tr>\n",
              "      <th>2021-01-02</th>\n",
              "      <td>2423382.25</td>\n",
              "      <td>2126340.00</td>\n",
              "      <td>2147191.25</td>\n",
              "      <td>2348254.25</td>\n",
              "      <td>4960436300944</td>\n",
              "      <td>2348254.25</td>\n",
              "    </tr>\n",
              "    <tr>\n",
              "      <th>2021-01-03</th>\n",
              "      <td>2529617.25</td>\n",
              "      <td>2342776.00</td>\n",
              "      <td>2348410.75</td>\n",
              "      <td>2395940.25</td>\n",
              "      <td>5749407146511</td>\n",
              "      <td>2395940.25</td>\n",
              "    </tr>\n",
              "    <tr>\n",
              "      <th>2021-01-04</th>\n",
              "      <td>2437574.75</td>\n",
              "      <td>2097177.50</td>\n",
              "      <td>2398054.25</td>\n",
              "      <td>2336819.00</td>\n",
              "      <td>5932217878548</td>\n",
              "      <td>2336819.00</td>\n",
              "    </tr>\n",
              "    <tr>\n",
              "      <th>2021-01-05</th>\n",
              "      <td>2518591.25</td>\n",
              "      <td>2209558.75</td>\n",
              "      <td>2337193.75</td>\n",
              "      <td>2487166.50</td>\n",
              "      <td>4942319614003</td>\n",
              "      <td>2487166.50</td>\n",
              "    </tr>\n",
              "    <tr>\n",
              "      <th>...</th>\n",
              "      <td>...</td>\n",
              "      <td>...</td>\n",
              "      <td>...</td>\n",
              "      <td>...</td>\n",
              "      <td>...</td>\n",
              "      <td>...</td>\n",
              "    </tr>\n",
              "    <tr>\n",
              "      <th>2021-06-25</th>\n",
              "      <td>2631060.00</td>\n",
              "      <td>2325729.25</td>\n",
              "      <td>2571378.00</td>\n",
              "      <td>2347012.25</td>\n",
              "      <td>2984483364466</td>\n",
              "      <td>2347012.25</td>\n",
              "    </tr>\n",
              "    <tr>\n",
              "      <th>2021-06-26</th>\n",
              "      <td>2421181.75</td>\n",
              "      <td>2239202.50</td>\n",
              "      <td>2343813.75</td>\n",
              "      <td>2387702.00</td>\n",
              "      <td>2862412451710</td>\n",
              "      <td>2387702.00</td>\n",
              "    </tr>\n",
              "    <tr>\n",
              "      <th>2021-06-27</th>\n",
              "      <td>2572194.75</td>\n",
              "      <td>2379206.50</td>\n",
              "      <td>2395212.75</td>\n",
              "      <td>2571713.50</td>\n",
              "      <td>2635691316830</td>\n",
              "      <td>2571713.50</td>\n",
              "    </tr>\n",
              "    <tr>\n",
              "      <th>2021-06-28</th>\n",
              "      <td>2613853.00</td>\n",
              "      <td>2519085.25</td>\n",
              "      <td>2573901.25</td>\n",
              "      <td>2557977.00</td>\n",
              "      <td>2517728157059</td>\n",
              "      <td>2557977.00</td>\n",
              "    </tr>\n",
              "    <tr>\n",
              "      <th>2021-06-29</th>\n",
              "      <td>2700199.25</td>\n",
              "      <td>2543440.75</td>\n",
              "      <td>2559074.00</td>\n",
              "      <td>2700199.25</td>\n",
              "      <td>2754097709056</td>\n",
              "      <td>2700199.25</td>\n",
              "    </tr>\n",
              "  </tbody>\n",
              "</table>\n",
              "<p>180 rows × 6 columns</p>\n",
              "</div>"
            ],
            "text/plain": [
              "                  High         Low  ...         Volume   Adj Close\n",
              "Date                                ...                           \n",
              "2021-01-01  2163227.25  2104315.00  ...  2977069369481  2147022.75\n",
              "2021-01-02  2423382.25  2126340.00  ...  4960436300944  2348254.25\n",
              "2021-01-03  2529617.25  2342776.00  ...  5749407146511  2395940.25\n",
              "2021-01-04  2437574.75  2097177.50  ...  5932217878548  2336819.00\n",
              "2021-01-05  2518591.25  2209558.75  ...  4942319614003  2487166.50\n",
              "...                ...         ...  ...            ...         ...\n",
              "2021-06-25  2631060.00  2325729.25  ...  2984483364466  2347012.25\n",
              "2021-06-26  2421181.75  2239202.50  ...  2862412451710  2387702.00\n",
              "2021-06-27  2572194.75  2379206.50  ...  2635691316830  2571713.50\n",
              "2021-06-28  2613853.00  2519085.25  ...  2517728157059  2557977.00\n",
              "2021-06-29  2700199.25  2543440.75  ...  2754097709056  2700199.25\n",
              "\n",
              "[180 rows x 6 columns]"
            ]
          },
          "metadata": {
            "tags": []
          },
          "execution_count": 16
        }
      ]
    },
    {
      "cell_type": "code",
      "metadata": {
        "id": "rI2eNuCi9wNv"
      },
      "source": [
        "actual_prices = test_data['Close']"
      ],
      "execution_count": 17,
      "outputs": []
    },
    {
      "cell_type": "code",
      "metadata": {
        "id": "Z81G_e5_-kdT",
        "colab": {
          "base_uri": "https://localhost:8080/"
        },
        "outputId": "4dfceeff-ac6f-4638-e8df-c8313d9b1edf"
      },
      "source": [
        "actual_prices = np.array(actual_prices)\n",
        "actual_prices"
      ],
      "execution_count": 18,
      "outputs": [
        {
          "output_type": "execute_result",
          "data": {
            "text/plain": [
              "array([2147022.75, 2348254.25, 2395940.25, 2336819.  , 2487166.5 ,\n",
              "       2693424.25, 2891625.75, 2993704.25, 2953814.25, 2813688.5 ,\n",
              "       2614815.75, 2481337.5 , 2730439.75, 2864221.75, 2694199.  ,\n",
              "       2645725.5 , 2617995.75, 2680935.25, 2640030.25, 2591756.25,\n",
              "       2248893.5 , 2409401.  , 2340918.75, 2356991.  , 2361793.5 ,\n",
              "       2374998.5 , 2222773.5 , 2308492.25, 2501913.5 , 2498482.75,\n",
              "       2414384.5 , 2452240.  , 2589344.75, 2730151.  , 2695098.25,\n",
              "       2776459.25, 2858106.25, 2831977.75, 3369115.  , 3386420.25,\n",
              "       3270382.75, 3483475.5 , 3448422.25, 3419439.  , 3536634.  ,\n",
              "       3482678.5 , 3588405.  , 3796127.  , 3752245.  , 4054759.5 ,\n",
              "       4071170.25, 4175234.25, 3927762.  , 3534027.  , 3598459.75,\n",
              "       3444981.25, 3410439.5 , 3399303.75, 3326373.5 , 3638530.75,\n",
              "       3545103.5 , 3689294.5 , 3551448.  , 3580544.25, 3579452.  ,\n",
              "       3747472.  , 3831271.25, 3989882.75, 4072166.  , 4198921.  ,\n",
              "       4167426.5 , 4451714.  , 4310706.5 , 4054141.25, 4119249.75,\n",
              "       4272263.5 , 4204622.  , 4226751.  , 4224360.  , 4165414.75,\n",
              "       3946860.5 , 3974729.  , 3833831.5 , 3754396.75, 3994554.75,\n",
              "       4055135.  , 4053488.75, 4200873.5 , 4327242.  , 4313079.  ,\n",
              "       4330986.5 , 4357392.5 , 4226751.5 , 4311483.  , 4327746.5 ,\n",
              "       4276035.5 , 4170133.5 , 4347744.  , 4352631.5 , 4468330.5 ,\n",
              "       4499101.5 , 4491485.5 , 4774301.  , 4734890.5 , 4731307.5 ,\n",
              "       4591076.5 , 4524215.5 , 4191673.  , 4172547.  , 4260859.5 ,\n",
              "       4066144.75, 3886924.75, 3825294.75, 3747273.5 , 3668868.  ,\n",
              "       4041646.  , 4104108.5 , 4074136.75, 3968757.5 , 4279028.5 ,\n",
              "       4284798.5 , 4196083.  , 4223535.  , 3934903.  , 4237814.  ,\n",
              "       4151654.75, 4203679.5 , 4310081.5 , 4267878.5 , 4105709.25,\n",
              "       4160718.  , 3621502.  , 3651423.  , 3655200.5 , 3426544.5 ,\n",
              "       3404260.75, 3189991.25, 3137897.75, 2709442.75, 2978043.25,\n",
              "       2720086.5 , 2736998.5 , 2535125.  , 2819221.5 , 2795880.  ,\n",
              "       2855617.5 , 2793746.75, 2584281.75, 2505985.25, 2582873.75,\n",
              "       2706163.5 , 2672689.5 , 2741540.  , 2863975.  , 2689965.5 ,\n",
              "       2592088.  , 2614724.  , 2443543.25, 2442683.75, 2725654.  ,\n",
              "       2679750.5 , 2734065.25, 2603574.75, 2863208.75, 2943230.5 ,\n",
              "       2963664.75, 2830947.25, 2825630.25, 2653413.  , 2640706.5 ,\n",
              "       2646819.5 , 2348365.75, 2416225.25, 2503838.25, 2571625.25,\n",
              "       2347012.25, 2387702.  , 2571713.5 , 2557977.  , 2700199.25])"
            ]
          },
          "metadata": {
            "tags": []
          },
          "execution_count": 18
        }
      ]
    },
    {
      "cell_type": "code",
      "metadata": {
        "id": "Gg3FByGu-sw6"
      },
      "source": [
        "total_dataset = pd.concat((data['Close'], test_data['Close']), axis=0)"
      ],
      "execution_count": 19,
      "outputs": []
    },
    {
      "cell_type": "code",
      "metadata": {
        "id": "kZfHWWrI-vze"
      },
      "source": [
        "total_dataset.index = pd.to_datetime(total_dataset.index)"
      ],
      "execution_count": 20,
      "outputs": []
    },
    {
      "cell_type": "code",
      "metadata": {
        "id": "F5t82amL-yzB"
      },
      "source": [
        "model_inputs = total_dataset[len(total_dataset)-len(test_data)-pred_days:].values\n",
        "model_inputs = model_inputs.reshape(-1, 1)\n",
        "model_inputs = scaler.fit_transform(model_inputs)"
      ],
      "execution_count": 21,
      "outputs": []
    },
    {
      "cell_type": "code",
      "metadata": {
        "id": "js9ELsx7-0LZ"
      },
      "source": [
        "x_test = []\n",
        "\n",
        "for x in range(pred_days, len(model_inputs)):\n",
        "  x_test.append(model_inputs[x-pred_days:x, 0])\n",
        "\n",
        "x_test = np.array(x_test)\n",
        "x_test = np.reshape(x_test, (x_test.shape[0], x_test.shape[1], 1))"
      ],
      "execution_count": 22,
      "outputs": []
    },
    {
      "cell_type": "code",
      "metadata": {
        "id": "y38Zsjci-14U"
      },
      "source": [
        "prediction_prices = model.predict(x_test)\n",
        "prediction_prices = scaler.inverse_transform(prediction_prices)"
      ],
      "execution_count": 23,
      "outputs": []
    },
    {
      "cell_type": "code",
      "metadata": {
        "id": "t0ab0Hdy-40d",
        "colab": {
          "base_uri": "https://localhost:8080/",
          "height": 295
        },
        "outputId": "d31bbcef-cc48-4c3f-c692-52b1de0747d9"
      },
      "source": [
        "plt.plot(actual_prices, color='red', label='Actual Prices')\n",
        "plt.plot(prediction_prices, color='green', label='Prediction Prices')\n",
        "plt.title(f\"{crypto}-{currency} Price Predictor\")\n",
        "plt.xlabel(\"Time\")\n",
        "plt.ylabel(\"Price\")\n",
        "plt.legend(loc=\"upper left\")\n",
        "plt.show()"
      ],
      "execution_count": 24,
      "outputs": [
        {
          "output_type": "display_data",
          "data": {
            "image/png": "[encoded data removed]",
            "text/plain": [
              "<Figure size 432x288 with 1 Axes>"
            ]
          },
          "metadata": {
            "tags": [],
            "needs_background": "light"
          }
        }
      ]
    }
  ]
}