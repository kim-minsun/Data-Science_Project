{
  "nbformat": 4,
  "nbformat_minor": 0,
  "metadata": {
    "colab": {
      "name": "Data-Science-Project.ipynb",
      "provenance": [],
      "include_colab_link": true
    },
    "kernelspec": {
      "name": "python3",
      "display_name": "Python 3"
    },
    "language_info": {
      "name": "python"
    }
  },
  "cells": [
    {
      "cell_type": "markdown",
      "metadata": {
        "id": "view-in-github",
        "colab_type": "text"
      },
      "source": [
        "<a href=\"https://colab.research.google.com/github/kim-minsun/Data-Science_Project/blob/Kim/Data_Science_Project.ipynb\" target=\"_parent\"><img src=\"https://colab.research.google.com/assets/colab-badge.svg\" alt=\"Open In Colab\"/></a>"
      ]
    },
    {
      "cell_type": "code",
      "metadata": {
        "id": "vf-x-pA5a5gs"
      },
      "source": [
        "import numpy as np\n",
        "import matplotlib.pyplot as plt\n",
        "import pandas as pd\n",
        "import pandas_datareader as web\n",
        "import datetime as dt\n",
        "import seaborn as sns"
      ],
      "execution_count": 54,
      "outputs": []
    },
    {
      "cell_type": "code",
      "metadata": {
        "id": "ofr1tDR2srjN"
      },
      "source": [
        "from sklearn.preprocessing import MinMaxScaler\n",
        "from tensorflow.keras.layers import Dense, Dropout, LSTM\n",
        "from tensorflow.keras.models import Sequential"
      ],
      "execution_count": 55,
      "outputs": []
    },
    {
      "cell_type": "code",
      "metadata": {
        "id": "DRuGM6XAwGjn"
      },
      "source": [
        "data = pd.read_csv(\"coin_Bitcoin.csv\")"
      ],
      "execution_count": 56,
      "outputs": []
    },
    {
      "cell_type": "code",
      "metadata": {
        "colab": {
          "base_uri": "https://localhost:8080/",
          "height": 204
        },
        "id": "pKM3VTD3xXuh",
        "outputId": "761105c1-25e4-4ed9-e843-e249eb7c3ce4"
      },
      "source": [
        "#understanding the data\n",
        "\n",
        "data.head()"
      ],
      "execution_count": 57,
      "outputs": [
        {
          "output_type": "execute_result",
          "data": {
            "text/html": [
              "<div>\n",
              "<style scoped>\n",
              "    .dataframe tbody tr th:only-of-type {\n",
              "        vertical-align: middle;\n",
              "    }\n",
              "\n",
              "    .dataframe tbody tr th {\n",
              "        vertical-align: top;\n",
              "    }\n",
              "\n",
              "    .dataframe thead th {\n",
              "        text-align: right;\n",
              "    }\n",
              "</style>\n",
              "<table border=\"1\" class=\"dataframe\">\n",
              "  <thead>\n",
              "    <tr style=\"text-align: right;\">\n",
              "      <th></th>\n",
              "      <th>SNo</th>\n",
              "      <th>Name</th>\n",
              "      <th>Symbol</th>\n",
              "      <th>Date</th>\n",
              "      <th>High</th>\n",
              "      <th>Low</th>\n",
              "      <th>Open</th>\n",
              "      <th>Close</th>\n",
              "      <th>Volume</th>\n",
              "      <th>Marketcap</th>\n",
              "    </tr>\n",
              "  </thead>\n",
              "  <tbody>\n",
              "    <tr>\n",
              "      <th>0</th>\n",
              "      <td>1</td>\n",
              "      <td>Bitcoin</td>\n",
              "      <td>BTC</td>\n",
              "      <td>2013-04-29 23:59:59</td>\n",
              "      <td>147.488007</td>\n",
              "      <td>134.000000</td>\n",
              "      <td>134.444000</td>\n",
              "      <td>144.539993</td>\n",
              "      <td>0.0</td>\n",
              "      <td>1.603769e+09</td>\n",
              "    </tr>\n",
              "    <tr>\n",
              "      <th>1</th>\n",
              "      <td>2</td>\n",
              "      <td>Bitcoin</td>\n",
              "      <td>BTC</td>\n",
              "      <td>2013-04-30 23:59:59</td>\n",
              "      <td>146.929993</td>\n",
              "      <td>134.050003</td>\n",
              "      <td>144.000000</td>\n",
              "      <td>139.000000</td>\n",
              "      <td>0.0</td>\n",
              "      <td>1.542813e+09</td>\n",
              "    </tr>\n",
              "    <tr>\n",
              "      <th>2</th>\n",
              "      <td>3</td>\n",
              "      <td>Bitcoin</td>\n",
              "      <td>BTC</td>\n",
              "      <td>2013-05-01 23:59:59</td>\n",
              "      <td>139.889999</td>\n",
              "      <td>107.720001</td>\n",
              "      <td>139.000000</td>\n",
              "      <td>116.989998</td>\n",
              "      <td>0.0</td>\n",
              "      <td>1.298955e+09</td>\n",
              "    </tr>\n",
              "    <tr>\n",
              "      <th>3</th>\n",
              "      <td>4</td>\n",
              "      <td>Bitcoin</td>\n",
              "      <td>BTC</td>\n",
              "      <td>2013-05-02 23:59:59</td>\n",
              "      <td>125.599998</td>\n",
              "      <td>92.281898</td>\n",
              "      <td>116.379997</td>\n",
              "      <td>105.209999</td>\n",
              "      <td>0.0</td>\n",
              "      <td>1.168517e+09</td>\n",
              "    </tr>\n",
              "    <tr>\n",
              "      <th>4</th>\n",
              "      <td>5</td>\n",
              "      <td>Bitcoin</td>\n",
              "      <td>BTC</td>\n",
              "      <td>2013-05-03 23:59:59</td>\n",
              "      <td>108.127998</td>\n",
              "      <td>79.099998</td>\n",
              "      <td>106.250000</td>\n",
              "      <td>97.750000</td>\n",
              "      <td>0.0</td>\n",
              "      <td>1.085995e+09</td>\n",
              "    </tr>\n",
              "  </tbody>\n",
              "</table>\n",
              "</div>"
            ],
            "text/plain": [
              "   SNo     Name Symbol  ...       Close  Volume     Marketcap\n",
              "0    1  Bitcoin    BTC  ...  144.539993     0.0  1.603769e+09\n",
              "1    2  Bitcoin    BTC  ...  139.000000     0.0  1.542813e+09\n",
              "2    3  Bitcoin    BTC  ...  116.989998     0.0  1.298955e+09\n",
              "3    4  Bitcoin    BTC  ...  105.209999     0.0  1.168517e+09\n",
              "4    5  Bitcoin    BTC  ...   97.750000     0.0  1.085995e+09\n",
              "\n",
              "[5 rows x 10 columns]"
            ]
          },
          "metadata": {
            "tags": []
          },
          "execution_count": 57
        }
      ]
    },
    {
      "cell_type": "code",
      "metadata": {
        "colab": {
          "base_uri": "https://localhost:8080/",
          "height": 204
        },
        "id": "ZAX3rD-hxiXe",
        "outputId": "ecb37d9c-4f54-41b8-b7c7-61656780febd"
      },
      "source": [
        "data.tail()"
      ],
      "execution_count": 58,
      "outputs": [
        {
          "output_type": "execute_result",
          "data": {
            "text/html": [
              "<div>\n",
              "<style scoped>\n",
              "    .dataframe tbody tr th:only-of-type {\n",
              "        vertical-align: middle;\n",
              "    }\n",
              "\n",
              "    .dataframe tbody tr th {\n",
              "        vertical-align: top;\n",
              "    }\n",
              "\n",
              "    .dataframe thead th {\n",
              "        text-align: right;\n",
              "    }\n",
              "</style>\n",
              "<table border=\"1\" class=\"dataframe\">\n",
              "  <thead>\n",
              "    <tr style=\"text-align: right;\">\n",
              "      <th></th>\n",
              "      <th>SNo</th>\n",
              "      <th>Name</th>\n",
              "      <th>Symbol</th>\n",
              "      <th>Date</th>\n",
              "      <th>High</th>\n",
              "      <th>Low</th>\n",
              "      <th>Open</th>\n",
              "      <th>Close</th>\n",
              "      <th>Volume</th>\n",
              "      <th>Marketcap</th>\n",
              "    </tr>\n",
              "  </thead>\n",
              "  <tbody>\n",
              "    <tr>\n",
              "      <th>2857</th>\n",
              "      <td>2858</td>\n",
              "      <td>Bitcoin</td>\n",
              "      <td>BTC</td>\n",
              "      <td>2021-02-23 23:59:59</td>\n",
              "      <td>54204.929756</td>\n",
              "      <td>45290.590268</td>\n",
              "      <td>54204.929756</td>\n",
              "      <td>48824.426869</td>\n",
              "      <td>1.061025e+11</td>\n",
              "      <td>9.099259e+11</td>\n",
              "    </tr>\n",
              "    <tr>\n",
              "      <th>2858</th>\n",
              "      <td>2859</td>\n",
              "      <td>Bitcoin</td>\n",
              "      <td>BTC</td>\n",
              "      <td>2021-02-24 23:59:59</td>\n",
              "      <td>51290.136695</td>\n",
              "      <td>47213.498162</td>\n",
              "      <td>48835.087661</td>\n",
              "      <td>49705.333316</td>\n",
              "      <td>6.369552e+10</td>\n",
              "      <td>9.263931e+11</td>\n",
              "    </tr>\n",
              "    <tr>\n",
              "      <th>2859</th>\n",
              "      <td>2860</td>\n",
              "      <td>Bitcoin</td>\n",
              "      <td>BTC</td>\n",
              "      <td>2021-02-25 23:59:59</td>\n",
              "      <td>51948.966982</td>\n",
              "      <td>47093.853019</td>\n",
              "      <td>49709.082425</td>\n",
              "      <td>47093.853019</td>\n",
              "      <td>5.450657e+10</td>\n",
              "      <td>8.777661e+11</td>\n",
              "    </tr>\n",
              "    <tr>\n",
              "      <th>2860</th>\n",
              "      <td>2861</td>\n",
              "      <td>Bitcoin</td>\n",
              "      <td>BTC</td>\n",
              "      <td>2021-02-26 23:59:59</td>\n",
              "      <td>48370.785260</td>\n",
              "      <td>44454.842114</td>\n",
              "      <td>47180.464054</td>\n",
              "      <td>46339.760083</td>\n",
              "      <td>3.509679e+11</td>\n",
              "      <td>8.637523e+11</td>\n",
              "    </tr>\n",
              "    <tr>\n",
              "      <th>2861</th>\n",
              "      <td>2862</td>\n",
              "      <td>Bitcoin</td>\n",
              "      <td>BTC</td>\n",
              "      <td>2021-02-27 23:59:59</td>\n",
              "      <td>48253.270101</td>\n",
              "      <td>45269.025766</td>\n",
              "      <td>46344.772237</td>\n",
              "      <td>46188.451275</td>\n",
              "      <td>4.591095e+10</td>\n",
              "      <td>8.609781e+11</td>\n",
              "    </tr>\n",
              "  </tbody>\n",
              "</table>\n",
              "</div>"
            ],
            "text/plain": [
              "       SNo     Name Symbol  ...         Close        Volume     Marketcap\n",
              "2857  2858  Bitcoin    BTC  ...  48824.426869  1.061025e+11  9.099259e+11\n",
              "2858  2859  Bitcoin    BTC  ...  49705.333316  6.369552e+10  9.263931e+11\n",
              "2859  2860  Bitcoin    BTC  ...  47093.853019  5.450657e+10  8.777661e+11\n",
              "2860  2861  Bitcoin    BTC  ...  46339.760083  3.509679e+11  8.637523e+11\n",
              "2861  2862  Bitcoin    BTC  ...  46188.451275  4.591095e+10  8.609781e+11\n",
              "\n",
              "[5 rows x 10 columns]"
            ]
          },
          "metadata": {
            "tags": []
          },
          "execution_count": 58
        }
      ]
    },
    {
      "cell_type": "code",
      "metadata": {
        "colab": {
          "base_uri": "https://localhost:8080/",
          "height": 297
        },
        "id": "1x__2utWyqkf",
        "outputId": "62ae2ad5-275c-4447-cf9c-8deb81fcfb04"
      },
      "source": [
        "data.describe() "
      ],
      "execution_count": 59,
      "outputs": [
        {
          "output_type": "execute_result",
          "data": {
            "text/html": [
              "<div>\n",
              "<style scoped>\n",
              "    .dataframe tbody tr th:only-of-type {\n",
              "        vertical-align: middle;\n",
              "    }\n",
              "\n",
              "    .dataframe tbody tr th {\n",
              "        vertical-align: top;\n",
              "    }\n",
              "\n",
              "    .dataframe thead th {\n",
              "        text-align: right;\n",
              "    }\n",
              "</style>\n",
              "<table border=\"1\" class=\"dataframe\">\n",
              "  <thead>\n",
              "    <tr style=\"text-align: right;\">\n",
              "      <th></th>\n",
              "      <th>SNo</th>\n",
              "      <th>High</th>\n",
              "      <th>Low</th>\n",
              "      <th>Open</th>\n",
              "      <th>Close</th>\n",
              "      <th>Volume</th>\n",
              "      <th>Marketcap</th>\n",
              "    </tr>\n",
              "  </thead>\n",
              "  <tbody>\n",
              "    <tr>\n",
              "      <th>count</th>\n",
              "      <td>2862.00000</td>\n",
              "      <td>2862.000000</td>\n",
              "      <td>2862.000000</td>\n",
              "      <td>2862.000000</td>\n",
              "      <td>2862.000000</td>\n",
              "      <td>2.862000e+03</td>\n",
              "      <td>2.862000e+03</td>\n",
              "    </tr>\n",
              "    <tr>\n",
              "      <th>mean</th>\n",
              "      <td>1431.50000</td>\n",
              "      <td>4974.040239</td>\n",
              "      <td>4695.103027</td>\n",
              "      <td>4836.306834</td>\n",
              "      <td>4852.092547</td>\n",
              "      <td>8.978475e+09</td>\n",
              "      <td>8.591622e+10</td>\n",
              "    </tr>\n",
              "    <tr>\n",
              "      <th>std</th>\n",
              "      <td>826.33256</td>\n",
              "      <td>7188.836678</td>\n",
              "      <td>6667.197596</td>\n",
              "      <td>6933.573446</td>\n",
              "      <td>6975.105869</td>\n",
              "      <td>1.658135e+10</td>\n",
              "      <td>1.287414e+11</td>\n",
              "    </tr>\n",
              "    <tr>\n",
              "      <th>min</th>\n",
              "      <td>1.00000</td>\n",
              "      <td>74.561096</td>\n",
              "      <td>65.526001</td>\n",
              "      <td>68.504997</td>\n",
              "      <td>68.431000</td>\n",
              "      <td>0.000000e+00</td>\n",
              "      <td>7.784112e+08</td>\n",
              "    </tr>\n",
              "    <tr>\n",
              "      <th>25%</th>\n",
              "      <td>716.25000</td>\n",
              "      <td>426.047752</td>\n",
              "      <td>415.675751</td>\n",
              "      <td>421.204506</td>\n",
              "      <td>420.989243</td>\n",
              "      <td>2.786250e+07</td>\n",
              "      <td>5.988997e+09</td>\n",
              "    </tr>\n",
              "    <tr>\n",
              "      <th>50%</th>\n",
              "      <td>1431.50000</td>\n",
              "      <td>1197.334961</td>\n",
              "      <td>1164.174988</td>\n",
              "      <td>1180.100037</td>\n",
              "      <td>1182.809998</td>\n",
              "      <td>3.301950e+08</td>\n",
              "      <td>1.924238e+10</td>\n",
              "    </tr>\n",
              "    <tr>\n",
              "      <th>75%</th>\n",
              "      <td>2146.75000</td>\n",
              "      <td>8138.046589</td>\n",
              "      <td>7703.357500</td>\n",
              "      <td>7924.612338</td>\n",
              "      <td>7926.696939</td>\n",
              "      <td>1.296743e+10</td>\n",
              "      <td>1.387658e+11</td>\n",
              "    </tr>\n",
              "    <tr>\n",
              "      <th>max</th>\n",
              "      <td>2862.00000</td>\n",
              "      <td>58330.572142</td>\n",
              "      <td>55672.609513</td>\n",
              "      <td>57532.738864</td>\n",
              "      <td>57539.943668</td>\n",
              "      <td>3.509679e+11</td>\n",
              "      <td>1.072263e+12</td>\n",
              "    </tr>\n",
              "  </tbody>\n",
              "</table>\n",
              "</div>"
            ],
            "text/plain": [
              "              SNo          High  ...        Volume     Marketcap\n",
              "count  2862.00000   2862.000000  ...  2.862000e+03  2.862000e+03\n",
              "mean   1431.50000   4974.040239  ...  8.978475e+09  8.591622e+10\n",
              "std     826.33256   7188.836678  ...  1.658135e+10  1.287414e+11\n",
              "min       1.00000     74.561096  ...  0.000000e+00  7.784112e+08\n",
              "25%     716.25000    426.047752  ...  2.786250e+07  5.988997e+09\n",
              "50%    1431.50000   1197.334961  ...  3.301950e+08  1.924238e+10\n",
              "75%    2146.75000   8138.046589  ...  1.296743e+10  1.387658e+11\n",
              "max    2862.00000  58330.572142  ...  3.509679e+11  1.072263e+12\n",
              "\n",
              "[8 rows x 7 columns]"
            ]
          },
          "metadata": {
            "tags": []
          },
          "execution_count": 59
        }
      ]
    },
    {
      "cell_type": "code",
      "metadata": {
        "colab": {
          "base_uri": "https://localhost:8080/"
        },
        "id": "hGVWcGcJyNrL",
        "outputId": "ab0f6a43-ab59-49d0-e6a1-bce7ae624e78"
      },
      "source": [
        "data.shape #to check the shape of the data for bitcoin "
      ],
      "execution_count": 60,
      "outputs": [
        {
          "output_type": "execute_result",
          "data": {
            "text/plain": [
              "(2862, 10)"
            ]
          },
          "metadata": {
            "tags": []
          },
          "execution_count": 60
        }
      ]
    },
    {
      "cell_type": "code",
      "metadata": {
        "colab": {
          "base_uri": "https://localhost:8080/"
        },
        "id": "OK9i6ZJ8zu9a",
        "outputId": "f608f116-572a-43db-bd49-b8f35ebe379e"
      },
      "source": [
        "data.columns"
      ],
      "execution_count": 61,
      "outputs": [
        {
          "output_type": "execute_result",
          "data": {
            "text/plain": [
              "Index(['SNo', 'Name', 'Symbol', 'Date', 'High', 'Low', 'Open', 'Close',\n",
              "       'Volume', 'Marketcap'],\n",
              "      dtype='object')"
            ]
          },
          "metadata": {
            "tags": []
          },
          "execution_count": 61
        }
      ]
    },
    {
      "cell_type": "code",
      "metadata": {
        "id": "icXeUiQB8RV7",
        "colab": {
          "base_uri": "https://localhost:8080/"
        },
        "outputId": "09a30b09-6ebf-43c7-d94b-73d17c04e09f"
      },
      "source": [
        "data.nunique() #displays the unique values "
      ],
      "execution_count": 62,
      "outputs": [
        {
          "output_type": "execute_result",
          "data": {
            "text/plain": [
              "SNo          2862\n",
              "Name            1\n",
              "Symbol          1\n",
              "Date         2862\n",
              "High         2852\n",
              "Low          2856\n",
              "Open         2855\n",
              "Close        2849\n",
              "Volume       2621\n",
              "Marketcap    2861\n",
              "dtype: int64"
            ]
          },
          "metadata": {
            "tags": []
          },
          "execution_count": 62
        }
      ]
    },
    {
      "cell_type": "code",
      "metadata": {
        "id": "L4U45Kzr8sBa",
        "colab": {
          "base_uri": "https://localhost:8080/"
        },
        "outputId": "2e19e314-e31b-48e4-e93b-125ead780bad"
      },
      "source": [
        "data['Marketcap'].unique()  #looking for specific unique value"
      ],
      "execution_count": 63,
      "outputs": [
        {
          "output_type": "execute_result",
          "data": {
            "text/plain": [
              "array([1.60376886e+09, 1.54281312e+09, 1.29895459e+09, ...,\n",
              "       8.77766126e+11, 8.63752275e+11, 8.60978135e+11])"
            ]
          },
          "metadata": {
            "tags": []
          },
          "execution_count": 63
        }
      ]
    },
    {
      "cell_type": "code",
      "metadata": {
        "id": "mCzfktI_9NNx"
      },
      "source": [
        "#cleaning the data "
      ],
      "execution_count": 64,
      "outputs": []
    },
    {
      "cell_type": "code",
      "metadata": {
        "id": "TLdkpPhh9axP",
        "colab": {
          "base_uri": "https://localhost:8080/"
        },
        "outputId": "e905d5be-dda1-4d0e-adf5-fffc02bfc399"
      },
      "source": [
        "data.isnull().sum() #checking null values in the dataset "
      ],
      "execution_count": 65,
      "outputs": [
        {
          "output_type": "execute_result",
          "data": {
            "text/plain": [
              "SNo          0\n",
              "Name         0\n",
              "Symbol       0\n",
              "Date         0\n",
              "High         0\n",
              "Low          0\n",
              "Open         0\n",
              "Close        0\n",
              "Volume       0\n",
              "Marketcap    0\n",
              "dtype: int64"
            ]
          },
          "metadata": {
            "tags": []
          },
          "execution_count": 65
        }
      ]
    },
    {
      "cell_type": "code",
      "metadata": {
        "id": "vLBr4q71Ikld"
      },
      "source": [
        "crypto = 'BTC'\n",
        "currency = 'USD'\n",
        "\n",
        "start = dt.datetime(2015,1,1)\n",
        "end = dt.datetime.now()\n",
        "\n",
        "data = web.DataReader(f\"{crypto}-{currency}\", \"yahoo\", start, end)"
      ],
      "execution_count": 66,
      "outputs": []
    },
    {
      "cell_type": "code",
      "metadata": {
        "id": "zb3l_v2cJUCP"
      },
      "source": [
        "data.index = pd.to_datetime(data.index)"
      ],
      "execution_count": 67,
      "outputs": []
    },
    {
      "cell_type": "code",
      "metadata": {
        "id": "2PpBrvWPJVlz",
        "colab": {
          "base_uri": "https://localhost:8080/",
          "height": 450
        },
        "outputId": "3601b944-cea2-41c2-c480-84ecc719bd19"
      },
      "source": [
        "data"
      ],
      "execution_count": 68,
      "outputs": [
        {
          "output_type": "execute_result",
          "data": {
            "text/html": [
              "<div>\n",
              "<style scoped>\n",
              "    .dataframe tbody tr th:only-of-type {\n",
              "        vertical-align: middle;\n",
              "    }\n",
              "\n",
              "    .dataframe tbody tr th {\n",
              "        vertical-align: top;\n",
              "    }\n",
              "\n",
              "    .dataframe thead th {\n",
              "        text-align: right;\n",
              "    }\n",
              "</style>\n",
              "<table border=\"1\" class=\"dataframe\">\n",
              "  <thead>\n",
              "    <tr style=\"text-align: right;\">\n",
              "      <th></th>\n",
              "      <th>High</th>\n",
              "      <th>Low</th>\n",
              "      <th>Open</th>\n",
              "      <th>Close</th>\n",
              "      <th>Volume</th>\n",
              "      <th>Adj Close</th>\n",
              "    </tr>\n",
              "    <tr>\n",
              "      <th>Date</th>\n",
              "      <th></th>\n",
              "      <th></th>\n",
              "      <th></th>\n",
              "      <th></th>\n",
              "      <th></th>\n",
              "      <th></th>\n",
              "    </tr>\n",
              "  </thead>\n",
              "  <tbody>\n",
              "    <tr>\n",
              "      <th>2015-01-01</th>\n",
              "      <td>320.434998</td>\n",
              "      <td>314.002991</td>\n",
              "      <td>320.434998</td>\n",
              "      <td>314.248993</td>\n",
              "      <td>8.036550e+06</td>\n",
              "      <td>314.248993</td>\n",
              "    </tr>\n",
              "    <tr>\n",
              "      <th>2015-01-02</th>\n",
              "      <td>315.838989</td>\n",
              "      <td>313.565002</td>\n",
              "      <td>314.079010</td>\n",
              "      <td>315.032013</td>\n",
              "      <td>7.860650e+06</td>\n",
              "      <td>315.032013</td>\n",
              "    </tr>\n",
              "    <tr>\n",
              "      <th>2015-01-03</th>\n",
              "      <td>315.149994</td>\n",
              "      <td>281.082001</td>\n",
              "      <td>314.846008</td>\n",
              "      <td>281.082001</td>\n",
              "      <td>3.305440e+07</td>\n",
              "      <td>281.082001</td>\n",
              "    </tr>\n",
              "    <tr>\n",
              "      <th>2015-01-04</th>\n",
              "      <td>287.230011</td>\n",
              "      <td>257.612000</td>\n",
              "      <td>281.145996</td>\n",
              "      <td>264.195007</td>\n",
              "      <td>5.562910e+07</td>\n",
              "      <td>264.195007</td>\n",
              "    </tr>\n",
              "    <tr>\n",
              "      <th>2015-01-05</th>\n",
              "      <td>278.341003</td>\n",
              "      <td>265.084015</td>\n",
              "      <td>265.084015</td>\n",
              "      <td>274.473999</td>\n",
              "      <td>4.396280e+07</td>\n",
              "      <td>274.473999</td>\n",
              "    </tr>\n",
              "    <tr>\n",
              "      <th>...</th>\n",
              "      <td>...</td>\n",
              "      <td>...</td>\n",
              "      <td>...</td>\n",
              "      <td>...</td>\n",
              "      <td>...</td>\n",
              "      <td>...</td>\n",
              "    </tr>\n",
              "    <tr>\n",
              "      <th>2021-06-24</th>\n",
              "      <td>35487.246094</td>\n",
              "      <td>31350.884766</td>\n",
              "      <td>34659.105469</td>\n",
              "      <td>31637.779297</td>\n",
              "      <td>4.023090e+10</td>\n",
              "      <td>31637.779297</td>\n",
              "    </tr>\n",
              "    <tr>\n",
              "      <th>2021-06-25</th>\n",
              "      <td>32637.587891</td>\n",
              "      <td>30184.501953</td>\n",
              "      <td>31594.664062</td>\n",
              "      <td>32186.277344</td>\n",
              "      <td>3.858539e+10</td>\n",
              "      <td>32186.277344</td>\n",
              "    </tr>\n",
              "    <tr>\n",
              "      <th>2021-06-26</th>\n",
              "      <td>34656.128906</td>\n",
              "      <td>32071.757812</td>\n",
              "      <td>32287.523438</td>\n",
              "      <td>34649.644531</td>\n",
              "      <td>3.551164e+10</td>\n",
              "      <td>34649.644531</td>\n",
              "    </tr>\n",
              "    <tr>\n",
              "      <th>2021-06-27</th>\n",
              "      <td>35219.890625</td>\n",
              "      <td>33902.074219</td>\n",
              "      <td>34679.121094</td>\n",
              "      <td>34434.335938</td>\n",
              "      <td>3.389252e+10</td>\n",
              "      <td>34434.335938</td>\n",
              "    </tr>\n",
              "    <tr>\n",
              "      <th>2021-06-29</th>\n",
              "      <td>36542.109375</td>\n",
              "      <td>34252.484375</td>\n",
              "      <td>34449.105469</td>\n",
              "      <td>36203.757812</td>\n",
              "      <td>3.772267e+10</td>\n",
              "      <td>36203.757812</td>\n",
              "    </tr>\n",
              "  </tbody>\n",
              "</table>\n",
              "<p>2368 rows × 6 columns</p>\n",
              "</div>"
            ],
            "text/plain": [
              "                    High           Low  ...        Volume     Adj Close\n",
              "Date                                    ...                            \n",
              "2015-01-01    320.434998    314.002991  ...  8.036550e+06    314.248993\n",
              "2015-01-02    315.838989    313.565002  ...  7.860650e+06    315.032013\n",
              "2015-01-03    315.149994    281.082001  ...  3.305440e+07    281.082001\n",
              "2015-01-04    287.230011    257.612000  ...  5.562910e+07    264.195007\n",
              "2015-01-05    278.341003    265.084015  ...  4.396280e+07    274.473999\n",
              "...                  ...           ...  ...           ...           ...\n",
              "2021-06-24  35487.246094  31350.884766  ...  4.023090e+10  31637.779297\n",
              "2021-06-25  32637.587891  30184.501953  ...  3.858539e+10  32186.277344\n",
              "2021-06-26  34656.128906  32071.757812  ...  3.551164e+10  34649.644531\n",
              "2021-06-27  35219.890625  33902.074219  ...  3.389252e+10  34434.335938\n",
              "2021-06-29  36542.109375  34252.484375  ...  3.772267e+10  36203.757812\n",
              "\n",
              "[2368 rows x 6 columns]"
            ]
          },
          "metadata": {
            "tags": []
          },
          "execution_count": 68
        }
      ]
    },
    {
      "cell_type": "code",
      "metadata": {
        "id": "U7TbCcBJJggW"
      },
      "source": [
        "#preparing the data\n",
        "\n",
        "scaler = MinMaxScaler(feature_range=(0,1))\n",
        "scaled_data = scaler.fit_transform(data['Close'].values.reshape(-1,1))"
      ],
      "execution_count": 69,
      "outputs": []
    },
    {
      "cell_type": "code",
      "metadata": {
        "id": "Cv36ygc3J0hf"
      },
      "source": [
        "pred_days = 30 # number of days for the prediction"
      ],
      "execution_count": 70,
      "outputs": []
    },
    {
      "cell_type": "code",
      "metadata": {
        "id": "jqfHahXpKAgN"
      },
      "source": [
        "x_train, y_train = [], []\n",
        "\n",
        "for x in range(pred_days, len(scaled_data)):\n",
        "  x_train.append(scaled_data[x-pred_days:x, 0])\n",
        "  y_train.append(scaled_data[x, 0])"
      ],
      "execution_count": 71,
      "outputs": []
    },
    {
      "cell_type": "code",
      "metadata": {
        "id": "7q1t6movKCJC"
      },
      "source": [
        "x_train, y_train = np.array(x_train), np.array(y_train)\n",
        "x_train = np.reshape(x_train, (x_train.shape[0], x_train.shape[1], 1))"
      ],
      "execution_count": 72,
      "outputs": []
    },
    {
      "cell_type": "code",
      "metadata": {
        "id": "OhGSuykjLzKX",
        "colab": {
          "base_uri": "https://localhost:8080/"
        },
        "outputId": "3c9fe892-93d0-4f33-fe73-342e7ada7f80"
      },
      "source": [
        "model = Sequential()\n",
        "\n",
        "model.add(LSTM(units=50, return_sequences=True, input_shape=(x_train.shape[1], 1)))\n",
        "model.add(Dropout(0.2))\n",
        "model.add(LSTM(units=50, return_sequences=True))\n",
        "model.add(Dropout(0.2))\n",
        "model.add(LSTM(units=50))\n",
        "model.add(Dropout(0.2))\n",
        "model.add(Dense(1))\n",
        "\n",
        "model.compile(optimizer='adam', loss='mean_squared_error')\n",
        "model.fit(x_train, y_train, epochs=30, batch_size=32)"
      ],
      "execution_count": 73,
      "outputs": [
        {
          "output_type": "stream",
          "text": [
            "Epoch 1/30\n",
            "74/74 [==============================] - 7s 40ms/step - loss: 0.0067\n",
            "Epoch 2/30\n",
            "74/74 [==============================] - 3s 40ms/step - loss: 0.0021\n",
            "Epoch 3/30\n",
            "74/74 [==============================] - 3s 39ms/step - loss: 0.0017\n",
            "Epoch 4/30\n",
            "74/74 [==============================] - 3s 40ms/step - loss: 0.0016\n",
            "Epoch 5/30\n",
            "74/74 [==============================] - 3s 40ms/step - loss: 0.0013\n",
            "Epoch 6/30\n",
            "74/74 [==============================] - 3s 40ms/step - loss: 0.0014\n",
            "Epoch 7/30\n",
            "74/74 [==============================] - 3s 40ms/step - loss: 0.0013\n",
            "Epoch 8/30\n",
            "74/74 [==============================] - 3s 39ms/step - loss: 0.0011\n",
            "Epoch 9/30\n",
            "74/74 [==============================] - 3s 40ms/step - loss: 0.0011\n",
            "Epoch 10/30\n",
            "74/74 [==============================] - 3s 40ms/step - loss: 0.0013\n",
            "Epoch 11/30\n",
            "74/74 [==============================] - 3s 40ms/step - loss: 0.0010\n",
            "Epoch 12/30\n",
            "74/74 [==============================] - 3s 40ms/step - loss: 9.2457e-04\n",
            "Epoch 13/30\n",
            "74/74 [==============================] - 3s 39ms/step - loss: 9.8756e-04\n",
            "Epoch 14/30\n",
            "74/74 [==============================] - 3s 39ms/step - loss: 8.8092e-04\n",
            "Epoch 15/30\n",
            "74/74 [==============================] - 3s 39ms/step - loss: 0.0010\n",
            "Epoch 16/30\n",
            "74/74 [==============================] - 3s 40ms/step - loss: 0.0014\n",
            "Epoch 17/30\n",
            "74/74 [==============================] - 3s 40ms/step - loss: 9.0982e-04\n",
            "Epoch 18/30\n",
            "74/74 [==============================] - 3s 39ms/step - loss: 0.0017\n",
            "Epoch 19/30\n",
            "74/74 [==============================] - 3s 39ms/step - loss: 8.3714e-04\n",
            "Epoch 20/30\n",
            "74/74 [==============================] - 3s 39ms/step - loss: 7.7625e-04\n",
            "Epoch 21/30\n",
            "74/74 [==============================] - 3s 39ms/step - loss: 8.2867e-04\n",
            "Epoch 22/30\n",
            "74/74 [==============================] - 3s 40ms/step - loss: 8.4691e-04\n",
            "Epoch 23/30\n",
            "74/74 [==============================] - 3s 39ms/step - loss: 7.4808e-04\n",
            "Epoch 24/30\n",
            "74/74 [==============================] - 3s 40ms/step - loss: 6.9079e-04\n",
            "Epoch 25/30\n",
            "74/74 [==============================] - 3s 40ms/step - loss: 5.9761e-04\n",
            "Epoch 26/30\n",
            "74/74 [==============================] - 3s 40ms/step - loss: 7.1295e-04\n",
            "Epoch 27/30\n",
            "74/74 [==============================] - 3s 40ms/step - loss: 7.4696e-04\n",
            "Epoch 28/30\n",
            "74/74 [==============================] - 3s 40ms/step - loss: 6.4578e-04\n",
            "Epoch 29/30\n",
            "74/74 [==============================] - 3s 40ms/step - loss: 7.2645e-04\n",
            "Epoch 30/30\n",
            "74/74 [==============================] - 3s 40ms/step - loss: 7.5358e-04\n"
          ],
          "name": "stdout"
        },
        {
          "output_type": "execute_result",
          "data": {
            "text/plain": [
              "<tensorflow.python.keras.callbacks.History at 0x7faa8ff23e90>"
            ]
          },
          "metadata": {
            "tags": []
          },
          "execution_count": 73
        }
      ]
    },
    {
      "cell_type": "code",
      "metadata": {
        "id": "GS0BhtSpMfdF"
      },
      "source": [
        "test_start = dt.datetime(2021,6,1)\n",
        "test_end = dt.datetime.now()\n",
        "\n",
        "test_data = web.DataReader(f\"{crypto}-{currency}\", \"yahoo\", test_start, test_end)"
      ],
      "execution_count": 74,
      "outputs": []
    },
    {
      "cell_type": "code",
      "metadata": {
        "id": "Gsq06U39MlKT"
      },
      "source": [
        "test_data.index = pd.to_datetime(test_data.index)"
      ],
      "execution_count": 75,
      "outputs": []
    },
    {
      "cell_type": "code",
      "metadata": {
        "id": "ICTI0LstMlyb",
        "colab": {
          "base_uri": "https://localhost:8080/",
          "height": 979
        },
        "outputId": "f5e19f97-c767-47f0-a438-e1e16c322d43"
      },
      "source": [
        "test_data #displaying the current data until the exact date provided "
      ],
      "execution_count": 76,
      "outputs": [
        {
          "output_type": "execute_result",
          "data": {
            "text/html": [
              "<div>\n",
              "<style scoped>\n",
              "    .dataframe tbody tr th:only-of-type {\n",
              "        vertical-align: middle;\n",
              "    }\n",
              "\n",
              "    .dataframe tbody tr th {\n",
              "        vertical-align: top;\n",
              "    }\n",
              "\n",
              "    .dataframe thead th {\n",
              "        text-align: right;\n",
              "    }\n",
              "</style>\n",
              "<table border=\"1\" class=\"dataframe\">\n",
              "  <thead>\n",
              "    <tr style=\"text-align: right;\">\n",
              "      <th></th>\n",
              "      <th>High</th>\n",
              "      <th>Low</th>\n",
              "      <th>Open</th>\n",
              "      <th>Close</th>\n",
              "      <th>Volume</th>\n",
              "      <th>Adj Close</th>\n",
              "    </tr>\n",
              "    <tr>\n",
              "      <th>Date</th>\n",
              "      <th></th>\n",
              "      <th></th>\n",
              "      <th></th>\n",
              "      <th></th>\n",
              "      <th></th>\n",
              "      <th></th>\n",
              "    </tr>\n",
              "  </thead>\n",
              "  <tbody>\n",
              "    <tr>\n",
              "      <th>2021-05-31</th>\n",
              "      <td>37896.734375</td>\n",
              "      <td>35787.085938</td>\n",
              "      <td>37293.792969</td>\n",
              "      <td>36684.925781</td>\n",
              "      <td>34639423297</td>\n",
              "      <td>36684.925781</td>\n",
              "    </tr>\n",
              "    <tr>\n",
              "      <th>2021-06-01</th>\n",
              "      <td>38231.339844</td>\n",
              "      <td>35966.308594</td>\n",
              "      <td>36699.921875</td>\n",
              "      <td>37575.179688</td>\n",
              "      <td>33070867190</td>\n",
              "      <td>37575.179688</td>\n",
              "    </tr>\n",
              "    <tr>\n",
              "      <th>2021-06-02</th>\n",
              "      <td>39478.953125</td>\n",
              "      <td>37243.972656</td>\n",
              "      <td>37599.410156</td>\n",
              "      <td>39208.765625</td>\n",
              "      <td>35460750427</td>\n",
              "      <td>39208.765625</td>\n",
              "    </tr>\n",
              "    <tr>\n",
              "      <th>2021-06-03</th>\n",
              "      <td>39242.484375</td>\n",
              "      <td>35717.722656</td>\n",
              "      <td>39242.484375</td>\n",
              "      <td>36894.406250</td>\n",
              "      <td>41831090187</td>\n",
              "      <td>36894.406250</td>\n",
              "    </tr>\n",
              "    <tr>\n",
              "      <th>2021-06-04</th>\n",
              "      <td>37917.714844</td>\n",
              "      <td>34900.414062</td>\n",
              "      <td>36880.156250</td>\n",
              "      <td>35551.957031</td>\n",
              "      <td>35959473399</td>\n",
              "      <td>35551.957031</td>\n",
              "    </tr>\n",
              "    <tr>\n",
              "      <th>2021-06-05</th>\n",
              "      <td>36436.421875</td>\n",
              "      <td>35304.578125</td>\n",
              "      <td>35538.609375</td>\n",
              "      <td>35862.378906</td>\n",
              "      <td>28913440585</td>\n",
              "      <td>35862.378906</td>\n",
              "    </tr>\n",
              "    <tr>\n",
              "      <th>2021-06-06</th>\n",
              "      <td>36790.570312</td>\n",
              "      <td>33480.640625</td>\n",
              "      <td>35835.265625</td>\n",
              "      <td>33560.707031</td>\n",
              "      <td>33683936663</td>\n",
              "      <td>33560.707031</td>\n",
              "    </tr>\n",
              "    <tr>\n",
              "      <th>2021-06-07</th>\n",
              "      <td>34017.386719</td>\n",
              "      <td>31114.443359</td>\n",
              "      <td>33589.519531</td>\n",
              "      <td>33472.632812</td>\n",
              "      <td>49902050442</td>\n",
              "      <td>33472.632812</td>\n",
              "    </tr>\n",
              "    <tr>\n",
              "      <th>2021-06-08</th>\n",
              "      <td>37537.371094</td>\n",
              "      <td>32475.865234</td>\n",
              "      <td>33416.976562</td>\n",
              "      <td>37345.121094</td>\n",
              "      <td>53972919008</td>\n",
              "      <td>37345.121094</td>\n",
              "    </tr>\n",
              "    <tr>\n",
              "      <th>2021-06-09</th>\n",
              "      <td>38334.324219</td>\n",
              "      <td>35847.593750</td>\n",
              "      <td>37389.515625</td>\n",
              "      <td>36702.597656</td>\n",
              "      <td>43576032854</td>\n",
              "      <td>36702.597656</td>\n",
              "    </tr>\n",
              "    <tr>\n",
              "      <th>2021-06-10</th>\n",
              "      <td>37608.695312</td>\n",
              "      <td>36044.449219</td>\n",
              "      <td>36697.031250</td>\n",
              "      <td>37334.398438</td>\n",
              "      <td>38699736985</td>\n",
              "      <td>37334.398438</td>\n",
              "    </tr>\n",
              "    <tr>\n",
              "      <th>2021-06-11</th>\n",
              "      <td>37408.925781</td>\n",
              "      <td>34728.191406</td>\n",
              "      <td>37340.144531</td>\n",
              "      <td>35552.515625</td>\n",
              "      <td>37924228550</td>\n",
              "      <td>35552.515625</td>\n",
              "    </tr>\n",
              "    <tr>\n",
              "      <th>2021-06-12</th>\n",
              "      <td>39322.781250</td>\n",
              "      <td>34864.109375</td>\n",
              "      <td>35555.789062</td>\n",
              "      <td>39097.859375</td>\n",
              "      <td>40669112838</td>\n",
              "      <td>39097.859375</td>\n",
              "    </tr>\n",
              "    <tr>\n",
              "      <th>2021-06-13</th>\n",
              "      <td>40978.363281</td>\n",
              "      <td>38757.285156</td>\n",
              "      <td>39016.968750</td>\n",
              "      <td>40218.476562</td>\n",
              "      <td>43148914673</td>\n",
              "      <td>40218.476562</td>\n",
              "    </tr>\n",
              "    <tr>\n",
              "      <th>2021-06-14</th>\n",
              "      <td>41295.269531</td>\n",
              "      <td>39609.468750</td>\n",
              "      <td>40427.167969</td>\n",
              "      <td>40406.269531</td>\n",
              "      <td>46420149185</td>\n",
              "      <td>40406.269531</td>\n",
              "    </tr>\n",
              "    <tr>\n",
              "      <th>2021-06-15</th>\n",
              "      <td>40516.777344</td>\n",
              "      <td>38176.035156</td>\n",
              "      <td>40168.691406</td>\n",
              "      <td>38347.062500</td>\n",
              "      <td>39211635100</td>\n",
              "      <td>38347.062500</td>\n",
              "    </tr>\n",
              "    <tr>\n",
              "      <th>2021-06-16</th>\n",
              "      <td>39513.671875</td>\n",
              "      <td>37439.675781</td>\n",
              "      <td>38341.421875</td>\n",
              "      <td>38053.503906</td>\n",
              "      <td>37096670047</td>\n",
              "      <td>38053.503906</td>\n",
              "    </tr>\n",
              "    <tr>\n",
              "      <th>2021-06-17</th>\n",
              "      <td>38187.261719</td>\n",
              "      <td>35255.855469</td>\n",
              "      <td>38099.476562</td>\n",
              "      <td>35787.246094</td>\n",
              "      <td>36200887275</td>\n",
              "      <td>35787.246094</td>\n",
              "    </tr>\n",
              "    <tr>\n",
              "      <th>2021-06-18</th>\n",
              "      <td>36457.796875</td>\n",
              "      <td>34933.062500</td>\n",
              "      <td>35854.527344</td>\n",
              "      <td>35615.871094</td>\n",
              "      <td>31207279719</td>\n",
              "      <td>35615.871094</td>\n",
              "    </tr>\n",
              "    <tr>\n",
              "      <th>2021-06-19</th>\n",
              "      <td>36059.484375</td>\n",
              "      <td>33432.074219</td>\n",
              "      <td>35563.140625</td>\n",
              "      <td>35698.296875</td>\n",
              "      <td>36664034054</td>\n",
              "      <td>35698.296875</td>\n",
              "    </tr>\n",
              "    <tr>\n",
              "      <th>2021-06-20</th>\n",
              "      <td>35721.640625</td>\n",
              "      <td>31295.935547</td>\n",
              "      <td>35641.144531</td>\n",
              "      <td>31676.693359</td>\n",
              "      <td>52809038594</td>\n",
              "      <td>31676.693359</td>\n",
              "    </tr>\n",
              "    <tr>\n",
              "      <th>2021-06-21</th>\n",
              "      <td>33292.453125</td>\n",
              "      <td>28893.621094</td>\n",
              "      <td>31622.376953</td>\n",
              "      <td>32505.660156</td>\n",
              "      <td>58964353058</td>\n",
              "      <td>32505.660156</td>\n",
              "    </tr>\n",
              "    <tr>\n",
              "      <th>2021-06-22</th>\n",
              "      <td>34753.410156</td>\n",
              "      <td>31772.632812</td>\n",
              "      <td>32515.714844</td>\n",
              "      <td>33723.027344</td>\n",
              "      <td>46317108925</td>\n",
              "      <td>33723.027344</td>\n",
              "    </tr>\n",
              "    <tr>\n",
              "      <th>2021-06-23</th>\n",
              "      <td>35228.851562</td>\n",
              "      <td>32385.214844</td>\n",
              "      <td>33682.800781</td>\n",
              "      <td>34662.437500</td>\n",
              "      <td>33123368116</td>\n",
              "      <td>34662.437500</td>\n",
              "    </tr>\n",
              "    <tr>\n",
              "      <th>2021-06-24</th>\n",
              "      <td>35487.246094</td>\n",
              "      <td>31350.884766</td>\n",
              "      <td>34659.105469</td>\n",
              "      <td>31637.779297</td>\n",
              "      <td>40230904226</td>\n",
              "      <td>31637.779297</td>\n",
              "    </tr>\n",
              "    <tr>\n",
              "      <th>2021-06-25</th>\n",
              "      <td>32637.587891</td>\n",
              "      <td>30184.501953</td>\n",
              "      <td>31594.664062</td>\n",
              "      <td>32186.277344</td>\n",
              "      <td>38585385521</td>\n",
              "      <td>32186.277344</td>\n",
              "    </tr>\n",
              "    <tr>\n",
              "      <th>2021-06-26</th>\n",
              "      <td>34656.128906</td>\n",
              "      <td>32071.757812</td>\n",
              "      <td>32287.523438</td>\n",
              "      <td>34649.644531</td>\n",
              "      <td>35511640894</td>\n",
              "      <td>34649.644531</td>\n",
              "    </tr>\n",
              "    <tr>\n",
              "      <th>2021-06-27</th>\n",
              "      <td>35219.890625</td>\n",
              "      <td>33902.074219</td>\n",
              "      <td>34679.121094</td>\n",
              "      <td>34434.335938</td>\n",
              "      <td>33892523752</td>\n",
              "      <td>34434.335938</td>\n",
              "    </tr>\n",
              "    <tr>\n",
              "      <th>2021-06-29</th>\n",
              "      <td>36542.109375</td>\n",
              "      <td>34252.484375</td>\n",
              "      <td>34449.105469</td>\n",
              "      <td>36170.437500</td>\n",
              "      <td>37726289920</td>\n",
              "      <td>36170.437500</td>\n",
              "    </tr>\n",
              "  </tbody>\n",
              "</table>\n",
              "</div>"
            ],
            "text/plain": [
              "                    High           Low  ...       Volume     Adj Close\n",
              "Date                                    ...                           \n",
              "2021-05-31  37896.734375  35787.085938  ...  34639423297  36684.925781\n",
              "2021-06-01  38231.339844  35966.308594  ...  33070867190  37575.179688\n",
              "2021-06-02  39478.953125  37243.972656  ...  35460750427  39208.765625\n",
              "2021-06-03  39242.484375  35717.722656  ...  41831090187  36894.406250\n",
              "2021-06-04  37917.714844  34900.414062  ...  35959473399  35551.957031\n",
              "2021-06-05  36436.421875  35304.578125  ...  28913440585  35862.378906\n",
              "2021-06-06  36790.570312  33480.640625  ...  33683936663  33560.707031\n",
              "2021-06-07  34017.386719  31114.443359  ...  49902050442  33472.632812\n",
              "2021-06-08  37537.371094  32475.865234  ...  53972919008  37345.121094\n",
              "2021-06-09  38334.324219  35847.593750  ...  43576032854  36702.597656\n",
              "2021-06-10  37608.695312  36044.449219  ...  38699736985  37334.398438\n",
              "2021-06-11  37408.925781  34728.191406  ...  37924228550  35552.515625\n",
              "2021-06-12  39322.781250  34864.109375  ...  40669112838  39097.859375\n",
              "2021-06-13  40978.363281  38757.285156  ...  43148914673  40218.476562\n",
              "2021-06-14  41295.269531  39609.468750  ...  46420149185  40406.269531\n",
              "2021-06-15  40516.777344  38176.035156  ...  39211635100  38347.062500\n",
              "2021-06-16  39513.671875  37439.675781  ...  37096670047  38053.503906\n",
              "2021-06-17  38187.261719  35255.855469  ...  36200887275  35787.246094\n",
              "2021-06-18  36457.796875  34933.062500  ...  31207279719  35615.871094\n",
              "2021-06-19  36059.484375  33432.074219  ...  36664034054  35698.296875\n",
              "2021-06-20  35721.640625  31295.935547  ...  52809038594  31676.693359\n",
              "2021-06-21  33292.453125  28893.621094  ...  58964353058  32505.660156\n",
              "2021-06-22  34753.410156  31772.632812  ...  46317108925  33723.027344\n",
              "2021-06-23  35228.851562  32385.214844  ...  33123368116  34662.437500\n",
              "2021-06-24  35487.246094  31350.884766  ...  40230904226  31637.779297\n",
              "2021-06-25  32637.587891  30184.501953  ...  38585385521  32186.277344\n",
              "2021-06-26  34656.128906  32071.757812  ...  35511640894  34649.644531\n",
              "2021-06-27  35219.890625  33902.074219  ...  33892523752  34434.335938\n",
              "2021-06-29  36542.109375  34252.484375  ...  37726289920  36170.437500\n",
              "\n",
              "[29 rows x 6 columns]"
            ]
          },
          "metadata": {
            "tags": []
          },
          "execution_count": 76
        }
      ]
    },
    {
      "cell_type": "code",
      "metadata": {
        "id": "hHBdtwSQNkXA"
      },
      "source": [
        "actual_prices = test_data['Close']"
      ],
      "execution_count": 77,
      "outputs": []
    },
    {
      "cell_type": "code",
      "metadata": {
        "id": "DgRO3iCSNl8l",
        "colab": {
          "base_uri": "https://localhost:8080/"
        },
        "outputId": "6a88b2ce-13b8-4e63-ebb8-68ea0a36135d"
      },
      "source": [
        "actual_prices = np.array(actual_prices)\n",
        "actual_prices"
      ],
      "execution_count": 78,
      "outputs": [
        {
          "output_type": "execute_result",
          "data": {
            "text/plain": [
              "array([36684.92578125, 37575.1796875 , 39208.765625  , 36894.40625   ,\n",
              "       35551.95703125, 35862.37890625, 33560.70703125, 33472.6328125 ,\n",
              "       37345.12109375, 36702.59765625, 37334.3984375 , 35552.515625  ,\n",
              "       39097.859375  , 40218.4765625 , 40406.26953125, 38347.0625    ,\n",
              "       38053.50390625, 35787.24609375, 35615.87109375, 35698.296875  ,\n",
              "       31676.69335938, 32505.66015625, 33723.02734375, 34662.4375    ,\n",
              "       31637.77929688, 32186.27734375, 34649.64453125, 34434.3359375 ,\n",
              "       36170.4375    ])"
            ]
          },
          "metadata": {
            "tags": []
          },
          "execution_count": 78
        }
      ]
    },
    {
      "cell_type": "code",
      "metadata": {
        "id": "TGyLsinvNrfS"
      },
      "source": [
        "total_dataset = pd.concat((data['Close'], test_data['Close']), axis=0)"
      ],
      "execution_count": 79,
      "outputs": []
    },
    {
      "cell_type": "code",
      "metadata": {
        "id": "JqUjUTZ1Nwkv"
      },
      "source": [
        "total_dataset.index = pd.to_datetime(total_dataset.index)"
      ],
      "execution_count": 80,
      "outputs": []
    },
    {
      "cell_type": "code",
      "metadata": {
        "id": "XR0byySXNyiB"
      },
      "source": [
        "model_inputs = total_dataset[len(total_dataset)-len(test_data)-pred_days:].values\n",
        "model_inputs = model_inputs.reshape(-1, 1)\n",
        "model_inputs = scaler.fit_transform(model_inputs)"
      ],
      "execution_count": 81,
      "outputs": []
    },
    {
      "cell_type": "code",
      "metadata": {
        "id": "t_Ph1JZ8N1-S"
      },
      "source": [
        "x_test = []\n",
        "\n",
        "for x in range(pred_days, len(model_inputs)):\n",
        "  x_test.append(model_inputs[x-pred_days:x, 0])\n",
        "\n",
        "x_test = np.array(x_test)\n",
        "x_test = np.reshape(x_test, (x_test.shape[0], x_test.shape[1], 1))"
      ],
      "execution_count": 82,
      "outputs": []
    },
    {
      "cell_type": "code",
      "metadata": {
        "id": "vRZ1oLNwOP_B"
      },
      "source": [
        "prediction_prices = model.predict(x_test)\n",
        "prediction_prices = scaler.inverse_transform(prediction_prices)"
      ],
      "execution_count": 83,
      "outputs": []
    },
    {
      "cell_type": "code",
      "metadata": {
        "id": "kNEKbZi8OoNp",
        "colab": {
          "base_uri": "https://localhost:8080/",
          "height": 295
        },
        "outputId": "f3bdf083-547f-45fe-8d6f-7d1f9155d79e"
      },
      "source": [
        "plt.plot(actual_prices, color='red', label='Actual Prices')\n",
        "plt.plot(prediction_prices, color='green', label='Prediction Prices')\n",
        "plt.title(f\"{crypto}-{currency} Price Predictor\")\n",
        "plt.xlabel(\"Time\")\n",
        "plt.ylabel(\"Price\")\n",
        "plt.legend(loc=\"upper left\")\n",
        "plt.show()"
      ],
      "execution_count": 84,
      "outputs": [
        {
          "output_type": "display_data",
          "data": {
            "image/png": "[encoded data removed]",
            "text/plain": [
              "<Figure size 432x288 with 1 Axes>"
            ]
          },
          "metadata": {
            "tags": [],
            "needs_background": "light"
          }
        }
      ]
    }
  ]
}